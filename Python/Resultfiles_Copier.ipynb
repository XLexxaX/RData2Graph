{
 "cells": [
  {
   "cell_type": "code",
   "execution_count": 3,
   "metadata": {},
   "outputs": [],
   "source": [
    "import os\n",
    "import shutil"
   ]
  },
  {
   "cell_type": "code",
   "execution_count": 5,
   "metadata": {},
   "outputs": [],
   "source": [
    "basedir = \"C:\\\\Users\\\\D072202\\\\DeepAnyMatch\\\\DeepAnyMatch\\\\result_data\\\\oaei\\\\\"\n",
    "for root, dirs, files in os.walk(basedir):\n",
    "    for directory in dirs:\n",
    "        try:\n",
    "            if os.path.exists(basedir + directory + \"\\\\ml_matchings\\\\darkscape~oldschoolrunescape~results.xml\"):\n",
    "                os.mkdir(\"C:\\\\Users\\\\D072202\\\\eval\\\\oaei\\\\results\\\\(ML)\"+directory)\n",
    "                shutil.copy(basedir + directory + \"\\\\ml_matchings\\\\darkscape~oldschoolrunescape~results.xml\", \"C:\\\\Users\\\\D072202\\\\eval\\\\oaei\\\\results\\\\(ML)\"+directory+\"\\\\darkscape~oldschoolrunescape~results.xml\")\n",
    "            if os.path.exists(basedir + directory + \"\\\\married_matchings\\\\darkscape~oldschoolrunescape~results.xml\"):\n",
    "                os.mkdir(\"C:\\\\Users\\\\D072202\\\\eval\\\\oaei\\\\results\\\\(MARRIED)\"+directory)\n",
    "                shutil.copy(basedir + directory + \"\\\\married_matchings\\\\darkscape~oldschoolrunescape~results.xml\", \"C:\\\\Users\\\\D072202\\\\eval\\\\oaei\\\\results\\\\(MARRIED)\"+directory+\"\\\\darkscape~oldschoolrunescape~results.xml\")\n",
    "        except:\n",
    "            pass\n",
    "    break"
   ]
  },
  {
   "cell_type": "code",
   "execution_count": 2,
   "metadata": {},
   "outputs": [],
   "source": [
    "basedir = \"C:\\\\Users\\\\D072202\\\\DeepAnyMatch\\\\DeepAnyMatch\\\\result_data\\\\hilti\\\\\"\n",
    "for root, dirs, files in os.walk(basedir):\n",
    "    for directory in dirs:\n",
    "        try:\n",
    "            os.mkdir(\"C:\\\\Users\\\\D072202\\\\eval\\\\hilti\\\\results\\\\(MARRIED)\"+directory)\n",
    "            os.mkdir(\"C:\\\\Users\\\\D072202\\\\eval\\\\hilti\\\\results\\\\(ML)\"+directory)\n",
    "            shutil.copy(basedir + directory + \"\\\\ml_matchings\\\\darkscape~oldschoolrunescape~results.xml\", \"C:\\\\Users\\\\D072202\\\\eval\\\\hilti\\\\results\\\\(ML)\"+directory+\"\\\\darkscape~oldschoolrunescape~results.xml\")\n",
    "            shutil.copy(basedir + directory + \"\\\\married_matchings\\\\darkscape~oldschoolrunescape~results.xml\", \"C:\\\\Users\\\\D072202\\\\eval\\\\hilti\\\\results\\\\(MARRIED)\"+directory+\"\\\\darkscape~oldschoolrunescape~results.xml\")\n",
    "        except:\n",
    "            pass\n",
    "    break"
   ]
  },
  {
   "cell_type": "code",
   "execution_count": null,
   "metadata": {},
   "outputs": [],
   "source": []
  }
 ],
 "metadata": {
  "kernelspec": {
   "display_name": "Python 3",
   "language": "python",
   "name": "python3"
  },
  "language_info": {
   "codemirror_mode": {
    "name": "ipython",
    "version": 3
   },
   "file_extension": ".py",
   "mimetype": "text/x-python",
   "name": "python",
   "nbconvert_exporter": "python",
   "pygments_lexer": "ipython3",
   "version": "3.6.8"
  }
 },
 "nbformat": 4,
 "nbformat_minor": 2
}
