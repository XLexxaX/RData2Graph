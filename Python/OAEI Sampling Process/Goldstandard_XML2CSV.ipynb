{
 "cells": [
  {
   "cell_type": "code",
   "execution_count": 4,
   "metadata": {},
   "outputs": [],
   "source": [
    "import re"
   ]
  },
  {
   "cell_type": "code",
   "execution_count": 5,
   "metadata": {},
   "outputs": [
    {
     "name": "stdout",
     "output_type": "stream",
     "text": [
      "done\n"
     ]
    }
   ],
   "source": [
    "instances_x = set()\n",
    "instances_y = set()\n",
    "with open('../../data/oaei_data/instanceID-to-verticeID_darkscape.txt', 'r', encoding='UTF-8') as f:\n",
    "    for line in f:\n",
    "        line = line.split(\" \")\n",
    "        instances_x.add(line[0].replace('<','').replace('>',''))\n",
    "with open('../../data/oaei_data/instanceID-to-verticeID_oldschoolrunescape.txt', 'r', encoding='UTF-8') as f:\n",
    "    for line in f:\n",
    "        line = line.split(\" \")\n",
    "        instances_y.add(line[0].replace('<','').replace('>',''))\n",
    "print(\"done\")    "
   ]
  },
  {
   "cell_type": "code",
   "execution_count": 6,
   "metadata": {},
   "outputs": [
    {
     "name": "stdout",
     "output_type": "stream",
     "text": [
      "done\n"
     ]
    }
   ],
   "source": [
    "prefixes = []\n",
    "for prefix in prefixes:\n",
    "    out = open('../../data/'+prefix+'/'+prefix+'.csv','w+', encoding='UTF-8')\n",
    "    with open('../../data/'+prefix+'/'+prefix+'.xml', 'r', encoding='UTF-8') as f:\n",
    "        for line in f:\n",
    "            if re.search('<entity1', line):\n",
    "                e1 = line.split('\"')[1]\n",
    "            elif re.search('<entity2', line):\n",
    "                e2 = line.split('\"')[1]\n",
    "            elif re.search('<relation>', line):\n",
    "                rel = line.split('>')[1].split('<')[0]\n",
    "                #if e1 == 'null':\n",
    "                #    for elem in instances_x:\n",
    "                #        out.write(elem + '\\t' + e2 + '\\t' + '0' + '\\n')\n",
    "                #elif e2 == 'null':\n",
    "                #    for elem in instances_y:\n",
    "                #        out.write(e1 + '\\t' + elem + '\\t' + '0' + '\\n')                \n",
    "                #else:\n",
    "                out.write(str(e1 + '\\t' + e2 + '\\t' + str(rel=='=').replace('True','1').replace('False','0') + '\\n').lower())\n",
    "    out.close()\n",
    "print(\"done\")"
   ]
  },
  {
   "cell_type": "code",
   "execution_count": null,
   "metadata": {},
   "outputs": [],
   "source": []
  },
  {
   "cell_type": "code",
   "execution_count": null,
   "metadata": {
    "collapsed": true
   },
   "outputs": [],
   "source": []
  }
 ],
 "metadata": {
  "kernelspec": {
   "display_name": "Python 3",
   "language": "python",
   "name": "python3"
  },
  "language_info": {
   "codemirror_mode": {
    "name": "ipython",
    "version": 3
   },
   "file_extension": ".py",
   "mimetype": "text/x-python",
   "name": "python",
   "nbconvert_exporter": "python",
   "pygments_lexer": "ipython3",
   "version": "3.6.8"
  }
 },
 "nbformat": 4,
 "nbformat_minor": 2
}
