{
 "cells": [
  {
   "cell_type": "code",
   "execution_count": 20,
   "metadata": {},
   "outputs": [],
   "source": [
    "import os\n",
    "import shutil\n",
    "import re"
   ]
  },
  {
   "cell_type": "code",
   "execution_count": 21,
   "metadata": {},
   "outputs": [],
   "source": [
    "f2 = open('C:/Users/D072202/RData2Graph/rdata2graph/data/oaei_data/graph_triples_darkscape2.nt', 'w+', encoding='UTF-8')\n",
    "with open('C:/Users/D072202/RData2Graph/rdata2graph/data/oaei_data/graph_triples_darkscape.nt', 'r', encoding='UTF-8') as f:\n",
    "    for line in f:\n",
    "        sl = line.split('> \"')\n",
    "        newline = line\n",
    "        if len(sl) > 1:\n",
    "            sl[1] = (sl[1].replace('\\r','').replace('\\n','').replace('\\\\','').replace('@en', ''))\n",
    "            newline = sl[0] + '> \"' + sl[1]\n",
    "        f2.write(newline)\n",
    "f2.close()"
   ]
  },
  {
   "cell_type": "code",
   "execution_count": 22,
   "metadata": {},
   "outputs": [],
   "source": [
    "f2 = open('C:/Users/D072202/RData2Graph/rdata2graph/data/oaei_data/graph_triples_oldschoolrunescape2.nt', 'w+', encoding='UTF-8')\n",
    "with open('C:/Users/D072202/RData2Graph/rdata2graph/data/oaei_data/graph_triples_oldschoolrunescape.nt', 'r', encoding='UTF-8') as f:\n",
    "    for line in f:\n",
    "        sl = line.split('> \"')\n",
    "        newline = line\n",
    "        if len(sl) > 1:\n",
    "            sl[1] = (sl[1].replace('\\r','').replace('\\n','').replace('\\\\','').replace('@en', ''))\n",
    "            newline = sl[0] + '> \"' + sl[1]\n",
    "        f2.write(newline)\n",
    "f2.close()"
   ]
  },
  {
   "cell_type": "code",
   "execution_count": null,
   "metadata": {},
   "outputs": [],
   "source": []
  }
 ],
 "metadata": {
  "kernelspec": {
   "display_name": "Python 3",
   "language": "python",
   "name": "python3"
  },
  "language_info": {
   "codemirror_mode": {
    "name": "ipython",
    "version": 3
   },
   "file_extension": ".py",
   "mimetype": "text/x-python",
   "name": "python",
   "nbconvert_exporter": "python",
   "pygments_lexer": "ipython3",
   "version": "3.6.8"
  }
 },
 "nbformat": 4,
 "nbformat_minor": 2
}
