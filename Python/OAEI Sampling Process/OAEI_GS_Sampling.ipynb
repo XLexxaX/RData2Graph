{
 "cells": [
  {
   "cell_type": "code",
   "execution_count": 20,
   "metadata": {},
   "outputs": [],
   "source": [
    "import pandas as pd\n",
    "import numpy as np"
   ]
  },
  {
   "cell_type": "code",
   "execution_count": 57,
   "metadata": {},
   "outputs": [],
   "source": [
    "i=7\n",
    "prefixes = [[\"he\",\"dc\"],[\"ma\",\"he\"],[\"ma\",\"dc\"],[\"mea\",\"meb\"], [\"mea\",\"st\"],[\"meb\",\"st\"],[\"ru\",\"da\"],[\"ru\",\"ol\"]]\n",
    "prefix=prefixes[i][0]+prefixes[i][1]"
   ]
  },
  {
   "cell_type": "code",
   "execution_count": 58,
   "metadata": {
    "scrolled": true
   },
   "outputs": [
    {
     "name": "stdout",
     "output_type": "stream",
     "text": [
      "done\n"
     ]
    }
   ],
   "source": [
    "f2 = open('../../data/'+prefix+'/oaei_gold_standard2.csv', encoding='UTF-8', mode=\"w+\")\n",
    "with open('../../data/'+prefix+'/oaei_gold_standard.csv', encoding='UTF-8', mode=\"r\") as f:\n",
    "    for line in f:\n",
    "        line = line.replace('\\n','').split('\\t')\n",
    "        f2.write(line[0]+'\\t'+line[1]+'\\t1\\n')\n",
    "f2.close()\n",
    "print(\"done\")"
   ]
  },
  {
   "cell_type": "code",
   "execution_count": 59,
   "metadata": {},
   "outputs": [
    {
     "name": "stdout",
     "output_type": "stream",
     "text": [
      "done\n"
     ]
    }
   ],
   "source": [
    "resources1 = set()\n",
    "resources2 = set()\n",
    "with open('../../data/'+prefix+'/oaei_gold_standard2.csv', encoding='UTF-8', mode=\"r\") as f:\n",
    "    for line in f:\n",
    "        line = line.split(\"\\t\")\n",
    "        resources1.add(line[0])\n",
    "        resources2.add(line[1])\n",
    "\n",
    "\n",
    "resources1 = np.array(list(resources1))\n",
    "resources2 = np.array(list(resources2))\n",
    "print(\"done\")"
   ]
  },
  {
   "cell_type": "code",
   "execution_count": null,
   "metadata": {},
   "outputs": [],
   "source": []
  },
  {
   "cell_type": "code",
   "execution_count": 60,
   "metadata": {},
   "outputs": [],
   "source": [
    "resources1 = np.random.choice(resources1, 10000)\n",
    "resources2 = np.random.choice(resources2, 10000)\n",
    "resources1 = np.array([[x] for x in resources1])\n",
    "resources2 = np.array([[x] for x in resources2])"
   ]
  },
  {
   "cell_type": "code",
   "execution_count": null,
   "metadata": {},
   "outputs": [],
   "source": []
  },
  {
   "cell_type": "code",
   "execution_count": 61,
   "metadata": {},
   "outputs": [],
   "source": [
    "def contained(tup, tlist):\n",
    "    if (tup[0],tup[1],0) in tlist or (tup[0],tup[1],1) in tlist or (tup[1],tup[0],0) in tlist or (tup[1],tup[0],1) in tlist:\n",
    "        return True\n",
    "    else:\n",
    "        return False"
   ]
  },
  {
   "cell_type": "code",
   "execution_count": 62,
   "metadata": {},
   "outputs": [],
   "source": [
    "positives = list()\n",
    "with open(\"../../data/\"+prefix+\"/oaei_gold_standard2.csv\", mode=\"r\", encoding=\"UTF-8\") as f:\n",
    "    for line in f:\n",
    "        line = line.replace(\"\\n\",\"\").split(\"\\t\")\n",
    "        positives = positives + [(line[0],line[1],1)]\n"
   ]
  },
  {
   "cell_type": "code",
   "execution_count": 63,
   "metadata": {},
   "outputs": [],
   "source": [
    "\n",
    "testset_nodeids = list()\n",
    "with open(\"../../data/\"+prefix+\"/\"+prefix+\".csv\", mode=\"r\", encoding=\"UTF-8\") as f:\n",
    "    for line in f:\n",
    "        line = line.replace(\"\\n\",\"\").split(\"\\t\")"
   ]
  },
  {
   "cell_type": "code",
   "execution_count": 64,
   "metadata": {},
   "outputs": [
    {
     "name": "stdout",
     "output_type": "stream",
     "text": [
      "Done\n"
     ]
    }
   ],
   "source": [
    "testset = list()\n",
    "testset_nonmatches = list()\n",
    "with open(\"../../data/\"+prefix+\"/\"+prefix+\".csv\", mode=\"r\", encoding=\"UTF-8\") as f:\n",
    "    for line in f:\n",
    "        line = line.replace(\"\\n\",\"\").split(\"\\t\")\n",
    "        if line[2] == '1':\n",
    "            testset = testset + [(line[0],line[1],1)]\n",
    "        elif line[0] == 'null':\n",
    "            testset_nonmatches.append(line[1])\n",
    "        elif line[1] == 'null':\n",
    "            testset_nonmatches.append(line[0])\n",
    "        else:\n",
    "            testset = testset + [(line[0],line[1],1)]\n",
    "print(\"Done\")"
   ]
  },
  {
   "cell_type": "code",
   "execution_count": 65,
   "metadata": {},
   "outputs": [
    {
     "name": "stdout",
     "output_type": "stream",
     "text": [
      "Done\n"
     ]
    }
   ],
   "source": [
    "written = set()\n",
    "with open(\"../../data/\"+prefix+\"/oaei_gold_standard3.csv\", mode=\"w+\", encoding=\"UTF-8\") as f:\n",
    "    for i in range(len(resources1)):\n",
    "        item = (resources1[i][0], resources2[i][0], 0)\n",
    "        if not contained(item, testset) and not contained(item, positives) and not item[0] in testset_nonmatches and not item[1] in testset_nonmatches:\n",
    "            f.write(str(item[0]) + \"\\t\" + str(item[1]) + \"\\t0\\n\")\n",
    "    for item in positives:\n",
    "        if not contained(item, testset) and not item[0] in testset_nonmatches and not item[1] in testset_nonmatches:\n",
    "            f.write(str(item[0]) + \"\\t\" + str(item[1]) + \"\\t1\\n\")\n",
    "print(\"Done\")"
   ]
  },
  {
   "cell_type": "code",
   "execution_count": null,
   "metadata": {},
   "outputs": [],
   "source": []
  },
  {
   "cell_type": "code",
   "execution_count": null,
   "metadata": {},
   "outputs": [],
   "source": []
  },
  {
   "cell_type": "code",
   "execution_count": 19,
   "metadata": {},
   "outputs": [
    {
     "data": {
      "text/plain": [
       "'abc.x'"
      ]
     },
     "execution_count": 19,
     "metadata": {},
     "output_type": "execute_result"
    }
   ],
   "source": [
    "import os\n",
    "x = os.path.join('data','abc.x')\n",
    "import ntpath\n",
    "ntpath.basename(x)"
   ]
  },
  {
   "cell_type": "code",
   "execution_count": null,
   "metadata": {},
   "outputs": [],
   "source": []
  }
 ],
 "metadata": {
  "kernelspec": {
   "display_name": "Python 3",
   "language": "python",
   "name": "python3"
  },
  "language_info": {
   "codemirror_mode": {
    "name": "ipython",
    "version": 3
   },
   "file_extension": ".py",
   "mimetype": "text/x-python",
   "name": "python",
   "nbconvert_exporter": "python",
   "pygments_lexer": "ipython3",
   "version": "3.6.8"
  }
 },
 "nbformat": 4,
 "nbformat_minor": 2
}
