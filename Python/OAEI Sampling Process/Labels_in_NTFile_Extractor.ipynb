{
 "cells": [
  {
   "cell_type": "code",
   "execution_count": 1,
   "metadata": {},
   "outputs": [],
   "source": [
    "import re"
   ]
  },
  {
   "cell_type": "code",
   "execution_count": 2,
   "metadata": {},
   "outputs": [],
   "source": [
    "labels = set()"
   ]
  },
  {
   "cell_type": "code",
   "execution_count": 4,
   "metadata": {},
   "outputs": [
    {
     "name": "stdout",
     "output_type": "stream",
     "text": [
      "done\n"
     ]
    }
   ],
   "source": [
    "with open(\"C:/Users/D072202/RData2Graph/rdata2graph/data/oaei_data/graph_triples_oldschoolrunescape.nt\", mode=\"r\", encoding=\"UTF-8\") as f:\n",
    "    for line in f:\n",
    "        x = re.search('<http://rdata2graph.sap.com/oldschoolrunescape/[^\\.]*\\.label>',line)\n",
    "        if x is not None:\n",
    "            labels.add(x[0])\n",
    "with open(\"C:/Users/D072202/RData2Graph/rdata2graph/data/oaei_data/graph_triples_darkscape.nt\", mode=\"r\", encoding=\"UTF-8\") as f:\n",
    "    for line in f:\n",
    "        x = re.search('<http://rdata2graph.sap.com/darkscape/[^\\.]*\\.label>',line)\n",
    "        if x is not None:\n",
    "            labels.add(x[0])\n",
    "with open(\"C:/Users/D072202/RData2Graph/rdata2graph/data/oaei_data/labels.txt\", mode=\"w+\", encoding=\"UTF-8\") as f:\n",
    "    for label in labels:\n",
    "        f.write(label + '\\n')\n",
    "print(\"done\")"
   ]
  },
  {
   "cell_type": "code",
   "execution_count": null,
   "metadata": {},
   "outputs": [],
   "source": []
  },
  {
   "cell_type": "code",
   "execution_count": null,
   "metadata": {},
   "outputs": [],
   "source": []
  }
 ],
 "metadata": {
  "kernelspec": {
   "display_name": "Python 3",
   "language": "python",
   "name": "python3"
  },
  "language_info": {
   "codemirror_mode": {
    "name": "ipython",
    "version": 3
   },
   "file_extension": ".py",
   "mimetype": "text/x-python",
   "name": "python",
   "nbconvert_exporter": "python",
   "pygments_lexer": "ipython3",
   "version": "3.6.8"
  }
 },
 "nbformat": 4,
 "nbformat_minor": 2
}
