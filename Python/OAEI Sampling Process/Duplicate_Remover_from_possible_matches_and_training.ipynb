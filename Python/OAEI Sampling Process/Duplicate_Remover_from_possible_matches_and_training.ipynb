{
 "cells": [
  {
   "cell_type": "code",
   "execution_count": 1,
   "metadata": {},
   "outputs": [],
   "source": [
    "import pandas as pd\n",
    "import shutil\n",
    "import os"
   ]
  },
  {
   "cell_type": "code",
   "execution_count": 4,
   "metadata": {},
   "outputs": [
    {
     "data": {
      "text/html": [
       "<div>\n",
       "<style scoped>\n",
       "    .dataframe tbody tr th:only-of-type {\n",
       "        vertical-align: middle;\n",
       "    }\n",
       "\n",
       "    .dataframe tbody tr th {\n",
       "        vertical-align: top;\n",
       "    }\n",
       "\n",
       "    .dataframe thead th {\n",
       "        text-align: right;\n",
       "    }\n",
       "</style>\n",
       "<table border=\"1\" class=\"dataframe\">\n",
       "  <thead>\n",
       "    <tr style=\"text-align: right;\">\n",
       "      <th></th>\n",
       "      <th>0</th>\n",
       "      <th>1</th>\n",
       "      <th>2</th>\n",
       "    </tr>\n",
       "  </thead>\n",
       "  <tbody>\n",
       "    <tr>\n",
       "      <th>0</th>\n",
       "      <td>http://dbkwik.webdatacommons.org/darkscape/res...</td>\n",
       "      <td>http://dbkwik.webdatacommons.org/oldschoolrune...</td>\n",
       "      <td>0</td>\n",
       "    </tr>\n",
       "    <tr>\n",
       "      <th>1</th>\n",
       "      <td>http://dbkwik.webdatacommons.org/darkscape/res...</td>\n",
       "      <td>http://dbkwik.webdatacommons.org/oldschoolrune...</td>\n",
       "      <td>0</td>\n",
       "    </tr>\n",
       "    <tr>\n",
       "      <th>2</th>\n",
       "      <td>http://dbkwik.webdatacommons.org/darkscape/res...</td>\n",
       "      <td>http://dbkwik.webdatacommons.org/oldschoolrune...</td>\n",
       "      <td>0</td>\n",
       "    </tr>\n",
       "    <tr>\n",
       "      <th>3</th>\n",
       "      <td>http://dbkwik.webdatacommons.org/darkscape/res...</td>\n",
       "      <td>http://dbkwik.webdatacommons.org/oldschoolrune...</td>\n",
       "      <td>0</td>\n",
       "    </tr>\n",
       "    <tr>\n",
       "      <th>4</th>\n",
       "      <td>http://dbkwik.webdatacommons.org/darkscape/res...</td>\n",
       "      <td>http://dbkwik.webdatacommons.org/oldschoolrune...</td>\n",
       "      <td>0</td>\n",
       "    </tr>\n",
       "  </tbody>\n",
       "</table>\n",
       "</div>"
      ],
      "text/plain": [
       "                                                   0  \\\n",
       "0  http://dbkwik.webdatacommons.org/darkscape/res...   \n",
       "1  http://dbkwik.webdatacommons.org/darkscape/res...   \n",
       "2  http://dbkwik.webdatacommons.org/darkscape/res...   \n",
       "3  http://dbkwik.webdatacommons.org/darkscape/res...   \n",
       "4  http://dbkwik.webdatacommons.org/darkscape/res...   \n",
       "\n",
       "                                                   1  2  \n",
       "0  http://dbkwik.webdatacommons.org/oldschoolrune...  0  \n",
       "1  http://dbkwik.webdatacommons.org/oldschoolrune...  0  \n",
       "2  http://dbkwik.webdatacommons.org/oldschoolrune...  0  \n",
       "3  http://dbkwik.webdatacommons.org/oldschoolrune...  0  \n",
       "4  http://dbkwik.webdatacommons.org/oldschoolrune...  0  "
      ]
     },
     "execution_count": 4,
     "metadata": {},
     "output_type": "execute_result"
    }
   ],
   "source": [
    "df = pd.read_csv('C:/Users/D072202/DeepAnyMatch/DeepAnyMatch/data/oaei_data/possible_matches.csv', sep=\"\\t\", header=None, encoding=\"UTF-8\")\n",
    "df.head()"
   ]
  },
  {
   "cell_type": "code",
   "execution_count": null,
   "metadata": {},
   "outputs": [],
   "source": []
  },
  {
   "cell_type": "code",
   "execution_count": 12,
   "metadata": {},
   "outputs": [
    {
     "data": {
      "text/plain": [
       "'sahfds'"
      ]
     },
     "execution_count": 12,
     "metadata": {},
     "output_type": "execute_result"
    }
   ],
   "source": [
    "a = 'jalhdflsahfds'\n",
    "a.strip('jalhdf')"
   ]
  },
  {
   "cell_type": "code",
   "execution_count": null,
   "metadata": {},
   "outputs": [],
   "source": []
  },
  {
   "cell_type": "code",
   "execution_count": null,
   "metadata": {},
   "outputs": [],
   "source": []
  }
 ],
 "metadata": {
  "kernelspec": {
   "display_name": "Python 3",
   "language": "python",
   "name": "python3"
  },
  "language_info": {
   "codemirror_mode": {
    "name": "ipython",
    "version": 3
   },
   "file_extension": ".py",
   "mimetype": "text/x-python",
   "name": "python",
   "nbconvert_exporter": "python",
   "pygments_lexer": "ipython3",
   "version": "3.6.8"
  }
 },
 "nbformat": 4,
 "nbformat_minor": 2
}
