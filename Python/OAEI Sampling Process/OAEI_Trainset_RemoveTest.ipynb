{
 "cells": [
  {
   "cell_type": "code",
   "execution_count": 1,
   "metadata": {},
   "outputs": [],
   "source": [
    "import pandas as pd\n",
    "import numpy as np"
   ]
  },
  {
   "cell_type": "code",
   "execution_count": 88,
   "metadata": {},
   "outputs": [],
   "source": [
    "i=1\n",
    "prefixes = [[\"he\",\"dc\"],[\"ma\",\"he\"],[\"ma\",\"dc\"],[\"mea\",\"meb\"], [\"mea\",\"st\"],[\"meb\",\"st\"],[\"ru\",\"da\"],[\"ru\",\"ol\"]]\n",
    "prefix=prefixes[i][0]+prefixes[i][1]"
   ]
  },
  {
   "cell_type": "code",
   "execution_count": 2,
   "metadata": {
    "scrolled": true
   },
   "outputs": [
    {
     "name": "stdout",
     "output_type": "stream",
     "text": [
      "done\n"
     ]
    }
   ],
   "source": [
    "samples = list()\n",
    "#with open('../../data/'+prefix+'/oaei_gold_standard.csv', encoding='UTF-8', mode=\"r\") as f:\n",
    "with open('../../data/sap_hilti_data/oaei_gold_standard.csv', encoding='UTF-8', mode=\"r\") as f:\n",
    "    for line in f:\n",
    "        line = line.replace('\\n','').split('\\t')\n",
    "        samples.append((line[0],line[1],line[2]))\n",
    "print(\"done\")"
   ]
  },
  {
   "cell_type": "code",
   "execution_count": 90,
   "metadata": {},
   "outputs": [],
   "source": [
    "samples = np.array(samples)[np.random.randint(len(samples), size=5000)]"
   ]
  },
  {
   "cell_type": "code",
   "execution_count": 3,
   "metadata": {},
   "outputs": [],
   "source": [
    "def contained(tup, tlist):\n",
    "    if (tup[0],tup[1],0) in tlist or (tup[0],tup[1],1) in tlist or (tup[1],tup[0],0) in tlist or (tup[1],tup[0],1) in tlist:\n",
    "        return True\n",
    "    else:\n",
    "        return False"
   ]
  },
  {
   "cell_type": "code",
   "execution_count": null,
   "metadata": {},
   "outputs": [],
   "source": []
  },
  {
   "cell_type": "code",
   "execution_count": null,
   "metadata": {},
   "outputs": [],
   "source": []
  },
  {
   "cell_type": "code",
   "execution_count": 4,
   "metadata": {},
   "outputs": [
    {
     "name": "stdout",
     "output_type": "stream",
     "text": [
      "Done\n"
     ]
    }
   ],
   "source": [
    "testset = list()\n",
    "testset_nonmatches = list()\n",
    "#with open(\"../../data/\"+prefix+\"/\"+prefix+\".csv\", mode=\"r\", encoding=\"UTF-8\") as f:\n",
    "with open(\"../../data/sap_hilti_data/final_testset.csv\", mode=\"r\", encoding=\"UTF-8\") as f:\n",
    "    for line in f:\n",
    "        line = line.replace(\"\\n\",\"\").split(\"\\t\")\n",
    "        if line[2] == '1':\n",
    "            testset = testset + [(line[0],line[1],1)]\n",
    "        elif line[0] == 'null':\n",
    "            testset_nonmatches.append(line[1])\n",
    "        elif line[1] == 'null':\n",
    "            testset_nonmatches.append(line[0])\n",
    "        else:\n",
    "            testset = testset + [(line[0],line[1],1)]\n",
    "print(\"Done\")"
   ]
  },
  {
   "cell_type": "code",
   "execution_count": 5,
   "metadata": {},
   "outputs": [
    {
     "name": "stdout",
     "output_type": "stream",
     "text": [
      "Done\n"
     ]
    }
   ],
   "source": [
    "written = set()\n",
    "#with open(\"../../data/\"+prefix+\"/oaei_gold_standard2.csv\", mode=\"w+\", encoding=\"UTF-8\") as f:\n",
    "with open(\"../../data/sap_hilti_data/oaei_gold_standard2.csv\", mode=\"w+\", encoding=\"UTF-8\") as f:\n",
    "    for item in samples:\n",
    "        if not contained(item, testset) and not item[0] in testset_nonmatches and not item[1] in testset_nonmatches:\n",
    "            f.write(str(item[0]) + \"\\t\" + str(item[1]) + \"\\t\"+item[2]+\"\\n\")\n",
    "\n",
    "print(\"Done\")"
   ]
  },
  {
   "cell_type": "code",
   "execution_count": null,
   "metadata": {},
   "outputs": [],
   "source": []
  },
  {
   "cell_type": "code",
   "execution_count": 13,
   "metadata": {},
   "outputs": [],
   "source": []
  },
  {
   "cell_type": "code",
   "execution_count": null,
   "metadata": {},
   "outputs": [],
   "source": []
  },
  {
   "cell_type": "code",
   "execution_count": null,
   "metadata": {},
   "outputs": [],
   "source": []
  },
  {
   "cell_type": "code",
   "execution_count": null,
   "metadata": {},
   "outputs": [],
   "source": []
  },
  {
   "cell_type": "code",
   "execution_count": null,
   "metadata": {},
   "outputs": [],
   "source": []
  },
  {
   "cell_type": "code",
   "execution_count": null,
   "metadata": {},
   "outputs": [],
   "source": []
  }
 ],
 "metadata": {
  "kernelspec": {
   "display_name": "Python 3",
   "language": "python",
   "name": "python3"
  },
  "language_info": {
   "codemirror_mode": {
    "name": "ipython",
    "version": 3
   },
   "file_extension": ".py",
   "mimetype": "text/x-python",
   "name": "python",
   "nbconvert_exporter": "python",
   "pygments_lexer": "ipython3",
   "version": "3.6.8"
  }
 },
 "nbformat": 4,
 "nbformat_minor": 2
}
