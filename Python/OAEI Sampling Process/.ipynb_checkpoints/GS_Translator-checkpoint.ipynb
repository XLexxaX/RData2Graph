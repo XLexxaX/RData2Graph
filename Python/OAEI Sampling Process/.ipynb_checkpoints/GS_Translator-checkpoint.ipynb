{
 "cells": [
  {
   "cell_type": "code",
   "execution_count": 40,
   "metadata": {},
   "outputs": [],
   "source": [
    "import pandas as pd"
   ]
  },
  {
   "cell_type": "code",
   "execution_count": 51,
   "metadata": {},
   "outputs": [
    {
     "data": {
      "text/html": [
       "<div>\n",
       "<style scoped>\n",
       "    .dataframe tbody tr th:only-of-type {\n",
       "        vertical-align: middle;\n",
       "    }\n",
       "\n",
       "    .dataframe tbody tr th {\n",
       "        vertical-align: top;\n",
       "    }\n",
       "\n",
       "    .dataframe thead th {\n",
       "        text-align: right;\n",
       "    }\n",
       "</style>\n",
       "<table border=\"1\" class=\"dataframe\">\n",
       "  <thead>\n",
       "    <tr style=\"text-align: right;\">\n",
       "      <th></th>\n",
       "      <th>0</th>\n",
       "      <th>1</th>\n",
       "      <th>2</th>\n",
       "    </tr>\n",
       "  </thead>\n",
       "  <tbody>\n",
       "    <tr>\n",
       "      <th>0</th>\n",
       "      <td>http://dbkwik.webdatacommons.org/darkscape/res...</td>\n",
       "      <td>NaN</td>\n",
       "      <td>0</td>\n",
       "    </tr>\n",
       "    <tr>\n",
       "      <th>1</th>\n",
       "      <td>http://dbkwik.webdatacommons.org/darkscape/res...</td>\n",
       "      <td>http://dbkwik.webdatacommons.org/oldschoolrune...</td>\n",
       "      <td>1</td>\n",
       "    </tr>\n",
       "    <tr>\n",
       "      <th>2</th>\n",
       "      <td>http://dbkwik.webdatacommons.org/darkscape/res...</td>\n",
       "      <td>NaN</td>\n",
       "      <td>0</td>\n",
       "    </tr>\n",
       "    <tr>\n",
       "      <th>3</th>\n",
       "      <td>http://dbkwik.webdatacommons.org/darkscape/res...</td>\n",
       "      <td>http://dbkwik.webdatacommons.org/oldschoolrune...</td>\n",
       "      <td>1</td>\n",
       "    </tr>\n",
       "    <tr>\n",
       "      <th>4</th>\n",
       "      <td>http://dbkwik.webdatacommons.org/darkscape/res...</td>\n",
       "      <td>http://dbkwik.webdatacommons.org/oldschoolrune...</td>\n",
       "      <td>1</td>\n",
       "    </tr>\n",
       "    <tr>\n",
       "      <th>5</th>\n",
       "      <td>http://dbkwik.webdatacommons.org/darkscape/res...</td>\n",
       "      <td>http://dbkwik.webdatacommons.org/oldschoolrune...</td>\n",
       "      <td>1</td>\n",
       "    </tr>\n",
       "    <tr>\n",
       "      <th>6</th>\n",
       "      <td>http://dbkwik.webdatacommons.org/darkscape/res...</td>\n",
       "      <td>NaN</td>\n",
       "      <td>0</td>\n",
       "    </tr>\n",
       "    <tr>\n",
       "      <th>7</th>\n",
       "      <td>http://dbkwik.webdatacommons.org/darkscape/res...</td>\n",
       "      <td>NaN</td>\n",
       "      <td>0</td>\n",
       "    </tr>\n",
       "    <tr>\n",
       "      <th>8</th>\n",
       "      <td>http://dbkwik.webdatacommons.org/darkscape/res...</td>\n",
       "      <td>http://dbkwik.webdatacommons.org/oldschoolrune...</td>\n",
       "      <td>1</td>\n",
       "    </tr>\n",
       "    <tr>\n",
       "      <th>9</th>\n",
       "      <td>http://dbkwik.webdatacommons.org/darkscape/res...</td>\n",
       "      <td>http://dbkwik.webdatacommons.org/oldschoolrune...</td>\n",
       "      <td>1</td>\n",
       "    </tr>\n",
       "  </tbody>\n",
       "</table>\n",
       "</div>"
      ],
      "text/plain": [
       "                                                   0  \\\n",
       "0  http://dbkwik.webdatacommons.org/darkscape/res...   \n",
       "1  http://dbkwik.webdatacommons.org/darkscape/res...   \n",
       "2  http://dbkwik.webdatacommons.org/darkscape/res...   \n",
       "3  http://dbkwik.webdatacommons.org/darkscape/res...   \n",
       "4  http://dbkwik.webdatacommons.org/darkscape/res...   \n",
       "5  http://dbkwik.webdatacommons.org/darkscape/res...   \n",
       "6  http://dbkwik.webdatacommons.org/darkscape/res...   \n",
       "7  http://dbkwik.webdatacommons.org/darkscape/res...   \n",
       "8  http://dbkwik.webdatacommons.org/darkscape/res...   \n",
       "9  http://dbkwik.webdatacommons.org/darkscape/res...   \n",
       "\n",
       "                                                   1  2  \n",
       "0                                                NaN  0  \n",
       "1  http://dbkwik.webdatacommons.org/oldschoolrune...  1  \n",
       "2                                                NaN  0  \n",
       "3  http://dbkwik.webdatacommons.org/oldschoolrune...  1  \n",
       "4  http://dbkwik.webdatacommons.org/oldschoolrune...  1  \n",
       "5  http://dbkwik.webdatacommons.org/oldschoolrune...  1  \n",
       "6                                                NaN  0  \n",
       "7                                                NaN  0  \n",
       "8  http://dbkwik.webdatacommons.org/oldschoolrune...  1  \n",
       "9  http://dbkwik.webdatacommons.org/oldschoolrune...  1  "
      ]
     },
     "execution_count": 51,
     "metadata": {},
     "output_type": "execute_result"
    }
   ],
   "source": [
    "gs = pd.read_csv('C:/Users/D072202/RData2Graph/rdata2graph/data/oaei_data/gold_standard.csv', encoding=\"UTF-8\", header=None, sep='\\t', error_bad_lines=True)\n",
    "dictionary1 = pd.read_csv('C:/Users/D072202/RData2Graph/rdata2graph/data/oaei_data/instanceID-to-verticeID_darkscape.txt', sep=\"\\t\", encoding=\"UTF-8\", header=None, error_bad_lines=False)\n",
    "dictionary2 = pd.read_csv('C:/Users/D072202/RData2Graph/rdata2graph/data/oaei_data/instanceID-to-verticeID_oldschoolrunescape.txt', sep=\"\\t\", encoding=\"UTF-8\", header=None, error_bad_lines=False)\n",
    "gs.head(10)"
   ]
  },
  {
   "cell_type": "code",
   "execution_count": 42,
   "metadata": {},
   "outputs": [
    {
     "data": {
      "text/html": [
       "<div>\n",
       "<style scoped>\n",
       "    .dataframe tbody tr th:only-of-type {\n",
       "        vertical-align: middle;\n",
       "    }\n",
       "\n",
       "    .dataframe tbody tr th {\n",
       "        vertical-align: top;\n",
       "    }\n",
       "\n",
       "    .dataframe thead th {\n",
       "        text-align: right;\n",
       "    }\n",
       "</style>\n",
       "<table border=\"1\" class=\"dataframe\">\n",
       "  <thead>\n",
       "    <tr style=\"text-align: right;\">\n",
       "      <th></th>\n",
       "      <th>0</th>\n",
       "      <th>1</th>\n",
       "    </tr>\n",
       "  </thead>\n",
       "  <tbody>\n",
       "    <tr>\n",
       "      <th>0</th>\n",
       "      <td>City.demonym</td>\n",
       "      <td>http://rdata2graph.sap.com/darkscape/city.demonym</td>\n",
       "    </tr>\n",
       "    <tr>\n",
       "      <th>1</th>\n",
       "      <td>minigame.removalupdate</td>\n",
       "      <td>http://rdata2graph.sap.com/darkscape/minigame....</td>\n",
       "    </tr>\n",
       "    <tr>\n",
       "      <th>2</th>\n",
       "      <td>Bonuses.construction</td>\n",
       "      <td>http://rdata2graph.sap.com/darkscape/bonuses.c...</td>\n",
       "    </tr>\n",
       "    <tr>\n",
       "      <th>3</th>\n",
       "      <td>quest.voice</td>\n",
       "      <td>http://rdata2graph.sap.com/darkscape/quest.voice</td>\n",
       "    </tr>\n",
       "    <tr>\n",
       "      <th>4</th>\n",
       "      <td>prayer.desc</td>\n",
       "      <td>http://rdata2graph.sap.com/darkscape/prayer.desc</td>\n",
       "    </tr>\n",
       "  </tbody>\n",
       "</table>\n",
       "</div>"
      ],
      "text/plain": [
       "                        0                                                  1\n",
       "0            City.demonym  http://rdata2graph.sap.com/darkscape/city.demonym\n",
       "1  minigame.removalupdate  http://rdata2graph.sap.com/darkscape/minigame....\n",
       "2    Bonuses.construction  http://rdata2graph.sap.com/darkscape/bonuses.c...\n",
       "3             quest.voice   http://rdata2graph.sap.com/darkscape/quest.voice\n",
       "4             prayer.desc   http://rdata2graph.sap.com/darkscape/prayer.desc"
      ]
     },
     "execution_count": 42,
     "metadata": {},
     "output_type": "execute_result"
    }
   ],
   "source": [
    "dictionary1.head()"
   ]
  },
  {
   "cell_type": "code",
   "execution_count": 58,
   "metadata": {},
   "outputs": [],
   "source": [
    "import html\n",
    "def y(x):\n",
    "    try:\n",
    "        return html.unescape(x)\n",
    "    except:\n",
    "        return x\n",
    "gs[0] = gs[0].apply(lambda x: y(x))\n",
    "gs[1] = gs[1].apply(lambda x: y(x))"
   ]
  },
  {
   "cell_type": "code",
   "execution_count": 59,
   "metadata": {},
   "outputs": [
    {
     "data": {
      "text/plain": [
       "'http://dbkwik.webdatacommons.org/oldschoolrunescape/resource/Lumbridge_&amp;amp;_Draynor_Diary'"
      ]
     },
     "execution_count": 59,
     "metadata": {},
     "output_type": "execute_result"
    }
   ],
   "source": [
    "gs.iloc[44][1]"
   ]
  },
  {
   "cell_type": "code",
   "execution_count": 60,
   "metadata": {},
   "outputs": [
    {
     "data": {
      "text/html": [
       "<div>\n",
       "<style scoped>\n",
       "    .dataframe tbody tr th:only-of-type {\n",
       "        vertical-align: middle;\n",
       "    }\n",
       "\n",
       "    .dataframe tbody tr th {\n",
       "        vertical-align: top;\n",
       "    }\n",
       "\n",
       "    .dataframe thead th {\n",
       "        text-align: right;\n",
       "    }\n",
       "</style>\n",
       "<table border=\"1\" class=\"dataframe\">\n",
       "  <thead>\n",
       "    <tr style=\"text-align: right;\">\n",
       "      <th></th>\n",
       "      <th>0_x</th>\n",
       "      <th>1_x</th>\n",
       "      <th>2</th>\n",
       "      <th>1_y</th>\n",
       "      <th>0_y</th>\n",
       "      <th>1</th>\n",
       "    </tr>\n",
       "  </thead>\n",
       "  <tbody>\n",
       "    <tr>\n",
       "      <th>0</th>\n",
       "      <td>http://dbkwik.webdatacommons.org/darkscape/res...</td>\n",
       "      <td>NaN</td>\n",
       "      <td>0</td>\n",
       "      <td>http://rdata2graph.sap.com/darkscape/#3a6cb884...</td>\n",
       "      <td>NaN</td>\n",
       "      <td>NaN</td>\n",
       "    </tr>\n",
       "    <tr>\n",
       "      <th>1</th>\n",
       "      <td>http://dbkwik.webdatacommons.org/darkscape/res...</td>\n",
       "      <td>http://dbkwik.webdatacommons.org/oldschoolrune...</td>\n",
       "      <td>1</td>\n",
       "      <td>http://rdata2graph.sap.com/darkscape/#74cf95a9...</td>\n",
       "      <td>http://dbkwik.webdatacommons.org/oldschoolrune...</td>\n",
       "      <td>http://rdata2graph.sap.com/oldschoolrunescape/...</td>\n",
       "    </tr>\n",
       "    <tr>\n",
       "      <th>2</th>\n",
       "      <td>http://dbkwik.webdatacommons.org/darkscape/res...</td>\n",
       "      <td>NaN</td>\n",
       "      <td>0</td>\n",
       "      <td>http://rdata2graph.sap.com/darkscape/#5408f699...</td>\n",
       "      <td>NaN</td>\n",
       "      <td>NaN</td>\n",
       "    </tr>\n",
       "    <tr>\n",
       "      <th>3</th>\n",
       "      <td>http://dbkwik.webdatacommons.org/darkscape/res...</td>\n",
       "      <td>http://dbkwik.webdatacommons.org/oldschoolrune...</td>\n",
       "      <td>1</td>\n",
       "      <td>http://rdata2graph.sap.com/darkscape/#98f250eb...</td>\n",
       "      <td>http://dbkwik.webdatacommons.org/oldschoolrune...</td>\n",
       "      <td>http://rdata2graph.sap.com/oldschoolrunescape/...</td>\n",
       "    </tr>\n",
       "    <tr>\n",
       "      <th>4</th>\n",
       "      <td>http://dbkwik.webdatacommons.org/darkscape/res...</td>\n",
       "      <td>http://dbkwik.webdatacommons.org/oldschoolrune...</td>\n",
       "      <td>1</td>\n",
       "      <td>http://rdata2graph.sap.com/darkscape/#19b626da...</td>\n",
       "      <td>http://dbkwik.webdatacommons.org/oldschoolrune...</td>\n",
       "      <td>http://rdata2graph.sap.com/oldschoolrunescape/...</td>\n",
       "    </tr>\n",
       "  </tbody>\n",
       "</table>\n",
       "</div>"
      ],
      "text/plain": [
       "                                                 0_x  \\\n",
       "0  http://dbkwik.webdatacommons.org/darkscape/res...   \n",
       "1  http://dbkwik.webdatacommons.org/darkscape/res...   \n",
       "2  http://dbkwik.webdatacommons.org/darkscape/res...   \n",
       "3  http://dbkwik.webdatacommons.org/darkscape/res...   \n",
       "4  http://dbkwik.webdatacommons.org/darkscape/res...   \n",
       "\n",
       "                                                 1_x  2  \\\n",
       "0                                                NaN  0   \n",
       "1  http://dbkwik.webdatacommons.org/oldschoolrune...  1   \n",
       "2                                                NaN  0   \n",
       "3  http://dbkwik.webdatacommons.org/oldschoolrune...  1   \n",
       "4  http://dbkwik.webdatacommons.org/oldschoolrune...  1   \n",
       "\n",
       "                                                 1_y  \\\n",
       "0  http://rdata2graph.sap.com/darkscape/#3a6cb884...   \n",
       "1  http://rdata2graph.sap.com/darkscape/#74cf95a9...   \n",
       "2  http://rdata2graph.sap.com/darkscape/#5408f699...   \n",
       "3  http://rdata2graph.sap.com/darkscape/#98f250eb...   \n",
       "4  http://rdata2graph.sap.com/darkscape/#19b626da...   \n",
       "\n",
       "                                                 0_y  \\\n",
       "0                                                NaN   \n",
       "1  http://dbkwik.webdatacommons.org/oldschoolrune...   \n",
       "2                                                NaN   \n",
       "3  http://dbkwik.webdatacommons.org/oldschoolrune...   \n",
       "4  http://dbkwik.webdatacommons.org/oldschoolrune...   \n",
       "\n",
       "                                                   1  \n",
       "0                                                NaN  \n",
       "1  http://rdata2graph.sap.com/oldschoolrunescape/...  \n",
       "2                                                NaN  \n",
       "3  http://rdata2graph.sap.com/oldschoolrunescape/...  \n",
       "4  http://rdata2graph.sap.com/oldschoolrunescape/...  "
      ]
     },
     "execution_count": 60,
     "metadata": {},
     "output_type": "execute_result"
    }
   ],
   "source": [
    "tmp = pd.merge(pd.merge(gs, dictionary1, left_on=[0], right_on=[0], how='left'), dictionary2, left_on=['1_x'], right_on=[0], how='left')\n",
    "tmp.head()"
   ]
  },
  {
   "cell_type": "code",
   "execution_count": 45,
   "metadata": {},
   "outputs": [
    {
     "data": {
      "text/plain": [
       "0_x    http://dbkwik.webdatacommons.org/darkscape/res...\n",
       "1_x    http://dbkwik.webdatacommons.org/oldschoolrune...\n",
       "2                                                      1\n",
       "1_y    http://rdata2graph.sap.com/darkscape/#9be3b5bc...\n",
       "0_y                                                  NaN\n",
       "1                                                    NaN\n",
       "Name: 44, dtype: object"
      ]
     },
     "execution_count": 45,
     "metadata": {},
     "output_type": "execute_result"
    }
   ],
   "source": [
    "tmp.iloc[44]"
   ]
  },
  {
   "cell_type": "code",
   "execution_count": 46,
   "metadata": {},
   "outputs": [],
   "source": [
    "def postproc(txt):\n",
    "    txt = str(txt).replace(\"<\",\"\").replace(\">\",\"\")\n",
    "    if txt == 'nan':\n",
    "        txt = 'null'\n",
    "    return txt"
   ]
  },
  {
   "cell_type": "code",
   "execution_count": null,
   "metadata": {},
   "outputs": [],
   "source": []
  },
  {
   "cell_type": "code",
   "execution_count": 47,
   "metadata": {},
   "outputs": [],
   "source": [
    "tmp['1_y'] = tmp.apply((lambda row: postproc(row['1_y'])), axis=1)\n",
    "tmp[1] = tmp.apply((lambda row: postproc(row[1])), axis=1)"
   ]
  },
  {
   "cell_type": "code",
   "execution_count": 48,
   "metadata": {},
   "outputs": [
    {
     "data": {
      "text/html": [
       "<div>\n",
       "<style scoped>\n",
       "    .dataframe tbody tr th:only-of-type {\n",
       "        vertical-align: middle;\n",
       "    }\n",
       "\n",
       "    .dataframe tbody tr th {\n",
       "        vertical-align: top;\n",
       "    }\n",
       "\n",
       "    .dataframe thead th {\n",
       "        text-align: right;\n",
       "    }\n",
       "</style>\n",
       "<table border=\"1\" class=\"dataframe\">\n",
       "  <thead>\n",
       "    <tr style=\"text-align: right;\">\n",
       "      <th></th>\n",
       "      <th>0_x</th>\n",
       "      <th>1_x</th>\n",
       "      <th>2</th>\n",
       "      <th>1_y</th>\n",
       "      <th>0_y</th>\n",
       "      <th>1</th>\n",
       "    </tr>\n",
       "  </thead>\n",
       "  <tbody>\n",
       "    <tr>\n",
       "      <th>0</th>\n",
       "      <td>http://dbkwik.webdatacommons.org/darkscape/res...</td>\n",
       "      <td>NaN</td>\n",
       "      <td>0</td>\n",
       "      <td>http://rdata2graph.sap.com/darkscape/#3a6cb884...</td>\n",
       "      <td>NaN</td>\n",
       "      <td>null</td>\n",
       "    </tr>\n",
       "    <tr>\n",
       "      <th>1</th>\n",
       "      <td>http://dbkwik.webdatacommons.org/darkscape/res...</td>\n",
       "      <td>http://dbkwik.webdatacommons.org/oldschoolrune...</td>\n",
       "      <td>1</td>\n",
       "      <td>http://rdata2graph.sap.com/darkscape/#74cf95a9...</td>\n",
       "      <td>http://dbkwik.webdatacommons.org/oldschoolrune...</td>\n",
       "      <td>http://rdata2graph.sap.com/oldschoolrunescape/...</td>\n",
       "    </tr>\n",
       "    <tr>\n",
       "      <th>2</th>\n",
       "      <td>http://dbkwik.webdatacommons.org/darkscape/res...</td>\n",
       "      <td>NaN</td>\n",
       "      <td>0</td>\n",
       "      <td>http://rdata2graph.sap.com/darkscape/#5408f699...</td>\n",
       "      <td>NaN</td>\n",
       "      <td>null</td>\n",
       "    </tr>\n",
       "    <tr>\n",
       "      <th>3</th>\n",
       "      <td>http://dbkwik.webdatacommons.org/darkscape/res...</td>\n",
       "      <td>http://dbkwik.webdatacommons.org/oldschoolrune...</td>\n",
       "      <td>1</td>\n",
       "      <td>http://rdata2graph.sap.com/darkscape/#98f250eb...</td>\n",
       "      <td>http://dbkwik.webdatacommons.org/oldschoolrune...</td>\n",
       "      <td>http://rdata2graph.sap.com/oldschoolrunescape/...</td>\n",
       "    </tr>\n",
       "    <tr>\n",
       "      <th>4</th>\n",
       "      <td>http://dbkwik.webdatacommons.org/darkscape/res...</td>\n",
       "      <td>http://dbkwik.webdatacommons.org/oldschoolrune...</td>\n",
       "      <td>1</td>\n",
       "      <td>http://rdata2graph.sap.com/darkscape/#19b626da...</td>\n",
       "      <td>http://dbkwik.webdatacommons.org/oldschoolrune...</td>\n",
       "      <td>http://rdata2graph.sap.com/oldschoolrunescape/...</td>\n",
       "    </tr>\n",
       "  </tbody>\n",
       "</table>\n",
       "</div>"
      ],
      "text/plain": [
       "                                                 0_x  \\\n",
       "0  http://dbkwik.webdatacommons.org/darkscape/res...   \n",
       "1  http://dbkwik.webdatacommons.org/darkscape/res...   \n",
       "2  http://dbkwik.webdatacommons.org/darkscape/res...   \n",
       "3  http://dbkwik.webdatacommons.org/darkscape/res...   \n",
       "4  http://dbkwik.webdatacommons.org/darkscape/res...   \n",
       "\n",
       "                                                 1_x  2  \\\n",
       "0                                                NaN  0   \n",
       "1  http://dbkwik.webdatacommons.org/oldschoolrune...  1   \n",
       "2                                                NaN  0   \n",
       "3  http://dbkwik.webdatacommons.org/oldschoolrune...  1   \n",
       "4  http://dbkwik.webdatacommons.org/oldschoolrune...  1   \n",
       "\n",
       "                                                 1_y  \\\n",
       "0  http://rdata2graph.sap.com/darkscape/#3a6cb884...   \n",
       "1  http://rdata2graph.sap.com/darkscape/#74cf95a9...   \n",
       "2  http://rdata2graph.sap.com/darkscape/#5408f699...   \n",
       "3  http://rdata2graph.sap.com/darkscape/#98f250eb...   \n",
       "4  http://rdata2graph.sap.com/darkscape/#19b626da...   \n",
       "\n",
       "                                                 0_y  \\\n",
       "0                                                NaN   \n",
       "1  http://dbkwik.webdatacommons.org/oldschoolrune...   \n",
       "2                                                NaN   \n",
       "3  http://dbkwik.webdatacommons.org/oldschoolrune...   \n",
       "4  http://dbkwik.webdatacommons.org/oldschoolrune...   \n",
       "\n",
       "                                                   1  \n",
       "0                                               null  \n",
       "1  http://rdata2graph.sap.com/oldschoolrunescape/...  \n",
       "2                                               null  \n",
       "3  http://rdata2graph.sap.com/oldschoolrunescape/...  \n",
       "4  http://rdata2graph.sap.com/oldschoolrunescape/...  "
      ]
     },
     "execution_count": 48,
     "metadata": {},
     "output_type": "execute_result"
    }
   ],
   "source": [
    "tmp.head()"
   ]
  },
  {
   "cell_type": "code",
   "execution_count": 49,
   "metadata": {},
   "outputs": [],
   "source": [
    "tmp[['1_y',1, 2]].to_csv(path_or_buf='C:/Users/D072202/RData2Graph/rdata2graph/data/oaei_data/gold_standard2.csv', sep='\\t', header=False, index=False)"
   ]
  },
  {
   "cell_type": "code",
   "execution_count": null,
   "metadata": {},
   "outputs": [],
   "source": []
  },
  {
   "cell_type": "code",
   "execution_count": null,
   "metadata": {},
   "outputs": [],
   "source": []
  },
  {
   "cell_type": "code",
   "execution_count": null,
   "metadata": {
    "scrolled": true
   },
   "outputs": [],
   "source": []
  },
  {
   "cell_type": "code",
   "execution_count": null,
   "metadata": {},
   "outputs": [],
   "source": []
  },
  {
   "cell_type": "code",
   "execution_count": 39,
   "metadata": {},
   "outputs": [
    {
     "data": {
      "text/plain": [
       "Series([], Name: 0_x, dtype: object)"
      ]
     },
     "execution_count": 39,
     "metadata": {},
     "output_type": "execute_result"
    }
   ],
   "source": [
    "tmp.loc[(tmp['1_y']==str(float('nan'))) & (tmp[1]==str(float('nan')))]['0_x']"
   ]
  },
  {
   "cell_type": "code",
   "execution_count": null,
   "metadata": {},
   "outputs": [],
   "source": []
  },
  {
   "cell_type": "code",
   "execution_count": null,
   "metadata": {},
   "outputs": [],
   "source": []
  }
 ],
 "metadata": {
  "kernelspec": {
   "display_name": "Python 3",
   "language": "python",
   "name": "python3"
  },
  "language_info": {
   "codemirror_mode": {
    "name": "ipython",
    "version": 3
   },
   "file_extension": ".py",
   "mimetype": "text/x-python",
   "name": "python",
   "nbconvert_exporter": "python",
   "pygments_lexer": "ipython3",
   "version": "3.6.8"
  }
 },
 "nbformat": 4,
 "nbformat_minor": 2
}
