{
 "cells": [
  {
   "cell_type": "code",
   "execution_count": 1,
   "metadata": {},
   "outputs": [],
   "source": [
    "import pandas as pd\n",
    "import numpy as np"
   ]
  },
  {
   "cell_type": "code",
   "execution_count": 2,
   "metadata": {
    "scrolled": true
   },
   "outputs": [
    {
     "ename": "IndexError",
     "evalue": "list index out of range",
     "output_type": "error",
     "traceback": [
      "\u001b[1;31m---------------------------------------------------------------------------\u001b[0m",
      "\u001b[1;31mIndexError\u001b[0m                                Traceback (most recent call last)",
      "\u001b[1;32m<ipython-input-2-9959a994ffbb>\u001b[0m in \u001b[0;36m<module>\u001b[1;34m\u001b[0m\n\u001b[0;32m      2\u001b[0m \u001b[1;32mwith\u001b[0m \u001b[0mopen\u001b[0m\u001b[1;33m(\u001b[0m\u001b[1;34m'../../data/oaei_data/oaei_gold_standard.csv'\u001b[0m\u001b[1;33m,\u001b[0m \u001b[0mencoding\u001b[0m\u001b[1;33m=\u001b[0m\u001b[1;34m'UTF-8'\u001b[0m\u001b[1;33m,\u001b[0m \u001b[0mmode\u001b[0m\u001b[1;33m=\u001b[0m\u001b[1;34m\"r\"\u001b[0m\u001b[1;33m)\u001b[0m \u001b[1;32mas\u001b[0m \u001b[0mf\u001b[0m\u001b[1;33m:\u001b[0m\u001b[1;33m\u001b[0m\u001b[1;33m\u001b[0m\u001b[0m\n\u001b[0;32m      3\u001b[0m     \u001b[1;32mfor\u001b[0m \u001b[0mline\u001b[0m \u001b[1;32min\u001b[0m \u001b[0mf\u001b[0m\u001b[1;33m:\u001b[0m\u001b[1;33m\u001b[0m\u001b[1;33m\u001b[0m\u001b[0m\n\u001b[1;32m----> 4\u001b[1;33m         \u001b[0mline\u001b[0m \u001b[1;33m=\u001b[0m \u001b[0mline\u001b[0m\u001b[1;33m.\u001b[0m\u001b[0msplit\u001b[0m\u001b[1;33m(\u001b[0m\u001b[1;34m'<----> '\u001b[0m\u001b[1;33m)\u001b[0m\u001b[1;33m[\u001b[0m\u001b[1;36m1\u001b[0m\u001b[1;33m]\u001b[0m\u001b[1;33m.\u001b[0m\u001b[0mreplace\u001b[0m\u001b[1;33m(\u001b[0m\u001b[1;34m'\\n'\u001b[0m\u001b[1;33m,\u001b[0m\u001b[1;34m''\u001b[0m\u001b[1;33m)\u001b[0m\u001b[1;33m.\u001b[0m\u001b[0msplit\u001b[0m\u001b[1;33m(\u001b[0m\u001b[1;34m'\\t'\u001b[0m\u001b[1;33m)\u001b[0m\u001b[1;33m\u001b[0m\u001b[1;33m\u001b[0m\u001b[0m\n\u001b[0m\u001b[0;32m      5\u001b[0m         \u001b[0mf2\u001b[0m\u001b[1;33m.\u001b[0m\u001b[0mwrite\u001b[0m\u001b[1;33m(\u001b[0m\u001b[0mline\u001b[0m\u001b[1;33m[\u001b[0m\u001b[1;36m0\u001b[0m\u001b[1;33m]\u001b[0m\u001b[1;33m+\u001b[0m\u001b[1;34m'\\t'\u001b[0m\u001b[1;33m+\u001b[0m\u001b[0mline\u001b[0m\u001b[1;33m[\u001b[0m\u001b[1;36m1\u001b[0m\u001b[1;33m]\u001b[0m\u001b[1;33m+\u001b[0m\u001b[1;34m'\\t1\\n'\u001b[0m\u001b[1;33m)\u001b[0m\u001b[1;33m\u001b[0m\u001b[1;33m\u001b[0m\u001b[0m\n\u001b[0;32m      6\u001b[0m \u001b[0mf2\u001b[0m\u001b[1;33m.\u001b[0m\u001b[0mclose\u001b[0m\u001b[1;33m(\u001b[0m\u001b[1;33m)\u001b[0m\u001b[1;33m\u001b[0m\u001b[1;33m\u001b[0m\u001b[0m\n",
      "\u001b[1;31mIndexError\u001b[0m: list index out of range"
     ]
    }
   ],
   "source": [
    "f2 = open('../../data/oaei_data/oaei_gold_standard2.csv', encoding='UTF-8', mode=\"w+\")\n",
    "with open('../../data/oaei_data/oaei_gold_standard.csv', encoding='UTF-8', mode=\"r\") as f:\n",
    "    for line in f:\n",
    "        line = line.replace('\\n','').split('\\t')\n",
    "        f2.write(line[0]+'\\t'+line[1]+'\\t1\\n')\n",
    "f2.close()\n",
    "print(\"done\")"
   ]
  },
  {
   "cell_type": "code",
   "execution_count": 3,
   "metadata": {},
   "outputs": [
    {
     "name": "stdout",
     "output_type": "stream",
     "text": [
      "done\n"
     ]
    }
   ],
   "source": [
    "resources1 = set()\n",
    "resources2 = set()\n",
    "with open('../../data/oaei_data/oaei_gold_standard2.csv', encoding='UTF-8', mode=\"r\") as f:\n",
    "    for line in f:\n",
    "        line = line.split(\"\\t\")\n",
    "        resources1.add(line[0])\n",
    "        resources2.add(line[1])\n",
    "\n",
    "\n",
    "resources1 = np.array(list(resources1))\n",
    "resources2 = np.array(list(resources2))\n",
    "print(\"done\")"
   ]
  },
  {
   "cell_type": "code",
   "execution_count": null,
   "metadata": {},
   "outputs": [],
   "source": []
  },
  {
   "cell_type": "code",
   "execution_count": 4,
   "metadata": {},
   "outputs": [],
   "source": [
    "resources1 = np.random.choice(resources1, 10000)\n",
    "resources2 = np.random.choice(resources2, 10000)\n",
    "resources1 = np.array([[x] for x in resources1])\n",
    "resources2 = np.array([[x] for x in resources2])"
   ]
  },
  {
   "cell_type": "code",
   "execution_count": null,
   "metadata": {},
   "outputs": [],
   "source": []
  },
  {
   "cell_type": "code",
   "execution_count": 5,
   "metadata": {},
   "outputs": [],
   "source": [
    "def contained(tup, tlist):\n",
    "    if (tup[0],tup[1],0) in tlist or (tup[0],tup[1],1) in tlist or (tup[1],tup[0],0) in tlist or (tup[1],tup[0],1) in tlist:\n",
    "        return True\n",
    "    else:\n",
    "        return False"
   ]
  },
  {
   "cell_type": "code",
   "execution_count": 6,
   "metadata": {},
   "outputs": [],
   "source": [
    "positives = list()\n",
    "with open(\"../../data/oaei_data/oaei_gold_standard2.csv\", mode=\"r\", encoding=\"UTF-8\") as f:\n",
    "    for line in f:\n",
    "        line = line.replace(\"\\n\",\"\").split(\"\\t\")\n",
    "        positives = positives + [(line[0],line[1],1)]\n"
   ]
  },
  {
   "cell_type": "code",
   "execution_count": null,
   "metadata": {},
   "outputs": [],
   "source": [
    "\n",
    "testset_nodeids = list()\n",
    "with open(\"../../data/oaei_data/gold_standard.csv\", mode=\"r\", encoding=\"UTF-8\") as f:\n",
    "    for line in f:\n",
    "        line = line.replace(\"\\n\",\"\").split(\"\\t\")"
   ]
  },
  {
   "cell_type": "code",
   "execution_count": 7,
   "metadata": {},
   "outputs": [
    {
     "name": "stdout",
     "output_type": "stream",
     "text": [
      "Done\n"
     ]
    }
   ],
   "source": [
    "testset = list()\n",
    "testset_nonmatches = list()\n",
    "with open(\"../../data/oaei_data/gold_standard.csv\", mode=\"r\", encoding=\"UTF-8\") as f:\n",
    "    for line in f:\n",
    "        line = line.replace(\"\\n\",\"\").split(\"\\t\")\n",
    "        if line[2] == '1':\n",
    "            testset = testset + [(line[0],line[1],1)]\n",
    "        elif line[0] == 'null':\n",
    "            testset_nonmatches.append(line[1])\n",
    "        elif line[1] == 'null':\n",
    "            testset_nonmatches.append(line[0])\n",
    "        else:\n",
    "            testset = testset + [(line[0],line[1],1)]\n",
    "print(\"Done\")"
   ]
  },
  {
   "cell_type": "code",
   "execution_count": 8,
   "metadata": {},
   "outputs": [
    {
     "name": "stdout",
     "output_type": "stream",
     "text": [
      "Done\n"
     ]
    }
   ],
   "source": [
    "written = set()\n",
    "with open(\"../../data/oaei_data/oaei_gold_standard3.csv\", mode=\"w+\", encoding=\"UTF-8\") as f:\n",
    "    for i in range(len(resources1)):\n",
    "        item = (resources1[i][0], resources2[i][0], 0)\n",
    "        if not contained(item, testset) and not contained(item, positives) and not item[0] in testset_nonmatches and not item[1] in testset_nonmatches:\n",
    "            f.write(str(item[0]) + \"\\t\" + str(item[1]) + \"\\t0\\n\")\n",
    "    for item in positives:\n",
    "        if not contained(item, testset) and not item[0] in testset_nonmatches and not item[1] in testset_nonmatches:\n",
    "            f.write(str(item[0]) + \"\\t\" + str(item[1]) + \"\\t1\\n\")\n",
    "print(\"Done\")"
   ]
  },
  {
   "cell_type": "code",
   "execution_count": null,
   "metadata": {},
   "outputs": [],
   "source": []
  },
  {
   "cell_type": "code",
   "execution_count": null,
   "metadata": {},
   "outputs": [],
   "source": []
  },
  {
   "cell_type": "code",
   "execution_count": 3,
   "metadata": {},
   "outputs": [
    {
     "data": {
      "text/plain": [
       "'abc.x'"
      ]
     },
     "execution_count": 3,
     "metadata": {},
     "output_type": "execute_result"
    }
   ],
   "source": [
    "import os\n",
    "x = os.path.join('data','abc.x')\n",
    "import ntpath\n",
    "ntpath.basename(x)"
   ]
  },
  {
   "cell_type": "code",
   "execution_count": null,
   "metadata": {},
   "outputs": [],
   "source": []
  }
 ],
 "metadata": {
  "kernelspec": {
   "display_name": "Python 3",
   "language": "python",
   "name": "python3"
  },
  "language_info": {
   "codemirror_mode": {
    "name": "ipython",
    "version": 3
   },
   "file_extension": ".py",
   "mimetype": "text/x-python",
   "name": "python",
   "nbconvert_exporter": "python",
   "pygments_lexer": "ipython3",
   "version": "3.6.8"
  }
 },
 "nbformat": 4,
 "nbformat_minor": 2
}
