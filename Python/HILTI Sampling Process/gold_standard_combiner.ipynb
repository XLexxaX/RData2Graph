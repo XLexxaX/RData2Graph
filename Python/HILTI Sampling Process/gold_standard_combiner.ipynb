{
 "cells": [
  {
   "cell_type": "code",
   "execution_count": 1,
   "metadata": {},
   "outputs": [
    {
     "name": "stdout",
     "output_type": "stream",
     "text": [
      "Done\n"
     ]
    }
   ],
   "source": [
    "d = set()\n",
    "with open(\"C:/Users/D072202/RData2Graph/rdata2graph/data/sap_hilti_data/sap_hilti_gold.csv\", mode=\"r\", encoding=\"UTF-8\") as f:\n",
    "    for line in f:\n",
    "        line = line.replace(\"\\n\",\"\").split(\"\\t\")\n",
    "        d.add(line[0] + \",\" + line[1])\n",
    "        d.add(line[1] + \",\" + line[0])\n",
    "with open(\"C:/Users/D072202/RData2Graph/rdata2graph/data/sap_hilti_data/sap_hilti_gold2.csv\", mode=\"r\", encoding=\"UTF-8\") as f:\n",
    "    for line in f:\n",
    "        line = line.replace(\"\\n\",\"\").split(\"\\t\")\n",
    "        d.add(line[0] + \",\" + line[1])\n",
    "        d.add(line[1] + \",\" + line[0])\n",
    "written = set()\n",
    "with open(\"C:/Users/D072202/RData2Graph/rdata2graph/data/sap_hilti_data/sap_hilti_gold3.csv\", mode=\"w+\", encoding=\"UTF-8\") as f:\n",
    "    for item in d:\n",
    "        item = item.split(\",\")\n",
    "        if \"hilti_erp/\" in item[0]:\n",
    "            if item[1] + \",\" + item[0] not in written:\n",
    "                f.write(item[0] + \",\" + item[1] + \"\\n\")\n",
    "                written.add(item[1] + \",\" + item[0])\n",
    "        else:\n",
    "            if item[0] + \",\" + item[1] not in written:\n",
    "                f.write(item[1] + \",\" + item[0] + \"\\n\")\n",
    "                written.add(item[0] + \",\" + item[1])\n",
    "print(\"Done\")"
   ]
  },
  {
   "cell_type": "code",
   "execution_count": null,
   "metadata": {},
   "outputs": [],
   "source": []
  },
  {
   "cell_type": "code",
   "execution_count": null,
   "metadata": {},
   "outputs": [],
   "source": []
  },
  {
   "cell_type": "code",
   "execution_count": null,
   "metadata": {},
   "outputs": [],
   "source": []
  },
  {
   "cell_type": "code",
   "execution_count": null,
   "metadata": {},
   "outputs": [],
   "source": []
  },
  {
   "cell_type": "code",
   "execution_count": null,
   "metadata": {},
   "outputs": [],
   "source": []
  },
  {
   "cell_type": "code",
   "execution_count": null,
   "metadata": {},
   "outputs": [],
   "source": []
  }
 ],
 "metadata": {
  "kernelspec": {
   "display_name": "Python 3",
   "language": "python",
   "name": "python3"
  },
  "language_info": {
   "codemirror_mode": {
    "name": "ipython",
    "version": 3
   },
   "file_extension": ".py",
   "mimetype": "text/x-python",
   "name": "python",
   "nbconvert_exporter": "python",
   "pygments_lexer": "ipython3",
   "version": "3.6.8"
  }
 },
 "nbformat": 4,
 "nbformat_minor": 2
}
