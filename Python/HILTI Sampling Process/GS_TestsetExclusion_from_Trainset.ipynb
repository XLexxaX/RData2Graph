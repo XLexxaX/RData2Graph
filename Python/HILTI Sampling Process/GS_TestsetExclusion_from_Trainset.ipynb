{
 "cells": [
  {
   "cell_type": "code",
   "execution_count": 14,
   "metadata": {},
   "outputs": [
    {
     "name": "stdout",
     "output_type": "stream",
     "text": [
      "122\n"
     ]
    }
   ],
   "source": [
    "d = list()\n",
    "with open(\"C:/Users/D072202/RData2Graph/rdata2graph/data/oaei_data/gold_standard.csv\", mode=\"r\", encoding=\"UTF-8\") as f:\n",
    "    for line in f:\n",
    "        line = line.replace(\"\\n\",\"\").split(\"\\t\")\n",
    "        d = d + [(line[0],line[1],1)]\n",
    "print(len(d))"
   ]
  },
  {
   "cell_type": "code",
   "execution_count": 19,
   "metadata": {},
   "outputs": [],
   "source": [
    "def contained(tup, tlist):\n",
    "    if (tup[0],tup[1],0) in tlist or (tup[0],tup[1],1) in tlist or (tup[1],tup[0],0) in tlist or (tup[1],tup[0],1) in tlist:\n",
    "        return True\n",
    "    elif (tup[0],'null',0) in tlist or (tup[1],'null',0) in tlist:\n",
    "        return True\n",
    "    elif ('null',tup[1],0) in tlist or ('null',tup[0],0) in tlist:\n",
    "        return True\n",
    "    else:\n",
    "        return False"
   ]
  },
  {
   "cell_type": "code",
   "execution_count": 20,
   "metadata": {},
   "outputs": [
    {
     "name": "stdout",
     "output_type": "stream",
     "text": [
      "done\n"
     ]
    }
   ],
   "source": [
    "with open(\"C:/Users/D072202/RData2Graph/rdata2graph/data/oaei_data/oaei_gold_standard4.csv\", mode=\"w+\", encoding=\"UTF-8\") as o:\n",
    "    with open(\"C:/Users/D072202/RData2Graph/rdata2graph/data/oaei_data/oaei_gold_standard3.csv\", mode=\"r\", encoding=\"UTF-8\") as f:\n",
    "        for line in f:\n",
    "            line = line.split(\"\\t\")\n",
    "            if not contained(line, d):\n",
    "                o.write(line[0] + ',' + line[1] + ',' + line[2]) \n",
    "print(\"done\")"
   ]
  },
  {
   "cell_type": "code",
   "execution_count": null,
   "metadata": {},
   "outputs": [],
   "source": []
  }
 ],
 "metadata": {
  "kernelspec": {
   "display_name": "Python 3",
   "language": "python",
   "name": "python3"
  },
  "language_info": {
   "codemirror_mode": {
    "name": "ipython",
    "version": 3
   },
   "file_extension": ".py",
   "mimetype": "text/x-python",
   "name": "python",
   "nbconvert_exporter": "python",
   "pygments_lexer": "ipython3",
   "version": "3.6.8"
  }
 },
 "nbformat": 4,
 "nbformat_minor": 2
}
