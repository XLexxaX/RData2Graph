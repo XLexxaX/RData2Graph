{
 "cells": [
  {
   "cell_type": "code",
   "execution_count": 1,
   "metadata": {},
   "outputs": [],
   "source": [
    "import pandas as pd\n",
    "import numpy as np"
   ]
  },
  {
   "cell_type": "code",
   "execution_count": 2,
   "metadata": {},
   "outputs": [
    {
     "name": "stdout",
     "output_type": "stream",
     "text": [
      "done\n"
     ]
    }
   ],
   "source": [
    "resources1 = set()\n",
    "with open('C:/Users/D072202/RData2Graph/rdata2graph/data/sap_hilti_data/full_strings/graph_triples_hilti_erp.nt', encoding='UTF-8', mode=\"r\") as f:\n",
    "    for line in f:\n",
    "        for resource in line.split(\" \"):\n",
    "            if '<http://rdata2graph.sap.com/hilti_erp/' in resource and len(resource) > 77:\n",
    "                resources1.add(resource.replace(\"<\",\"\").replace(\">\",\"\"))\n",
    "\n",
    "resources2 = set()\n",
    "with open('C:/Users/D072202/RData2Graph/rdata2graph/data/sap_hilti_data/full_strings/graph_triples_hilti_web.nt', encoding='UTF-8', mode=\"r\") as f:\n",
    "    for line in f:\n",
    "        for resource in line.split(\" \"):\n",
    "            if '<http://rdata2graph.sap.com/hilti_web/' in resource and len(resource) > 77:\n",
    "                resources2.add(resource.replace(\"<\",\"\").replace(\">\",\"\"))\n",
    "\n",
    "resources1 = np.array(list(resources1))\n",
    "resources2 = np.array(list(resources2))\n",
    "print(\"done\")"
   ]
  },
  {
   "cell_type": "code",
   "execution_count": 3,
   "metadata": {},
   "outputs": [],
   "source": [
    "resources1 = np.random.choice(resources1, 10000)\n",
    "resources2 = np.random.choice(resources2, 10000)\n",
    "resources1 = np.array([[x] for x in resources1])\n",
    "resources2 = np.array([[x] for x in resources2])"
   ]
  },
  {
   "cell_type": "code",
   "execution_count": null,
   "metadata": {},
   "outputs": [],
   "source": [
    "\n"
   ]
  },
  {
   "cell_type": "code",
   "execution_count": 4,
   "metadata": {},
   "outputs": [
    {
     "ename": "FileNotFoundError",
     "evalue": "[Errno 2] No such file or directory: 'C:/Users/D072202/RData2Graph/rdata2graph/data/sap_hilti_data/hq_sap_hilti_gold.csv'",
     "output_type": "error",
     "traceback": [
      "\u001b[1;31m---------------------------------------------------------------------------\u001b[0m",
      "\u001b[1;31mFileNotFoundError\u001b[0m                         Traceback (most recent call last)",
      "\u001b[1;32m<ipython-input-4-74325d5f3245>\u001b[0m in \u001b[0;36m<module>\u001b[1;34m\u001b[0m\n\u001b[0;32m      1\u001b[0m \u001b[0md\u001b[0m \u001b[1;33m=\u001b[0m \u001b[0mlist\u001b[0m\u001b[1;33m(\u001b[0m\u001b[1;33m)\u001b[0m\u001b[1;33m\u001b[0m\u001b[1;33m\u001b[0m\u001b[0m\n\u001b[0;32m      2\u001b[0m \u001b[0me\u001b[0m \u001b[1;33m=\u001b[0m \u001b[0mlist\u001b[0m\u001b[1;33m(\u001b[0m\u001b[1;33m)\u001b[0m\u001b[1;33m\u001b[0m\u001b[1;33m\u001b[0m\u001b[0m\n\u001b[1;32m----> 3\u001b[1;33m \u001b[1;32mwith\u001b[0m \u001b[0mopen\u001b[0m\u001b[1;33m(\u001b[0m\u001b[1;34m\"C:/Users/D072202/RData2Graph/rdata2graph/data/sap_hilti_data/hq_sap_hilti_gold.csv\"\u001b[0m\u001b[1;33m,\u001b[0m \u001b[0mmode\u001b[0m\u001b[1;33m=\u001b[0m\u001b[1;34m\"r\"\u001b[0m\u001b[1;33m,\u001b[0m \u001b[0mencoding\u001b[0m\u001b[1;33m=\u001b[0m\u001b[1;34m\"UTF-8\"\u001b[0m\u001b[1;33m)\u001b[0m \u001b[1;32mas\u001b[0m \u001b[0mf\u001b[0m\u001b[1;33m:\u001b[0m\u001b[1;33m\u001b[0m\u001b[1;33m\u001b[0m\u001b[0m\n\u001b[0m\u001b[0;32m      4\u001b[0m     \u001b[1;32mfor\u001b[0m \u001b[0mline\u001b[0m \u001b[1;32min\u001b[0m \u001b[0mf\u001b[0m\u001b[1;33m:\u001b[0m\u001b[1;33m\u001b[0m\u001b[1;33m\u001b[0m\u001b[0m\n\u001b[0;32m      5\u001b[0m         \u001b[0mline\u001b[0m \u001b[1;33m=\u001b[0m \u001b[0mline\u001b[0m\u001b[1;33m.\u001b[0m\u001b[0mreplace\u001b[0m\u001b[1;33m(\u001b[0m\u001b[1;34m\"\\n\"\u001b[0m\u001b[1;33m,\u001b[0m\u001b[1;34m\"\"\u001b[0m\u001b[1;33m)\u001b[0m\u001b[1;33m.\u001b[0m\u001b[0msplit\u001b[0m\u001b[1;33m(\u001b[0m\u001b[1;34m\"\\t\"\u001b[0m\u001b[1;33m)\u001b[0m\u001b[1;33m\u001b[0m\u001b[1;33m\u001b[0m\u001b[0m\n",
      "\u001b[1;31mFileNotFoundError\u001b[0m: [Errno 2] No such file or directory: 'C:/Users/D072202/RData2Graph/rdata2graph/data/sap_hilti_data/hq_sap_hilti_gold.csv'"
     ]
    }
   ],
   "source": [
    "d = list()\n",
    "e = list()\n",
    "with open(\"C:/Users/D072202/RData2Graph/rdata2graph/data/sap_hilti_data/hq_sap_hilti_gold.csv\", mode=\"r\", encoding=\"UTF-8\") as f:\n",
    "    for line in f:\n",
    "        line = line.replace(\"\\n\",\"\").split(\"\\t\")\n",
    "        d = d + [(line[0],line[1],1)]\n",
    "for x in np.append(resources1, resources2, axis=1):\n",
    "    e = e + [(x[0], x[1],0)]\n",
    "print(len(d))\n",
    "print(len(e))"
   ]
  },
  {
   "cell_type": "code",
   "execution_count": 5,
   "metadata": {},
   "outputs": [],
   "source": [
    "def contained(tup, tlist):\n",
    "    if (tup[0],tup[1],0) in tlist or (tup[0],tup[1],1) in tlist or (tup[1],tup[0],0) in tlist or (tup[1],tup[0],1) in tlist:\n",
    "        return True\n",
    "    else:\n",
    "        return False"
   ]
  },
  {
   "cell_type": "code",
   "execution_count": 6,
   "metadata": {},
   "outputs": [
    {
     "name": "stdout",
     "output_type": "stream",
     "text": [
      "10000\n"
     ]
    }
   ],
   "source": [
    "g = list()\n",
    "for item in e:\n",
    "    if contained(item, d):\n",
    "        g = g + [(item[0],item[1],1)]\n",
    "    else:\n",
    "        g = g + [item]\n",
    "print(len(g))"
   ]
  },
  {
   "cell_type": "code",
   "execution_count": 7,
   "metadata": {},
   "outputs": [
    {
     "name": "stdout",
     "output_type": "stream",
     "text": [
      "Sorted\n"
     ]
    }
   ],
   "source": [
    "def sortkey(val):\n",
    "    return val[2]\n",
    "\n",
    "d.sort(key = sortkey, reverse = True)\n",
    "print('Sorted')"
   ]
  },
  {
   "cell_type": "code",
   "execution_count": 8,
   "metadata": {},
   "outputs": [
    {
     "name": "stdout",
     "output_type": "stream",
     "text": [
      "Done\n"
     ]
    }
   ],
   "source": [
    "written = set()\n",
    "with open(\"C:/Users/D072202/RData2Graph/rdata2graph/data/sap_hilti_data/new_gold_standard.csv\", mode=\"w+\", encoding=\"UTF-8\") as f:\n",
    "    for item in g:\n",
    "        if not contained(item, written):\n",
    "            f.write(item[0] + \"\\t\" + item[1] + \"\\t\" + str(item[2]) + \"\\n\")\n",
    "            written.add(item) \n",
    "print(\"Done\")"
   ]
  },
  {
   "cell_type": "code",
   "execution_count": null,
   "metadata": {},
   "outputs": [],
   "source": []
  }
 ],
 "metadata": {
  "kernelspec": {
   "display_name": "Python 3",
   "language": "python",
   "name": "python3"
  },
  "language_info": {
   "codemirror_mode": {
    "name": "ipython",
    "version": 3
   },
   "file_extension": ".py",
   "mimetype": "text/x-python",
   "name": "python",
   "nbconvert_exporter": "python",
   "pygments_lexer": "ipython3",
   "version": "3.6.8"
  }
 },
 "nbformat": 4,
 "nbformat_minor": 2
}
