{
 "cells": [
  {
   "cell_type": "code",
   "execution_count": 1,
   "metadata": {},
   "outputs": [],
   "source": [
    "import pandas as pd\n",
    "import numpy as np"
   ]
  },
  {
   "cell_type": "code",
   "execution_count": 49,
   "metadata": {},
   "outputs": [
    {
     "name": "stdout",
     "output_type": "stream",
     "text": [
      "done\n"
     ]
    }
   ],
   "source": [
    "resources1 = set()\n",
    "with open('C:/Users/D072202/RData2Graph/rdata2graph/data/sap_hilti_data/full_strings/graph_triples_hilti_erp.nt', encoding='UTF-8', mode=\"r\") as f:\n",
    "    for line in f:\n",
    "        for resource in line.split(\" \"):\n",
    "            if '<http://rdata2graph.sap.com/hilti_erp/' in resource and len(resource) > 77:\n",
    "                resources1.add(resource.replace(\"<\",\"\").replace(\">\",\"\"))\n",
    "\n",
    "resources2 = set()\n",
    "with open('C:/Users/D072202/RData2Graph/rdata2graph/data/sap_hilti_data/full_strings/graph_triples_hilti_web.nt', encoding='UTF-8', mode=\"r\") as f:\n",
    "    for line in f:\n",
    "        for resource in line.split(\" \"):\n",
    "            if '<http://rdata2graph.sap.com/hilti_web/' in resource and len(resource) > 77:\n",
    "                resources2.add(resource.replace(\"<\",\"\").replace(\">\",\"\"))\n",
    "\n",
    "resources1 = np.array(list(resources1))\n",
    "resources2 = np.array(list(resources2))\n",
    "print(\"done\")"
   ]
  },
  {
   "cell_type": "code",
   "execution_count": 50,
   "metadata": {},
   "outputs": [],
   "source": [
    "resources1 = np.random.choice(resources1, 1000)\n",
    "resources2 = np.random.choice(resources2, 1000)\n",
    "resources1 = np.array([[x] for x in resources1])\n",
    "resources2 = np.array([[x] for x in resources2])"
   ]
  },
  {
   "cell_type": "code",
   "execution_count": null,
   "metadata": {},
   "outputs": [],
   "source": [
    "\n"
   ]
  },
  {
   "cell_type": "code",
   "execution_count": 57,
   "metadata": {},
   "outputs": [
    {
     "name": "stdout",
     "output_type": "stream",
     "text": [
      "769\n",
      "10\n"
     ]
    }
   ],
   "source": [
    "d = list()\n",
    "e = list()\n",
    "with open(\"C:/Users/D072202/RData2Graph/rdata2graph/data/sap_hilti_data/hq_sap_hilti_gold.csv\", mode=\"r\", encoding=\"UTF-8\") as f:\n",
    "    for line in f:\n",
    "        line = line.replace(\"\\n\",\"\").split(\"\\t\")\n",
    "        d = d + [(line[0],line[1],1)]\n",
    "for x in np.append(resources1, resources2, axis=1):\n",
    "    e = e + [(x[0], x[1],0)]\n",
    "print(len(d))\n",
    "print(len(e))"
   ]
  },
  {
   "cell_type": "code",
   "execution_count": 58,
   "metadata": {},
   "outputs": [],
   "source": [
    "def contained(tup, tlist):\n",
    "    if (tup[0],tup[1],0) in tlist or (tup[0],tup[1],1) in tlist or (tup[1],tup[0],0) in tlist or (tup[1],tup[0],1) in tlist:\n",
    "        return True\n",
    "    else:\n",
    "        return False"
   ]
  },
  {
   "cell_type": "code",
   "execution_count": 59,
   "metadata": {},
   "outputs": [
    {
     "name": "stdout",
     "output_type": "stream",
     "text": [
      "10\n"
     ]
    }
   ],
   "source": [
    "g = list()\n",
    "for item in e:\n",
    "    if contained(item, d):\n",
    "        g = g + [(item[0],item[1],1)]\n",
    "    else:\n",
    "        g = g + [item]\n",
    "print(len(g))"
   ]
  },
  {
   "cell_type": "code",
   "execution_count": 60,
   "metadata": {},
   "outputs": [
    {
     "name": "stdout",
     "output_type": "stream",
     "text": [
      "Sorted\n"
     ]
    }
   ],
   "source": [
    "def sortkey(val):\n",
    "    return val[2]\n",
    "\n",
    "d.sort(key = sortkey, reverse = True)\n",
    "print('Sorted')"
   ]
  },
  {
   "cell_type": "code",
   "execution_count": 61,
   "metadata": {},
   "outputs": [
    {
     "name": "stdout",
     "output_type": "stream",
     "text": [
      "Done\n"
     ]
    }
   ],
   "source": [
    "written = set()\n",
    "with open(\"C:/Users/D072202/RData2Graph/rdata2graph/data/sap_hilti_data/new_gold_standard.csv\", mode=\"w+\", encoding=\"UTF-8\") as f:\n",
    "    for item in g:\n",
    "        if not contained(item, written):\n",
    "            f.write(item[0] + \"\\t\" + item[1] + \"\\t\" + str(item[2]) + \"\\n\")\n",
    "            written.add(item) \n",
    "print(\"Done\")"
   ]
  },
  {
   "cell_type": "code",
   "execution_count": null,
   "metadata": {},
   "outputs": [],
   "source": []
  }
 ],
 "metadata": {
  "kernelspec": {
   "display_name": "Python 3",
   "language": "python",
   "name": "python3"
  },
  "language_info": {
   "codemirror_mode": {
    "name": "ipython",
    "version": 3
   },
   "file_extension": ".py",
   "mimetype": "text/x-python",
   "name": "python",
   "nbconvert_exporter": "python",
   "pygments_lexer": "ipython3",
   "version": "3.6.8"
  }
 },
 "nbformat": 4,
 "nbformat_minor": 2
}
