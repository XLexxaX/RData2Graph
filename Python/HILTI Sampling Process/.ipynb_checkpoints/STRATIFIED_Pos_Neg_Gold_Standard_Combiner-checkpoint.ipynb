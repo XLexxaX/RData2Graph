{
 "cells": [
  {
   "cell_type": "code",
   "execution_count": 11,
   "metadata": {},
   "outputs": [
    {
     "name": "stdout",
     "output_type": "stream",
     "text": [
      "769\n",
      "2514\n"
     ]
    }
   ],
   "source": [
    "d = list()\n",
    "e = list()\n",
    "with open(\"C:/Users/D072202/RData2Graph/rdata2graph/data/sap_hilti_data/hq_sap_hilti_gold.csv\", mode=\"r\", encoding=\"UTF-8\") as f:\n",
    "    for line in f:\n",
    "        line = line.replace(\"\\n\",\"\").split(\"\\t\")\n",
    "        d = d + [(line[0],line[1],1)]\n",
    "with open(\"negative_sampled_gold_standard\", mode=\"r\", encoding=\"UTF-8\") as f:\n",
    "    for line in f:\n",
    "        line = line.replace(\"\\n\",\"\").split(\"\\t\")\n",
    "        e = e + [(line[0] , line[1],0)]\n",
    "print(len(d))\n",
    "print(len(e))"
   ]
  },
  {
   "cell_type": "code",
   "execution_count": 12,
   "metadata": {},
   "outputs": [
    {
     "data": {
      "text/plain": [
       "11419650"
      ]
     },
     "execution_count": 12,
     "metadata": {},
     "output_type": "execute_result"
    }
   ],
   "source": [
    "tmp = list()\n",
    "for item in d:\n",
    "    tmp.append(item)\n",
    "    for node in nodes_A:\n",
    "        if not node==item[1]:\n",
    "            tmp.append(['null',item[1],0])\n",
    "    for node in nodes_B:\n",
    "        if not node==item[1]:\n",
    "            tmp.append([item[0],'null',0])\n",
    "d = tmp\n",
    "len(d)"
   ]
  },
  {
   "cell_type": "code",
   "execution_count": 4,
   "metadata": {},
   "outputs": [],
   "source": [
    "def contained(tup, tlist):\n",
    "    if (tup[0],tup[1],0) in tlist or (tup[0],tup[1],1) in tlist or (tup[1],tup[0],0) in tlist or (tup[1],tup[0],1) in tlist:\n",
    "        return True\n",
    "    else:\n",
    "        return False"
   ]
  },
  {
   "cell_type": "code",
   "execution_count": 5,
   "metadata": {},
   "outputs": [
    {
     "name": "stdout",
     "output_type": "stream",
     "text": [
      "2514\n"
     ]
    }
   ],
   "source": [
    "g = list()\n",
    "for item in e:\n",
    "    if contained(item, d):\n",
    "        g = g + [(item[0],item[1],1)]\n",
    "    else:\n",
    "        g = g + [item]\n",
    "print(len(g))"
   ]
  },
  {
   "cell_type": "code",
   "execution_count": 6,
   "metadata": {},
   "outputs": [
    {
     "name": "stdout",
     "output_type": "stream",
     "text": [
      "Number of positives: 99\n",
      "Number of negatives: 2415\n"
     ]
    }
   ],
   "source": [
    "i=0\n",
    "for item in g:\n",
    "    if item[2] == 1:\n",
    "        i=i+1\n",
    "print(\"Number of positives: \" + str(i))\n",
    "print(\"Number of negatives: \" + str(len(g) - i))"
   ]
  },
  {
   "cell_type": "code",
   "execution_count": 5,
   "metadata": {},
   "outputs": [
    {
     "name": "stdout",
     "output_type": "stream",
     "text": [
      "Sorted\n"
     ]
    }
   ],
   "source": [
    "def sortkey(val):\n",
    "    return val[2]\n",
    "\n",
    "d.sort(key = sortkey, reverse = True)\n",
    "print('Sorted')"
   ]
  },
  {
   "cell_type": "code",
   "execution_count": null,
   "metadata": {},
   "outputs": [],
   "source": []
  },
  {
   "cell_type": "code",
   "execution_count": 6,
   "metadata": {},
   "outputs": [
    {
     "name": "stdout",
     "output_type": "stream",
     "text": [
      "Done\n"
     ]
    }
   ],
   "source": [
    "\n",
    "written = set()\n",
    "with open(\"C:/Users/D072202/RData2Graph/rdata2graph/data/sap_hilti_data/hq_sap_hilti_gold_stratified.csv\", mode=\"w+\", encoding=\"UTF-8\") as f:\n",
    "    for item in g:\n",
    "        if not contained(item, written):\n",
    "            f.write(item[0] + \"\\t\" + item[1] + \"\\t\" + str(item[2]) + \"\\n\")\n",
    "            written.add(item) \n",
    "print(\"Done\")"
   ]
  },
  {
   "cell_type": "code",
   "execution_count": 7,
   "metadata": {},
   "outputs": [],
   "source": [
    "import os\n",
    "os.remove('negative_sampled_gold_standard')"
   ]
  },
  {
   "cell_type": "code",
   "execution_count": null,
   "metadata": {},
   "outputs": [],
   "source": []
  }
 ],
 "metadata": {
  "kernelspec": {
   "display_name": "Python 3",
   "language": "python",
   "name": "python3"
  },
  "language_info": {
   "codemirror_mode": {
    "name": "ipython",
    "version": 3
   },
   "file_extension": ".py",
   "mimetype": "text/x-python",
   "name": "python",
   "nbconvert_exporter": "python",
   "pygments_lexer": "ipython3",
   "version": "3.6.8"
  }
 },
 "nbformat": 4,
 "nbformat_minor": 2
}
