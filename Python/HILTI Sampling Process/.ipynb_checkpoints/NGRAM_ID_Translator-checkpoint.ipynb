{
 "cells": [
  {
   "cell_type": "code",
   "execution_count": 1,
   "metadata": {},
   "outputs": [],
   "source": [
    "import re\n",
    "import os\n",
    "import shutil"
   ]
  },
  {
   "cell_type": "code",
   "execution_count": 2,
   "metadata": {},
   "outputs": [],
   "source": [
    "\n",
    "id_map1 = dict()\n",
    "with open('C:/Users/D072202/RData2Graph/rdata2graph/data/sap_hilti_data/full_strings/instanceID-to-verticeID_hilti_web.txt', encoding='UTF-8') as f:\n",
    "    for line in f:\n",
    "        line = line.split(',')\n",
    "        id_map1[line[0]] = line[1].replace('\\n','')\n",
    "\n",
    "id_map2 = dict()\n",
    "with open('C:/Users/D072202/RData2Graph/rdata2graph/data/sap_hilti_data/full_strings/instanceID-to-verticeID_hilti_erp.txt', encoding='UTF-8') as f:\n",
    "    for line in f:\n",
    "        line = line.split(',')\n",
    "        id_map2[line[0]] = line[1].replace('\\n','')"
   ]
  },
  {
   "cell_type": "code",
   "execution_count": 3,
   "metadata": {},
   "outputs": [],
   "source": [
    "def replace(filepath, idmapspath, idmap):\n",
    "    notfound = set()\n",
    "    inf = open(filepath, 'r', encoding='UTF-8')\n",
    "    outf = open(filepath+\".tmp\", 'w+', encoding='UTF-8')\n",
    "    text = inf.read()\n",
    "    with open(idmapspath, encoding='UTF-8') as f:\n",
    "            for line in f:\n",
    "                line = line.replace('\\n','').split(',')\n",
    "                try:\n",
    "                    text = text.replace(line[1], idmap[line[0]])\n",
    "                except KeyError as e:\n",
    "                    if line[1] not in notfound:\n",
    "                        print(\"Key |\" + line[0] + \"| not found.\")\n",
    "                        notfound.add(line[1])\n",
    "    outf.write(text)\n",
    "    outf.close()\n",
    "    inf.close()\n",
    "    os.remove(filepath)\n",
    "    shutil.copyfile(filepath+\".tmp\", filepath)\n",
    "    os.remove(filepath+\".tmp\")"
   ]
  },
  {
   "cell_type": "code",
   "execution_count": 6,
   "metadata": {},
   "outputs": [
    {
     "name": "stdout",
     "output_type": "stream",
     "text": [
      "Key |04507c07-2a66-4fa4-810b-4568dce50add.dc694fc9-7050-45e7-b6d0-3528a144db1a| not found.\n",
      "Key |5420cd01-3b7e-4298-9b3b-e22e04488461.e6e10f03-462a-410f-a76e-189c226c317d| not found.\n",
      "Key |7491e4f2-f152-4645-a2cb-c802ee428cda.3a731de7-a64b-4a77-a3ea-66b0fa4afb61| not found.\n",
      "Key |a4c02779-7e41-4075-9c5e-c3b832793c29.378223f5-0af1-47bb-8429-3171d2bd8561| not found.\n",
      "Key |04507c07-2a66-4fa4-810b-4568dce50add.dc694fc9-7050-45e7-b6d0-3528a144db1a| not found.\n",
      "Key |5420cd01-3b7e-4298-9b3b-e22e04488461.e6e10f03-462a-410f-a76e-189c226c317d| not found.\n",
      "Key |7491e4f2-f152-4645-a2cb-c802ee428cda.3a731de7-a64b-4a77-a3ea-66b0fa4afb61| not found.\n",
      "Key |a4c02779-7e41-4075-9c5e-c3b832793c29.378223f5-0af1-47bb-8429-3171d2bd8561| not found.\n",
      "Key |282d6758-3d4c-45b1-a215-7b98ca6dccc6.c140217f-3efd-4e23-99a4-643eee79ab6c| not found.\n",
      "Key |95d7a09c-d1f1-4a21-b9fa-462e2a2646c2.e6335f11-ed21-4583-9f4b-11837578c539| not found.\n",
      "Key |eb464ee6-44bf-48df-8db0-2b8f94bc03dc.c3759026-b2a8-4b96-89de-09059b884296| not found.\n",
      "Key |1adab4e8-9b31-4fb9-8f66-0a18aa800963.7ee4665e-b45b-4221-b9bd-41649c8191a0| not found.\n",
      "Key |a24be007-f88c-4c69-b16a-7f17765df243.272f1d7d-369a-4645-aab9-d6bb1d4e6846| not found.\n",
      "Key |36a1375e-6616-4244-92f3-170450dd1acc.0c24ceae-47e5-4772-8d97-5eaaff54c5e1| not found.\n",
      "Key |282d6758-3d4c-45b1-a215-7b98ca6dccc6.c140217f-3efd-4e23-99a4-643eee79ab6c| not found.\n",
      "Key |95d7a09c-d1f1-4a21-b9fa-462e2a2646c2.e6335f11-ed21-4583-9f4b-11837578c539| not found.\n",
      "Key |eb464ee6-44bf-48df-8db0-2b8f94bc03dc.c3759026-b2a8-4b96-89de-09059b884296| not found.\n",
      "Key |1adab4e8-9b31-4fb9-8f66-0a18aa800963.7ee4665e-b45b-4221-b9bd-41649c8191a0| not found.\n",
      "Key |a24be007-f88c-4c69-b16a-7f17765df243.272f1d7d-369a-4645-aab9-d6bb1d4e6846| not found.\n",
      "Key |36a1375e-6616-4244-92f3-170450dd1acc.0c24ceae-47e5-4772-8d97-5eaaff54c5e1| not found.\n"
     ]
    }
   ],
   "source": [
    "replace('C:/Users/D072202/RData2Graph/rdata2graph/data/sap_hilti_data/3gram/corpus_hilti_web.txt', 'C:/Users/D072202/RData2Graph/rdata2graph/data/sap_hilti_data/3gram/instanceID-to-verticeID_hilti_web.txt', id_map1)\n",
    "replace('C:/Users/D072202/RData2Graph/rdata2graph/data/sap_hilti_data/3gram/graph_triples_hilti_web.nt', 'C:/Users/D072202/RData2Graph/rdata2graph/data/sap_hilti_data/3gram/instanceID-to-verticeID_hilti_web.txt', id_map1)\n",
    "replace('C:/Users/D072202/RData2Graph/rdata2graph/data/sap_hilti_data/3gram/corpus_hilti_erp.txt', 'C:/Users/D072202/RData2Graph/rdata2graph/data/sap_hilti_data/3gram/instanceID-to-verticeID_hilti_erp.txt', id_map2)\n",
    "replace('C:/Users/D072202/RData2Graph/rdata2graph/data/sap_hilti_data/3gram/graph_triples_hilti_erp.nt', 'C:/Users/D072202/RData2Graph/rdata2graph/data/sap_hilti_data/3gram/instanceID-to-verticeID_hilti_erp.txt', id_map2)"
   ]
  },
  {
   "cell_type": "code",
   "execution_count": 4,
   "metadata": {},
   "outputs": [
    {
     "name": "stdout",
     "output_type": "stream",
     "text": [
      "Done\n"
     ]
    }
   ],
   "source": [
    "print(\"Done\")"
   ]
  },
  {
   "cell_type": "code",
   "execution_count": null,
   "metadata": {},
   "outputs": [],
   "source": []
  },
  {
   "cell_type": "code",
   "execution_count": null,
   "metadata": {},
   "outputs": [],
   "source": []
  },
  {
   "cell_type": "code",
   "execution_count": null,
   "metadata": {},
   "outputs": [],
   "source": []
  },
  {
   "cell_type": "code",
   "execution_count": null,
   "metadata": {},
   "outputs": [],
   "source": []
  }
 ],
 "metadata": {
  "kernelspec": {
   "display_name": "Python 3",
   "language": "python",
   "name": "python3"
  },
  "language_info": {
   "codemirror_mode": {
    "name": "ipython",
    "version": 3
   },
   "file_extension": ".py",
   "mimetype": "text/x-python",
   "name": "python",
   "nbconvert_exporter": "python",
   "pygments_lexer": "ipython3",
   "version": "3.7.1"
  }
 },
 "nbformat": 4,
 "nbformat_minor": 2
}
