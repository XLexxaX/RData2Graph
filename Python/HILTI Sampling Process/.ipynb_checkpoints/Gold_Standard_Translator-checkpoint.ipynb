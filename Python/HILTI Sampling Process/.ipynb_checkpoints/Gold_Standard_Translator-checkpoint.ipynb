{
 "cells": [
  {
   "cell_type": "code",
   "execution_count": null,
   "metadata": {},
   "outputs": [],
   "source": [
    "import pandas as pd"
   ]
  },
  {
   "cell_type": "code",
   "execution_count": null,
   "metadata": {},
   "outputs": [],
   "source": [
    "gs1 = pd.read_csv('C:/Users/D072202/RData2Graph/rdata2graph/data/sap_hilti_data/hq_sap_hilti_gold_raw_trainset_of_positives.csv', encoding=\"ISO-8859-1\")\n",
    "gs2 = pd.read_csv('C:/Users/D072202/RData2Graph/rdata2graph/data/sap_hilti_data/hq_sap_hilti_gold_raw_testset_of_positives.csv', encoding=\"ISO-8859-1\")\n",
    "dictionary1 = pd.read_csv('C:/Users/D072202/RData2Graph/rdata2graph/data/sap_hilti_data/instanceID-to-verticeID_hilti_web.txt', encoding=\"ISO-8859-1\", header=None)\n",
    "dictionary2 = pd.read_csv('C:/Users/D072202/RData2Graph/rdata2graph/data/sap_hilti_data/instanceID-to-verticeID_hilti_erp.txt', encoding=\"ISO-8859-1\", header=None)\n",
    "gs.head(10)"
   ]
  },
  {
   "cell_type": "code",
   "execution_count": null,
   "metadata": {},
   "outputs": [],
   "source": []
  },
  {
   "cell_type": "code",
   "execution_count": null,
   "metadata": {},
   "outputs": [],
   "source": [
    "dictionary1[0] = dictionary1[0].astype(str)\n",
    "dictionary2[0] = dictionary2[0].astype(str)\n",
    "gs1['Products.id;id;x'] = 'Products.id.'+gs1['Products.id;id;x'].astype(str)\n",
    "gs1['MARA_FERT.id;id;x'] = 'MARA_FERT.id.'+gs1['MARA_FERT.id;id;x'].astype(str)\n",
    "gs1['Products.id;id;x'] = gs1['Products.id;id;x'].astype(str)\n",
    "gs1['MARA_FERT.id;id;x'] = gs1['MARA_FERT.id;id;x'].astype(str)\n",
    "gs2['Products.id;id;x'] = 'Products.id.'+gs2['Products.id;id;x'].astype(str)\n",
    "gs2['MARA_FERT.id;id;x'] = 'MARA_FERT.id.'+gs2['MARA_FERT.id;id;x'].astype(str)\n",
    "gs2['Products.id;id;x'] = gs2['Products.id;id;x'].astype(str)\n",
    "gs2['MARA_FERT.id;id;x'] = gs2['MARA_FERT.id;id;x'].astype(str)\n",
    "gs2.head()"
   ]
  },
  {
   "cell_type": "code",
   "execution_count": null,
   "metadata": {},
   "outputs": [],
   "source": []
  },
  {
   "cell_type": "code",
   "execution_count": null,
   "metadata": {
    "scrolled": true
   },
   "outputs": [],
   "source": [
    "tmp = pd.merge(gs1, dictionary2, left_on='MARA_FERT.id;id;x', right_on=[0])\n",
    "tmp = pd.merge(tmp, dictionary1, left_on='Products.id;id;x', right_on=[0])\n",
    "tmp.head()"
   ]
  },
  {
   "cell_type": "code",
   "execution_count": null,
   "metadata": {},
   "outputs": [],
   "source": [
    "tmp.size/len(tmp.columns)"
   ]
  },
  {
   "cell_type": "code",
   "execution_count": null,
   "metadata": {},
   "outputs": [],
   "source": [
    "tmp['Products.id;id;x'] = tmp['1_y']\n",
    "tmp['MARA_FERT.id;id;x'] = tmp['1_x']\n",
    "tmp['Products.id;id;x'] = tmp['Products.id;id;x'].to_frame().applymap(lambda s:s.replace('<','').replace('>',''))\n",
    "tmp['MARA_FERT.id;id;x'] = tmp['MARA_FERT.id;id;x'].to_frame().applymap(lambda s:s.replace('<','').replace('>',''))\n",
    "tmp[['MARA_FERT.id;id;x', 'Products.id;id;x']].to_csv(path_or_buf='C:/Users/D072202/RData2Graph/rdata2graph/data/sap_hilti_data/trainset_of_positives.csv', index=False, header=False, sep='\\t')"
   ]
  },
  {
   "cell_type": "code",
   "execution_count": null,
   "metadata": {},
   "outputs": [],
   "source": []
  },
  {
   "cell_type": "code",
   "execution_count": null,
   "metadata": {},
   "outputs": [],
   "source": [
    "tmp = pd.merge(gs2, dictionary2, left_on='MARA_FERT.id;id;x', right_on=[0])\n",
    "tmp = pd.merge(tmp, dictionary1, left_on='Products.id;id;x', right_on=[0])\n",
    "tmp.head()"
   ]
  },
  {
   "cell_type": "code",
   "execution_count": null,
   "metadata": {},
   "outputs": [],
   "source": [
    "tmp.size/len(tmp.columns)"
   ]
  },
  {
   "cell_type": "code",
   "execution_count": null,
   "metadata": {},
   "outputs": [],
   "source": [
    "tmp['Products.id;id;x'] = tmp['1_y']\n",
    "tmp['MARA_FERT.id;id;x'] = tmp['1_x']\n",
    "tmp['Products.id;id;x'] = tmp['Products.id;id;x'].to_frame().applymap(lambda s:s.replace('<','').replace('>',''))\n",
    "tmp['MARA_FERT.id;id;x'] = tmp['MARA_FERT.id;id;x'].to_frame().applymap(lambda s:s.replace('<','').replace('>',''))\n",
    "tmp[['MARA_FERT.id;id;x', 'Products.id;id;x']].to_csv(path_or_buf='C:/Users/D072202/RData2Graph/rdata2graph/data/sap_hilti_data/final_testset.csv', index=False, header=False, sep='\\t')"
   ]
  },
  {
   "cell_type": "code",
   "execution_count": null,
   "metadata": {},
   "outputs": [],
   "source": [
    "txt=\"\"\n",
    "with open('C:/Users/D072202/RData2Graph/rdata2graph/data/sap_hilti_data/final_testset.csv', encoding='UTF-8', mode=\"r\") as f:\n",
    "    txt = f.read()\n",
    "with open('C:/Users/D072202/RData2Graph/rdata2graph/data/sap_hilti_data/final_testset.csv', encoding='UTF-8', mode=\"w\") as f:\n",
    "    f.write(txt.replace(\"\\r\\n\",\"\\t1\\r\\n\")"
   ]
  },
  {
   "cell_type": "code",
   "execution_count": null,
   "metadata": {},
   "outputs": [],
   "source": []
  }
 ],
 "metadata": {
  "kernelspec": {
   "display_name": "Python 3",
   "language": "python",
   "name": "python3"
  },
  "language_info": {
   "codemirror_mode": {
    "name": "ipython",
    "version": 3
   },
   "file_extension": ".py",
   "mimetype": "text/x-python",
   "name": "python",
   "nbconvert_exporter": "python",
   "pygments_lexer": "ipython3",
   "version": "3.6.8"
  }
 },
 "nbformat": 4,
 "nbformat_minor": 2
}
