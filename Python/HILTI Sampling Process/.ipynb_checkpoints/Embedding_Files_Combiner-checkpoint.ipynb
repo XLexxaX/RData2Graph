{
 "cells": [
  {
   "cell_type": "code",
   "execution_count": 7,
   "metadata": {},
   "outputs": [],
   "source": [
    "prefix = 'C:/Users/D072202/DeepAnyMatch/DeepAnyMatch/result_data/test_2019_04_01_16_49_19_068904/'\n",
    "infiles = ['train_hard-strcombined.csv','train_simple-strcombined.csv']\n",
    "outfile = open(prefix+'all-strcombined.csv', mode='w+', encoding='UTF-8')\n"
   ]
  },
  {
   "cell_type": "code",
   "execution_count": 8,
   "metadata": {},
   "outputs": [
    {
     "name": "stdout",
     "output_type": "stream",
     "text": [
      "done\n"
     ]
    }
   ],
   "source": [
    "header_written = False\n",
    "for infile in infiles:\n",
    "    with open(prefix+infile, mode='r', encoding='UTF-8') as f:\n",
    "        outfile.write(f.read())\n",
    "outfile.close()\n",
    "print(\"done\")"
   ]
  },
  {
   "cell_type": "code",
   "execution_count": null,
   "metadata": {},
   "outputs": [],
   "source": []
  }
 ],
 "metadata": {
  "kernelspec": {
   "display_name": "Python 3",
   "language": "python",
   "name": "python3"
  },
  "language_info": {
   "codemirror_mode": {
    "name": "ipython",
    "version": 3
   },
   "file_extension": ".py",
   "mimetype": "text/x-python",
   "name": "python",
   "nbconvert_exporter": "python",
   "pygments_lexer": "ipython3",
   "version": "3.6.8"
  }
 },
 "nbformat": 4,
 "nbformat_minor": 2
}
