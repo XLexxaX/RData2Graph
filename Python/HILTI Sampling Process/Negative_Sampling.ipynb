{
 "cells": [
  {
   "cell_type": "code",
   "execution_count": 1,
   "metadata": {},
   "outputs": [],
   "source": [
    "from libs.GraphToolbox import GraphManager\n",
    "from libs.InvertedIndexToolbox import getNGrams\n",
    "import operator\n",
    "import pprint\n",
    "import os\n",
    "import random\n",
    "import numpy as np"
   ]
  },
  {
   "cell_type": "code",
   "execution_count": null,
   "metadata": {},
   "outputs": [],
   "source": []
  },
  {
   "cell_type": "code",
   "execution_count": 2,
   "metadata": {},
   "outputs": [
    {
     "name": "stdout",
     "output_type": "stream",
     "text": [
      "Done\n"
     ]
    }
   ],
   "source": [
    "index_properties = [str(\"<http://rdata2graph.sap.com/hilti_erp/property/MARA_FERT.MAKTX>\").lower(), str(\"<http://rdata2graph.sap.com/hilti_web/property/Products.name>\").lower()]\n",
    "src_graphmanager = GraphManager()\n",
    "src_graphmanager.setIndexProperties(index_properties)\n",
    "src_graphmanager.readGraphFromNTFile(\"C:/Users/D072202/RData2Graph/rdata2graph/data/sap_hilti_data/graph_triples_hilti_erp.nt\")\n",
    "tgt_graphmanager = GraphManager()\n",
    "tgt_graphmanager.setIndexProperties(index_properties)\n",
    "tgt_graphmanager.readGraphFromNTFile(\"C:/Users/D072202/RData2Graph/rdata2graph/data/sap_hilti_data/graph_triples_hilti_web.nt\")\n",
    "print(\"Done\")"
   ]
  },
  {
   "cell_type": "code",
   "execution_count": 3,
   "metadata": {},
   "outputs": [
    {
     "name": "stdout",
     "output_type": "stream",
     "text": [
      "Selected 2005 samples out of 12297\n"
     ]
    }
   ],
   "source": [
    "randomly_drawn_nodes = list()\n",
    "N=2000\n",
    "for nodeid in src_graphmanager.graph.keys():\n",
    "    if random.random() > 1-N/len(src_graphmanager.graph.keys()):\n",
    "        randomly_drawn_nodes.append(nodeid)\n",
    "print('Selected ' + str(len(randomly_drawn_nodes)) + ' samples out of ' + str(len(src_graphmanager.graph.keys())))"
   ]
  },
  {
   "cell_type": "code",
   "execution_count": 4,
   "metadata": {},
   "outputs": [],
   "source": [
    "def sortkey(val):\n",
    "    return val[1]\n",
    "\n",
    "def aggregate_to_dict(indices):\n",
    "    tmp_tgt_ind = dict()\n",
    "    for index in indices:\n",
    "            if index in tmp_tgt_ind.keys():\n",
    "                tmp_tgt_ind[index] = tmp_tgt_ind[index] + 1\n",
    "            else:\n",
    "                tmp_tgt_ind[index] = 1\n",
    "    return tmp_tgt_ind\n"
   ]
  },
  {
   "cell_type": "code",
   "execution_count": 5,
   "metadata": {},
   "outputs": [
    {
     "name": "stdout",
     "output_type": "stream",
     "text": [
      "Done\n"
     ]
    }
   ],
   "source": [
    "f = open('negative_sampled_gold_standard', 'w+')\n",
    "\n",
    "for nodeid in randomly_drawn_nodes:\n",
    "    indices = []\n",
    "    for src_prop in src_graphmanager.indices.keys():\n",
    "                for tgt_prop in tgt_graphmanager.indices.keys():\n",
    "                    try:\n",
    "                        indices = indices + tgt_graphmanager.indices[tgt_prop].getIndicesForValue(src_graphmanager.graph[nodeid][src_prop])\n",
    "                    except KeyError:\n",
    "                        pass\n",
    "    tmp_tgt_ind = aggregate_to_dict(indices)\n",
    "\n",
    "    best_matching_resources = list(tmp_tgt_ind.items())\n",
    "    if best_matching_resources is None or best_matching_resources == []:\n",
    "        continue\n",
    "    best_matching_resources.sort(key = sortkey, reverse = True)\n",
    "    best_matching_resources = np.array(best_matching_resources)\n",
    "    current_correspondences = list()\n",
    "    current_correspondences = current_correspondences + best_matching_resources[:3,0].tolist()\n",
    "    current_correspondences = current_correspondences + best_matching_resources[len(best_matching_resources)-3:len(best_matching_resources),0].tolist()  \n",
    "    for correspondence in current_correspondences:\n",
    "        f.write(nodeid.replace(\"<\",\"\").replace(\">\",\"\") + \"\\t\" + correspondence.replace(\"<\",\"\").replace(\">\",\"\") +\"\\n\")\n",
    "f.close()\n",
    "print(\"Done\")"
   ]
  },
  {
   "cell_type": "code",
   "execution_count": null,
   "metadata": {},
   "outputs": [],
   "source": []
  },
  {
   "cell_type": "code",
   "execution_count": null,
   "metadata": {},
   "outputs": [],
   "source": []
  },
  {
   "cell_type": "code",
   "execution_count": null,
   "metadata": {},
   "outputs": [],
   "source": []
  },
  {
   "cell_type": "code",
   "execution_count": null,
   "metadata": {},
   "outputs": [],
   "source": []
  }
 ],
 "metadata": {
  "kernelspec": {
   "display_name": "Python 3",
   "language": "python",
   "name": "python3"
  },
  "language_info": {
   "codemirror_mode": {
    "name": "ipython",
    "version": 3
   },
   "file_extension": ".py",
   "mimetype": "text/x-python",
   "name": "python",
   "nbconvert_exporter": "python",
   "pygments_lexer": "ipython3",
   "version": "3.6.8"
  }
 },
 "nbformat": 4,
 "nbformat_minor": 2
}
