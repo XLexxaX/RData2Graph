{
 "cells": [
  {
   "cell_type": "code",
   "execution_count": 1,
   "metadata": {},
   "outputs": [
    {
     "name": "stdout",
     "output_type": "stream",
     "text": [
      "614\n",
      "0\n"
     ]
    }
   ],
   "source": [
    "d = list()\n",
    "e = list()\n",
    "with open(\"C:/Users/D072202/RData2Graph/rdata2graph/data/sap_hilti_data/trainset_of_positives.csv\", mode=\"r\", encoding=\"UTF-8\") as f:\n",
    "    for line in f:\n",
    "        line = line.replace(\"\\n\",\"\").split(\"\\t\")\n",
    "        d = d + [(line[0],line[1],1)]\n",
    "print(len(d))\n",
    "print(len(e))"
   ]
  },
  {
   "cell_type": "code",
   "execution_count": 2,
   "metadata": {},
   "outputs": [],
   "source": [
    "def contained(tup, tlist):\n",
    "    if (tup[0],tup[1],0) in tlist or (tup[0],tup[1],1) in tlist or (tup[1],tup[0],0) in tlist or (tup[1],tup[0],1) in tlist:\n",
    "        return True\n",
    "    else:\n",
    "        return False"
   ]
  },
  {
   "cell_type": "code",
   "execution_count": 3,
   "metadata": {},
   "outputs": [],
   "source": [
    "import numpy as np\n",
    "\n",
    "random_negative_sample = None\n",
    "shufflingrounds = 0\n",
    "while shufflingrounds < 20:\n",
    "    shufflingrounds = shufflingrounds+1\n",
    "    d0 = np.array(list(set([x[0] for x in d])))\n",
    "    np.random.shuffle(d0)\n",
    "    d1 = np.array(list(set([x[1] for x in d])))\n",
    "    np.random.shuffle(d1)\n",
    "    d0 = d0.reshape((d0.shape[0],1))\n",
    "    d1 = d1.reshape((d1.shape[0],1))\n",
    "    tmp = np.concatenate((d0, d1),axis=1)\n",
    "    if random_negative_sample is None:\n",
    "        random_negative_sample = tmp\n",
    "    else:\n",
    "        random_negative_sample = np.concatenate((random_negative_sample, tmp), axis=0)\n",
    "\n",
    "for rns in random_negative_sample:\n",
    "        item = (rns[0], rns[1],0)\n",
    "        if not contained(item, d):\n",
    "            d.append(item)\n"
   ]
  },
  {
   "cell_type": "code",
   "execution_count": 4,
   "metadata": {},
   "outputs": [
    {
     "data": {
      "text/plain": [
       "12280"
      ]
     },
     "execution_count": 4,
     "metadata": {},
     "output_type": "execute_result"
    }
   ],
   "source": [
    "len(random_negative_sample)"
   ]
  },
  {
   "cell_type": "code",
   "execution_count": 5,
   "metadata": {},
   "outputs": [
    {
     "name": "stdout",
     "output_type": "stream",
     "text": [
      "Number of negative samples: 12050\n",
      "Number of positive samples: 614\n"
     ]
    }
   ],
   "source": [
    "ctr = 0\n",
    "for x in d:\n",
    "    if x[2]==0:\n",
    "        ctr = ctr + 1\n",
    "print('Number of negative samples: ' + str(ctr))\n",
    "ctr = 0\n",
    "for x in d:\n",
    "    if x[2]==1:\n",
    "        ctr = ctr + 1\n",
    "print('Number of positive samples: ' + str(ctr))"
   ]
  },
  {
   "cell_type": "code",
   "execution_count": null,
   "metadata": {},
   "outputs": [],
   "source": []
  },
  {
   "cell_type": "code",
   "execution_count": null,
   "metadata": {},
   "outputs": [],
   "source": []
  },
  {
   "cell_type": "code",
   "execution_count": null,
   "metadata": {},
   "outputs": [],
   "source": []
  },
  {
   "cell_type": "code",
   "execution_count": null,
   "metadata": {},
   "outputs": [],
   "source": []
  },
  {
   "cell_type": "code",
   "execution_count": 6,
   "metadata": {},
   "outputs": [],
   "source": [
    "from random import shuffle\n",
    "shuffle(d)"
   ]
  },
  {
   "cell_type": "code",
   "execution_count": 7,
   "metadata": {},
   "outputs": [
    {
     "name": "stdout",
     "output_type": "stream",
     "text": [
      "Number of samples: 12664\n"
     ]
    }
   ],
   "source": [
    "ctr=0\n",
    "written = set()\n",
    "with open(\"C:/Users/D072202/RData2Graph/rdata2graph/data/sap_hilti_data/final_trainset.csv\", mode=\"w+\", encoding=\"UTF-8\") as f:\n",
    "    for item in d:\n",
    "        if not contained(item, written):\n",
    "            ctr = ctr + 1\n",
    "            f.write(item[0] + \"\\t\" + item[1] + \"\\t\" + str(item[2]) + \"\\n\")\n",
    "            written.add(item) \n",
    "print('Number of samples: ' + str(ctr))"
   ]
  },
  {
   "cell_type": "code",
   "execution_count": null,
   "metadata": {},
   "outputs": [],
   "source": []
  },
  {
   "cell_type": "code",
   "execution_count": null,
   "metadata": {},
   "outputs": [],
   "source": []
  }
 ],
 "metadata": {
  "kernelspec": {
   "display_name": "Python 3",
   "language": "python",
   "name": "python3"
  },
  "language_info": {
   "codemirror_mode": {
    "name": "ipython",
    "version": 3
   },
   "file_extension": ".py",
   "mimetype": "text/x-python",
   "name": "python",
   "nbconvert_exporter": "python",
   "pygments_lexer": "ipython3",
   "version": "3.6.8"
  }
 },
 "nbformat": 4,
 "nbformat_minor": 2
}
