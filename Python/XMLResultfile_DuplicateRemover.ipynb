{
 "cells": [
  {
   "cell_type": "code",
   "execution_count": 1,
   "metadata": {},
   "outputs": [],
   "source": [
    "import os\n",
    "import shutil"
   ]
  },
  {
   "cell_type": "code",
   "execution_count": 2,
   "metadata": {},
   "outputs": [],
   "source": [
    "def prepare_file(path):\n",
    "    mappings = dict()\n",
    "    current_mapping= \"\"\n",
    "    inmapping= False\n",
    "    with open(path+\".tmp\", mode=\"w+\", encoding=\"UTF-8\") as f2:\n",
    "        with open(path, mode=\"r\", encoding=\"UTF-8\") as f:\n",
    "            for line in f:\n",
    "                if inmapping:\n",
    "                    current_mapping = current_mapping + line\n",
    "                    if \"entity1\" in line:\n",
    "                        w1 = line.split(\"\\\"\")[1]\n",
    "                    elif \"entity2\" in line:\n",
    "                        w2 = line.split(\"\\\"\")[1]\n",
    "                    elif \"</map>\" in line:\n",
    "                        inmapping=False\n",
    "                        if w1 not in mappings.keys():\n",
    "                            f2.write(current_mapping)\n",
    "                        elif w2 not in mappings[w1]:\n",
    "                            f2.write(current_mapping)\n",
    "                        current_mapping = \"\"\n",
    "                        \n",
    "                        if w1 in mappings.keys():\n",
    "                            mappings[w1].append(w2)\n",
    "                        else:\n",
    "                            mappings[w1] = [w2]\n",
    "                else:\n",
    "                    if \"<map>\" in line:\n",
    "                        current_mapping = line\n",
    "                        inmapping=True\n",
    "                    else:\n",
    "                        f2.write(line)\n",
    "    os.remove(path)\n",
    "    shutil.copy(path+\".tmp\", path)\n",
    "    os.remove(path+\".tmp\")"
   ]
  },
  {
   "cell_type": "code",
   "execution_count": 3,
   "metadata": {},
   "outputs": [],
   "source": [
    "#prepare_file(\"C:\\\\Users\\\\D072202\\\\eval\\\\oaei\\\\results\\\\(ML)OAEI_pure_syntax_2019_06_17_18_43_10_492262\\\\darkscape~oldschoolrunescape~results.xml\")"
   ]
  },
  {
   "cell_type": "code",
   "execution_count": 4,
   "metadata": {},
   "outputs": [],
   "source": [
    "basedir = \"C:\\\\Users\\\\D072202\\\\eval\\\\oaei\\\\results\\\\\"\n",
    "for root, dirs, files in os.walk(basedir):\n",
    "    for directory in dirs:\n",
    "        prepare_file(basedir+directory+\"\\\\darkscape~oldschoolrunescape~results.xml\")"
   ]
  },
  {
   "cell_type": "code",
   "execution_count": null,
   "metadata": {},
   "outputs": [],
   "source": []
  }
 ],
 "metadata": {
  "kernelspec": {
   "display_name": "Python 3",
   "language": "python",
   "name": "python3"
  },
  "language_info": {
   "codemirror_mode": {
    "name": "ipython",
    "version": 3
   },
   "file_extension": ".py",
   "mimetype": "text/x-python",
   "name": "python",
   "nbconvert_exporter": "python",
   "pygments_lexer": "ipython3",
   "version": "3.6.8"
  }
 },
 "nbformat": 4,
 "nbformat_minor": 2
}
