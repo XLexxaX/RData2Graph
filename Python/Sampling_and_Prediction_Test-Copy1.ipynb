{
 "cells": [
  {
   "cell_type": "code",
   "execution_count": 28,
   "metadata": {},
   "outputs": [],
   "source": [
    "import pandas as pd\n",
    "import numpy as np"
   ]
  },
  {
   "cell_type": "code",
   "execution_count": 29,
   "metadata": {},
   "outputs": [],
   "source": [
    "train_final = pd.read_csv('C:/Users/D072202/Desktop/result_data2/simpletriples infer_2019_05_28_12_47_52_414900/final_trainset.csv-strcombined.csv', index_col=['Unnamed: 0'])\n",
    "test_final = pd.read_csv('C:/Users/D072202/Desktop/result_data2/simpletriples infer_2019_05_28_12_47_52_414900/possible_matches.csv-strcombined.csv', index_col=['Unnamed: 0'])"
   ]
  },
  {
   "cell_type": "code",
   "execution_count": 18,
   "metadata": {},
   "outputs": [
    {
     "data": {
      "text/html": [
       "<div>\n",
       "<style scoped>\n",
       "    .dataframe tbody tr th:only-of-type {\n",
       "        vertical-align: middle;\n",
       "    }\n",
       "\n",
       "    .dataframe tbody tr th {\n",
       "        vertical-align: top;\n",
       "    }\n",
       "\n",
       "    .dataframe thead th {\n",
       "        text-align: right;\n",
       "    }\n",
       "</style>\n",
       "<table border=\"1\" class=\"dataframe\">\n",
       "  <thead>\n",
       "    <tr style=\"text-align: right;\">\n",
       "      <th></th>\n",
       "      <th>src_0</th>\n",
       "      <th>src_1</th>\n",
       "      <th>tgt_0</th>\n",
       "      <th>tgt_1</th>\n",
       "      <th>label</th>\n",
       "      <th>syntactic_diff</th>\n",
       "      <th>plus_diff</th>\n",
       "      <th>src_tgt_angle</th>\n",
       "      <th>src_angle_to_origin</th>\n",
       "      <th>tgt_angle_to_origin</th>\n",
       "      <th>src_veclen</th>\n",
       "      <th>tgt_veclen</th>\n",
       "      <th>src_tgt_veclen</th>\n",
       "      <th>score</th>\n",
       "    </tr>\n",
       "  </thead>\n",
       "  <tbody>\n",
       "    <tr>\n",
       "      <th>0</th>\n",
       "      <td>-2.957410</td>\n",
       "      <td>1.631149</td>\n",
       "      <td>-6.909093</td>\n",
       "      <td>14.477239</td>\n",
       "      <td>0</td>\n",
       "      <td>0.119403</td>\n",
       "      <td>0.750000</td>\n",
       "      <td>0.682624</td>\n",
       "      <td>-0.270847</td>\n",
       "      <td>0.321995</td>\n",
       "      <td>3.377413</td>\n",
       "      <td>3.377413</td>\n",
       "      <td>13.440157</td>\n",
       "      <td>0.0</td>\n",
       "    </tr>\n",
       "    <tr>\n",
       "      <th>1</th>\n",
       "      <td>-2.952701</td>\n",
       "      <td>3.815913</td>\n",
       "      <td>-5.939658</td>\n",
       "      <td>8.986846</td>\n",
       "      <td>0</td>\n",
       "      <td>0.105263</td>\n",
       "      <td>0.808511</td>\n",
       "      <td>0.784008</td>\n",
       "      <td>0.125838</td>\n",
       "      <td>0.197415</td>\n",
       "      <td>4.824898</td>\n",
       "      <td>4.824898</td>\n",
       "      <td>5.971638</td>\n",
       "      <td>2.0</td>\n",
       "    </tr>\n",
       "    <tr>\n",
       "      <th>2</th>\n",
       "      <td>-13.303266</td>\n",
       "      <td>15.389165</td>\n",
       "      <td>-2.116501</td>\n",
       "      <td>1.726838</td>\n",
       "      <td>0</td>\n",
       "      <td>0.179245</td>\n",
       "      <td>0.767442</td>\n",
       "      <td>0.777825</td>\n",
       "      <td>0.072381</td>\n",
       "      <td>-0.100530</td>\n",
       "      <td>20.342155</td>\n",
       "      <td>20.342155</td>\n",
       "      <td>17.657941</td>\n",
       "      <td>0.0</td>\n",
       "    </tr>\n",
       "    <tr>\n",
       "      <th>3</th>\n",
       "      <td>-18.349653</td>\n",
       "      <td>14.459792</td>\n",
       "      <td>-8.922326</td>\n",
       "      <td>9.369323</td>\n",
       "      <td>0</td>\n",
       "      <td>0.049587</td>\n",
       "      <td>0.827957</td>\n",
       "      <td>0.780309</td>\n",
       "      <td>-0.117195</td>\n",
       "      <td>0.024425</td>\n",
       "      <td>23.362264</td>\n",
       "      <td>23.362264</td>\n",
       "      <td>10.713887</td>\n",
       "      <td>0.0</td>\n",
       "    </tr>\n",
       "    <tr>\n",
       "      <th>4</th>\n",
       "      <td>-4.100322</td>\n",
       "      <td>1.781642</td>\n",
       "      <td>-25.052828</td>\n",
       "      <td>17.313156</td>\n",
       "      <td>0</td>\n",
       "      <td>0.052174</td>\n",
       "      <td>0.808989</td>\n",
       "      <td>0.775851</td>\n",
       "      <td>-0.351506</td>\n",
       "      <td>-0.177814</td>\n",
       "      <td>4.470670</td>\n",
       "      <td>4.470670</td>\n",
       "      <td>26.081323</td>\n",
       "      <td>1.0</td>\n",
       "    </tr>\n",
       "  </tbody>\n",
       "</table>\n",
       "</div>"
      ],
      "text/plain": [
       "       src_0      src_1      tgt_0      tgt_1  label  syntactic_diff  \\\n",
       "0  -2.957410   1.631149  -6.909093  14.477239      0        0.119403   \n",
       "1  -2.952701   3.815913  -5.939658   8.986846      0        0.105263   \n",
       "2 -13.303266  15.389165  -2.116501   1.726838      0        0.179245   \n",
       "3 -18.349653  14.459792  -8.922326   9.369323      0        0.049587   \n",
       "4  -4.100322   1.781642 -25.052828  17.313156      0        0.052174   \n",
       "\n",
       "   plus_diff  src_tgt_angle  src_angle_to_origin  tgt_angle_to_origin  \\\n",
       "0   0.750000       0.682624            -0.270847             0.321995   \n",
       "1   0.808511       0.784008             0.125838             0.197415   \n",
       "2   0.767442       0.777825             0.072381            -0.100530   \n",
       "3   0.827957       0.780309            -0.117195             0.024425   \n",
       "4   0.808989       0.775851            -0.351506            -0.177814   \n",
       "\n",
       "   src_veclen  tgt_veclen  src_tgt_veclen  score  \n",
       "0    3.377413    3.377413       13.440157    0.0  \n",
       "1    4.824898    4.824898        5.971638    2.0  \n",
       "2   20.342155   20.342155       17.657941    0.0  \n",
       "3   23.362264   23.362264       10.713887    0.0  \n",
       "4    4.470670    4.470670       26.081323    1.0  "
      ]
     },
     "execution_count": 18,
     "metadata": {},
     "output_type": "execute_result"
    }
   ],
   "source": [
    "train_final.head()"
   ]
  },
  {
   "cell_type": "code",
   "execution_count": null,
   "metadata": {
    "scrolled": true
   },
   "outputs": [],
   "source": []
  },
  {
   "cell_type": "code",
   "execution_count": 19,
   "metadata": {},
   "outputs": [
    {
     "data": {
      "text/html": [
       "<div>\n",
       "<style scoped>\n",
       "    .dataframe tbody tr th:only-of-type {\n",
       "        vertical-align: middle;\n",
       "    }\n",
       "\n",
       "    .dataframe tbody tr th {\n",
       "        vertical-align: top;\n",
       "    }\n",
       "\n",
       "    .dataframe thead th {\n",
       "        text-align: right;\n",
       "    }\n",
       "</style>\n",
       "<table border=\"1\" class=\"dataframe\">\n",
       "  <thead>\n",
       "    <tr style=\"text-align: right;\">\n",
       "      <th></th>\n",
       "      <th>src_0</th>\n",
       "      <th>src_1</th>\n",
       "      <th>tgt_0</th>\n",
       "      <th>tgt_1</th>\n",
       "      <th>label</th>\n",
       "      <th>syntactic_diff</th>\n",
       "      <th>plus_diff</th>\n",
       "      <th>src_tgt_angle</th>\n",
       "      <th>src_angle_to_origin</th>\n",
       "      <th>tgt_angle_to_origin</th>\n",
       "      <th>src_veclen</th>\n",
       "      <th>tgt_veclen</th>\n",
       "      <th>src_tgt_veclen</th>\n",
       "      <th>score</th>\n",
       "    </tr>\n",
       "  </thead>\n",
       "  <tbody>\n",
       "    <tr>\n",
       "      <th>0</th>\n",
       "      <td>-2.957410</td>\n",
       "      <td>1.631149</td>\n",
       "      <td>-6.909093</td>\n",
       "      <td>14.477239</td>\n",
       "      <td>0</td>\n",
       "      <td>0.119403</td>\n",
       "      <td>0.750000</td>\n",
       "      <td>0.682624</td>\n",
       "      <td>-0.270847</td>\n",
       "      <td>0.321995</td>\n",
       "      <td>3.377413</td>\n",
       "      <td>3.377413</td>\n",
       "      <td>13.440157</td>\n",
       "      <td>0.0</td>\n",
       "    </tr>\n",
       "    <tr>\n",
       "      <th>1</th>\n",
       "      <td>-2.952701</td>\n",
       "      <td>3.815913</td>\n",
       "      <td>-5.939658</td>\n",
       "      <td>8.986846</td>\n",
       "      <td>0</td>\n",
       "      <td>0.105263</td>\n",
       "      <td>0.808511</td>\n",
       "      <td>0.784008</td>\n",
       "      <td>0.125838</td>\n",
       "      <td>0.197415</td>\n",
       "      <td>4.824898</td>\n",
       "      <td>4.824898</td>\n",
       "      <td>5.971638</td>\n",
       "      <td>2.0</td>\n",
       "    </tr>\n",
       "    <tr>\n",
       "      <th>2</th>\n",
       "      <td>-13.303266</td>\n",
       "      <td>15.389165</td>\n",
       "      <td>-2.116501</td>\n",
       "      <td>1.726838</td>\n",
       "      <td>0</td>\n",
       "      <td>0.179245</td>\n",
       "      <td>0.767442</td>\n",
       "      <td>0.777825</td>\n",
       "      <td>0.072381</td>\n",
       "      <td>-0.100530</td>\n",
       "      <td>20.342155</td>\n",
       "      <td>20.342155</td>\n",
       "      <td>17.657941</td>\n",
       "      <td>0.0</td>\n",
       "    </tr>\n",
       "    <tr>\n",
       "      <th>3</th>\n",
       "      <td>-18.349653</td>\n",
       "      <td>14.459792</td>\n",
       "      <td>-8.922326</td>\n",
       "      <td>9.369323</td>\n",
       "      <td>0</td>\n",
       "      <td>0.049587</td>\n",
       "      <td>0.827957</td>\n",
       "      <td>0.780309</td>\n",
       "      <td>-0.117195</td>\n",
       "      <td>0.024425</td>\n",
       "      <td>23.362264</td>\n",
       "      <td>23.362264</td>\n",
       "      <td>10.713887</td>\n",
       "      <td>0.0</td>\n",
       "    </tr>\n",
       "    <tr>\n",
       "      <th>4</th>\n",
       "      <td>-4.100322</td>\n",
       "      <td>1.781642</td>\n",
       "      <td>-25.052828</td>\n",
       "      <td>17.313156</td>\n",
       "      <td>0</td>\n",
       "      <td>0.052174</td>\n",
       "      <td>0.808989</td>\n",
       "      <td>0.775851</td>\n",
       "      <td>-0.351506</td>\n",
       "      <td>-0.177814</td>\n",
       "      <td>4.470670</td>\n",
       "      <td>4.470670</td>\n",
       "      <td>26.081323</td>\n",
       "      <td>1.0</td>\n",
       "    </tr>\n",
       "  </tbody>\n",
       "</table>\n",
       "</div>"
      ],
      "text/plain": [
       "       src_0      src_1      tgt_0      tgt_1  label  syntactic_diff  \\\n",
       "0  -2.957410   1.631149  -6.909093  14.477239      0        0.119403   \n",
       "1  -2.952701   3.815913  -5.939658   8.986846      0        0.105263   \n",
       "2 -13.303266  15.389165  -2.116501   1.726838      0        0.179245   \n",
       "3 -18.349653  14.459792  -8.922326   9.369323      0        0.049587   \n",
       "4  -4.100322   1.781642 -25.052828  17.313156      0        0.052174   \n",
       "\n",
       "   plus_diff  src_tgt_angle  src_angle_to_origin  tgt_angle_to_origin  \\\n",
       "0   0.750000       0.682624            -0.270847             0.321995   \n",
       "1   0.808511       0.784008             0.125838             0.197415   \n",
       "2   0.767442       0.777825             0.072381            -0.100530   \n",
       "3   0.827957       0.780309            -0.117195             0.024425   \n",
       "4   0.808989       0.775851            -0.351506            -0.177814   \n",
       "\n",
       "   src_veclen  tgt_veclen  src_tgt_veclen  score  \n",
       "0    3.377413    3.377413       13.440157    0.0  \n",
       "1    4.824898    4.824898        5.971638    2.0  \n",
       "2   20.342155   20.342155       17.657941    0.0  \n",
       "3   23.362264   23.362264       10.713887    0.0  \n",
       "4    4.470670    4.470670       26.081323    1.0  "
      ]
     },
     "execution_count": 19,
     "metadata": {},
     "output_type": "execute_result"
    }
   ],
   "source": [
    "test_final.head()"
   ]
  },
  {
   "cell_type": "code",
   "execution_count": 7,
   "metadata": {},
   "outputs": [],
   "source": [
    "train_final = train_final.loc[(train_final.plus_diff > 0.8)].append(train_final.loc[train_final.label==1])"
   ]
  },
  {
   "cell_type": "code",
   "execution_count": null,
   "metadata": {},
   "outputs": [],
   "source": []
  },
  {
   "cell_type": "code",
   "execution_count": 5,
   "metadata": {},
   "outputs": [
    {
     "ename": "NameError",
     "evalue": "name 'train' is not defined",
     "output_type": "error",
     "traceback": [
      "\u001b[1;31m---------------------------------------------------------------------------\u001b[0m",
      "\u001b[1;31mNameError\u001b[0m                                 Traceback (most recent call last)",
      "\u001b[1;32m<ipython-input-5-452534a05f7f>\u001b[0m in \u001b[0;36m<module>\u001b[1;34m\u001b[0m\n\u001b[1;32m----> 1\u001b[1;33m \u001b[0mlen\u001b[0m\u001b[1;33m(\u001b[0m\u001b[0mtrain\u001b[0m\u001b[1;33m.\u001b[0m\u001b[0mloc\u001b[0m\u001b[1;33m[\u001b[0m\u001b[0mtrain\u001b[0m\u001b[1;33m.\u001b[0m\u001b[0mlabel\u001b[0m\u001b[1;33m==\u001b[0m\u001b[1;36m1\u001b[0m\u001b[1;33m]\u001b[0m\u001b[1;33m)\u001b[0m\u001b[1;33m\u001b[0m\u001b[1;33m\u001b[0m\u001b[0m\n\u001b[0m",
      "\u001b[1;31mNameError\u001b[0m: name 'train' is not defined"
     ]
    }
   ],
   "source": [
    "len(train.loc[train.label==1])"
   ]
  },
  {
   "cell_type": "markdown",
   "metadata": {},
   "source": [
    "#### Alternative 1: Sample the training data manually."
   ]
  },
  {
   "cell_type": "code",
   "execution_count": 20,
   "metadata": {},
   "outputs": [],
   "source": [
    "i = 0\n",
    "train = None\n",
    "while i<1:\n",
    "    i=i+1\n",
    "    a = train_final.loc[train_final['label']==0].sample(n=5000, replace=True)\n",
    "    if train is None:\n",
    "        train = a\n",
    "    else:\n",
    "        train = train.append(a, ignore_index=True)\n",
    "\n",
    "b = train_final.loc[train_final['label']==1].sample(n=614, replace=True)\n",
    "train = train.append(b, ignore_index=True)"
   ]
  },
  {
   "cell_type": "code",
   "execution_count": 19,
   "metadata": {},
   "outputs": [
    {
     "data": {
      "text/plain": [
       "100614"
      ]
     },
     "execution_count": 19,
     "metadata": {},
     "output_type": "execute_result"
    }
   ],
   "source": [
    "len(train)"
   ]
  },
  {
   "cell_type": "code",
   "execution_count": null,
   "metadata": {},
   "outputs": [],
   "source": []
  },
  {
   "cell_type": "markdown",
   "metadata": {},
   "source": [
    "#### Alternative 2: Use all available data for training."
   ]
  },
  {
   "cell_type": "code",
   "execution_count": 21,
   "metadata": {},
   "outputs": [],
   "source": [
    "train_final = train_final#[['src_tgt_angle','label','src_tgt_veclen','src_angle_to_origin','tgt_angle_to_origin']]\n",
    "test_final = test_final#[['src_tgt_angle','label','src_tgt_veclen','src_angle_to_origin','tgt_angle_to_origin']]\n",
    "train = train_final"
   ]
  },
  {
   "cell_type": "markdown",
   "metadata": {},
   "source": [
    "## Prepare train/test/prediction data"
   ]
  },
  {
   "cell_type": "code",
   "execution_count": 22,
   "metadata": {},
   "outputs": [],
   "source": [
    "x_train = train.loc[:, train.columns != 'label']\n",
    "y_train = train['label']\n",
    "\n",
    "x_test1 = test_final.loc[:, test_final.columns != 'label']\n",
    "y_test1 = test_final['label']\n"
   ]
  },
  {
   "cell_type": "code",
   "execution_count": null,
   "metadata": {},
   "outputs": [],
   "source": []
  },
  {
   "cell_type": "markdown",
   "metadata": {},
   "source": [
    "## Prediction"
   ]
  },
  {
   "cell_type": "code",
   "execution_count": 23,
   "metadata": {},
   "outputs": [],
   "source": [
    "from sklearn.linear_model import LogisticRegression\n",
    "from sklearn.metrics import classification_report, confusion_matrix\n",
    "from sklearn.ensemble import RandomForestClassifier\n",
    "from pandas_ml import ConfusionMatrix"
   ]
  },
  {
   "cell_type": "code",
   "execution_count": 26,
   "metadata": {},
   "outputs": [],
   "source": [
    "model = RandomForestClassifier(n_estimators=10, max_depth=5, random_state=0) #LogisticRegression(solver='lbfgs')\n",
    "model = model.fit(x_train[['src_tgt_angle','src_tgt_veclen','score']], y_train)\n",
    "syntactic_model = LogisticRegression(solver='lbfgs')#RandomForestClassifier(n_estimators=100, max_depth=10, random_state=0)\n",
    "syntactic_model = syntactic_model.fit(pd.DataFrame(x_train[['syntactic_diff','plus_diff']]), y_train)"
   ]
  },
  {
   "cell_type": "code",
   "execution_count": 27,
   "metadata": {},
   "outputs": [
    {
     "name": "stdout",
     "output_type": "stream",
     "text": [
      "Results on simple test:\n",
      "              precision    recall  f1-score   support\n",
      "\n",
      "       false       0.95      1.00      0.98      3100\n",
      "        true       0.00      0.00      0.00       154\n",
      "\n",
      "   micro avg       0.95      0.95      0.95      3254\n",
      "   macro avg       0.48      0.50      0.49      3254\n",
      "weighted avg       0.91      0.95      0.93      3254\n",
      "\n",
      "Predicted     0  1  __all__\n",
      "Actual                     \n",
      "0          3100  0     3100\n",
      "1           154  0      154\n",
      "__all__    3254  0     3254\n",
      "\n",
      "\n",
      "--------------------------------------------------------------\n",
      "\n",
      "Syntactic matching results on simple test:\n",
      "              precision    recall  f1-score   support\n",
      "\n",
      "       false       0.95      1.00      0.98      3100\n",
      "        true       0.00      0.00      0.00       154\n",
      "\n",
      "   micro avg       0.95      0.95      0.95      3254\n",
      "   macro avg       0.48      0.50      0.49      3254\n",
      "weighted avg       0.91      0.95      0.93      3254\n",
      "\n",
      "Predicted     0  1  __all__\n",
      "Actual                     \n",
      "0          3100  0     3100\n",
      "1           154  0      154\n",
      "__all__    3254  0     3254\n"
     ]
    },
    {
     "name": "stderr",
     "output_type": "stream",
     "text": [
      "C:\\Users\\D072202\\AppData\\Local\\Continuum\\anaconda3\\envs\\py36\\lib\\site-packages\\sklearn\\metrics\\classification.py:1143: UndefinedMetricWarning: Precision and F-score are ill-defined and being set to 0.0 in labels with no predicted samples.\n",
      "  'precision', 'predicted', average, warn_for)\n",
      "C:\\Users\\D072202\\AppData\\Local\\Continuum\\anaconda3\\envs\\py36\\lib\\site-packages\\pandas\\core\\indexing.py:1494: FutureWarning: \n",
      "Passing list-likes to .loc or [] with any missing label will raise\n",
      "KeyError in the future, you can use .reindex() as an alternative.\n",
      "\n",
      "See the documentation here:\n",
      "https://pandas.pydata.org/pandas-docs/stable/indexing.html#deprecate-loc-reindex-listlike\n",
      "  return self._getitem_tuple(key)\n",
      "C:\\Users\\D072202\\AppData\\Local\\Continuum\\anaconda3\\envs\\py36\\lib\\site-packages\\sklearn\\metrics\\classification.py:1143: UndefinedMetricWarning: Precision and F-score are ill-defined and being set to 0.0 in labels with no predicted samples.\n",
      "  'precision', 'predicted', average, warn_for)\n",
      "C:\\Users\\D072202\\AppData\\Local\\Continuum\\anaconda3\\envs\\py36\\lib\\site-packages\\pandas\\core\\indexing.py:1494: FutureWarning: \n",
      "Passing list-likes to .loc or [] with any missing label will raise\n",
      "KeyError in the future, you can use .reindex() as an alternative.\n",
      "\n",
      "See the documentation here:\n",
      "https://pandas.pydata.org/pandas-docs/stable/indexing.html#deprecate-loc-reindex-listlike\n",
      "  return self._getitem_tuple(key)\n"
     ]
    }
   ],
   "source": [
    "prediction = model.predict(x_test1[['src_tgt_angle','src_tgt_veclen','score']])\n",
    "result = classification_report(np.array(y_test1), prediction, target_names=['false','true'])\n",
    "print(\"Results on simple test:\")\n",
    "print(result)\n",
    "print(ConfusionMatrix( np.array(y_test1), prediction))\n",
    "print(\"\\n\\n--------------------------------------------------------------\\n\")\n",
    "\n",
    "prediction = syntactic_model.predict(pd.DataFrame(x_test1[['syntactic_diff','plus_diff']]))\n",
    "result = classification_report(np.array(y_test1), prediction, target_names=['false','true'])\n",
    "print(\"Syntactic matching results on simple test:\")\n",
    "print(result)\n",
    "print(ConfusionMatrix(np.array(y_test1), prediction))"
   ]
  },
  {
   "cell_type": "code",
   "execution_count": 11,
   "metadata": {},
   "outputs": [
    {
     "ename": "NameError",
     "evalue": "name 'test' is not defined",
     "output_type": "error",
     "traceback": [
      "\u001b[1;31m---------------------------------------------------------------------------\u001b[0m",
      "\u001b[1;31mNameError\u001b[0m                                 Traceback (most recent call last)",
      "\u001b[1;32m<ipython-input-11-9f9fe34d3e10>\u001b[0m in \u001b[0;36m<module>\u001b[1;34m\u001b[0m\n\u001b[1;32m----> 1\u001b[1;33m \u001b[0mtest_plus\u001b[0m \u001b[1;33m=\u001b[0m \u001b[0mtest\u001b[0m\u001b[1;33m.\u001b[0m\u001b[0mloc\u001b[0m\u001b[1;33m[\u001b[0m\u001b[1;33m(\u001b[0m\u001b[0mtest\u001b[0m\u001b[1;33m.\u001b[0m\u001b[0msyntactic_diff\u001b[0m\u001b[1;33m>\u001b[0m\u001b[1;36m0.69\u001b[0m\u001b[1;33m)\u001b[0m \u001b[1;33m&\u001b[0m \u001b[1;33m(\u001b[0m\u001b[0mtest\u001b[0m\u001b[1;33m.\u001b[0m\u001b[0mlabel\u001b[0m\u001b[1;33m==\u001b[0m\u001b[1;36m1\u001b[0m\u001b[1;33m)\u001b[0m\u001b[1;33m]\u001b[0m\u001b[1;33m\u001b[0m\u001b[1;33m\u001b[0m\u001b[0m\n\u001b[0m\u001b[0;32m      2\u001b[0m \u001b[0mtest_plus\u001b[0m \u001b[1;33m=\u001b[0m \u001b[0mtest\u001b[0m\u001b[1;33m.\u001b[0m\u001b[0mappend\u001b[0m\u001b[1;33m(\u001b[0m\u001b[0mtest\u001b[0m\u001b[1;33m.\u001b[0m\u001b[0mloc\u001b[0m\u001b[1;33m[\u001b[0m\u001b[1;33m(\u001b[0m\u001b[0mtest\u001b[0m\u001b[1;33m.\u001b[0m\u001b[0msyntactic_diff\u001b[0m\u001b[1;33m<\u001b[0m\u001b[1;36m0.69\u001b[0m\u001b[1;33m)\u001b[0m \u001b[1;33m&\u001b[0m \u001b[1;33m(\u001b[0m\u001b[0mtest\u001b[0m\u001b[1;33m.\u001b[0m\u001b[0mlabel\u001b[0m\u001b[1;33m==\u001b[0m\u001b[1;36m0\u001b[0m\u001b[1;33m)\u001b[0m\u001b[1;33m]\u001b[0m\u001b[1;33m,\u001b[0m \u001b[0mignore_index\u001b[0m\u001b[1;33m=\u001b[0m\u001b[1;32mTrue\u001b[0m\u001b[1;33m)\u001b[0m\u001b[1;33m\u001b[0m\u001b[1;33m\u001b[0m\u001b[0m\n\u001b[0;32m      3\u001b[0m \u001b[0mx_test_plus\u001b[0m \u001b[1;33m=\u001b[0m \u001b[0mtest_plus\u001b[0m\u001b[1;33m.\u001b[0m\u001b[0mloc\u001b[0m\u001b[1;33m[\u001b[0m\u001b[1;33m:\u001b[0m\u001b[1;33m,\u001b[0m \u001b[0mtest_plus\u001b[0m\u001b[1;33m.\u001b[0m\u001b[0mcolumns\u001b[0m \u001b[1;33m!=\u001b[0m \u001b[1;34m'label'\u001b[0m\u001b[1;33m]\u001b[0m\u001b[1;33m\u001b[0m\u001b[1;33m\u001b[0m\u001b[0m\n\u001b[0;32m      4\u001b[0m \u001b[0my_test_plus\u001b[0m \u001b[1;33m=\u001b[0m \u001b[0mtest_plus\u001b[0m\u001b[1;33m[\u001b[0m\u001b[1;34m'label'\u001b[0m\u001b[1;33m]\u001b[0m\u001b[1;33m\u001b[0m\u001b[1;33m\u001b[0m\u001b[0m\n\u001b[0;32m      5\u001b[0m \u001b[0mprediction_plus\u001b[0m \u001b[1;33m=\u001b[0m \u001b[0mmodel\u001b[0m\u001b[1;33m.\u001b[0m\u001b[0mpredict\u001b[0m\u001b[1;33m(\u001b[0m\u001b[0mx_test_plus\u001b[0m\u001b[1;33m)\u001b[0m\u001b[1;33m\u001b[0m\u001b[1;33m\u001b[0m\u001b[0m\n",
      "\u001b[1;31mNameError\u001b[0m: name 'test' is not defined"
     ]
    }
   ],
   "source": [
    "test_plus = test.loc[(test.syntactic_diff>0.69) & (test.label==1)]\n",
    "test_plus = test.append(test.loc[(test.syntactic_diff<0.69) & (test.label==0)], ignore_index=True)\n",
    "x_test_plus = test_plus.loc[:, test_plus.columns != 'label']\n",
    "y_test_plus = test_plus['label']\n",
    "prediction_plus = model.predict(x_test_plus)\n",
    "result_plus = classification_report(prediction_plus, np.array(y_test_plus), target_names=['false','true'])\n",
    "print(\"Results+ on simple test:\")\n",
    "print(result_plus)\n",
    "print(ConfusionMatrix(prediction_plus, np.array(y_test_plus)))\n",
    "print(\"\\n\\n--------------------------------------------------------------\\n\")\n",
    "\n",
    "prediction_plus = syntactic_model.predict(pd.DataFrame(x_test_plus['syntactic_diff']))\n",
    "result_plus = classification_report(prediction_plus, np.array(y_test_plus), target_names=['false','true'])\n",
    "print(\"Syntactic matching results+ on simple test:\")\n",
    "print(result_plus)\n",
    "print(ConfusionMatrix(prediction_plus, np.array(y_test_plus)))"
   ]
  },
  {
   "cell_type": "code",
   "execution_count": null,
   "metadata": {},
   "outputs": [],
   "source": []
  },
  {
   "cell_type": "code",
   "execution_count": null,
   "metadata": {},
   "outputs": [],
   "source": []
  },
  {
   "cell_type": "code",
   "execution_count": 16,
   "metadata": {},
   "outputs": [
    {
     "data": {
      "text/plain": [
       "array([[-6.75626284]])"
      ]
     },
     "execution_count": 16,
     "metadata": {},
     "output_type": "execute_result"
    }
   ],
   "source": [
    "syntactic_model.coef_"
   ]
  },
  {
   "cell_type": "code",
   "execution_count": 17,
   "metadata": {},
   "outputs": [
    {
     "data": {
      "text/plain": [
       "array([2.97726496])"
      ]
     },
     "execution_count": 17,
     "metadata": {},
     "output_type": "execute_result"
    }
   ],
   "source": [
    "syntactic_model.intercept_"
   ]
  },
  {
   "cell_type": "code",
   "execution_count": null,
   "metadata": {},
   "outputs": [],
   "source": []
  },
  {
   "cell_type": "code",
   "execution_count": null,
   "metadata": {},
   "outputs": [],
   "source": []
  }
 ],
 "metadata": {
  "kernelspec": {
   "display_name": "Python 3",
   "language": "python",
   "name": "python3"
  },
  "language_info": {
   "codemirror_mode": {
    "name": "ipython",
    "version": 3
   },
   "file_extension": ".py",
   "mimetype": "text/x-python",
   "name": "python",
   "nbconvert_exporter": "python",
   "pygments_lexer": "ipython3",
   "version": "3.6.8"
  }
 },
 "nbformat": 4,
 "nbformat_minor": 2
}
