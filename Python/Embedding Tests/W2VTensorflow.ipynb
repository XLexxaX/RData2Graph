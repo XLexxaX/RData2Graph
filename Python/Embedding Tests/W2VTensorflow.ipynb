{
 "cells": [
  {
   "cell_type": "markdown",
   "metadata": {
    "collapsed": true
   },
   "source": [
    "## Word 2 Vec"
   ]
  },
  {
   "cell_type": "code",
   "execution_count": 7,
   "metadata": {},
   "outputs": [
    {
     "name": "stdout",
     "output_type": "stream",
     "text": [
      "done\n"
     ]
    }
   ],
   "source": [
    "filename=\"C:/Users/D072202/test.csv\"\n",
    "tuples = list()\n",
    "filename2=\"C:/Users/D072202/test2.csv\"\n",
    "file = open(filename2,\"w+\", encoding=\"UTF-8\")\n",
    "with open(filename, mode=\"r\", encoding=\"UTF-8\") as f:\n",
    "    for line in f:\n",
    "        line = line.split(\" \")\n",
    "        for word in line:\n",
    "            if not word == line[0] and not \"<>\" in word:\n",
    "                l = line[0] + \",\" + word.replace(\"\\n\",\"\") + \"\\n\"\n",
    "                file.write(l.replace('[',\"\").replace(']','').replace('\\'','').replace(' ',''))\n",
    "print(\"done\")"
   ]
  },
  {
   "cell_type": "code",
   "execution_count": 2,
   "metadata": {},
   "outputs": [],
   "source": [
    "import numpy as np\n",
    "import matplotlib.pyplot as plt\n",
    "import pandas as pd\n",
    "\n",
    "data = pd.read_csv(filename2,header=None)"
   ]
  },
  {
   "cell_type": "code",
   "execution_count": 3,
   "metadata": {},
   "outputs": [],
   "source": [
    "df = data"
   ]
  },
  {
   "cell_type": "code",
   "execution_count": 4,
   "metadata": {},
   "outputs": [
    {
     "data": {
      "text/html": [
       "<div>\n",
       "<style scoped>\n",
       "    .dataframe tbody tr th:only-of-type {\n",
       "        vertical-align: middle;\n",
       "    }\n",
       "\n",
       "    .dataframe tbody tr th {\n",
       "        vertical-align: top;\n",
       "    }\n",
       "\n",
       "    .dataframe thead th {\n",
       "        text-align: right;\n",
       "    }\n",
       "</style>\n",
       "<table border=\"1\" class=\"dataframe\">\n",
       "  <thead>\n",
       "    <tr style=\"text-align: right;\">\n",
       "      <th></th>\n",
       "      <th>0</th>\n",
       "      <th>1</th>\n",
       "    </tr>\n",
       "  </thead>\n",
       "  <tbody>\n",
       "    <tr>\n",
       "      <th>0</th>\n",
       "      <td>http://rdata2graph.sap.com/hilti_erp/chuck#464...</td>\n",
       "      <td>&lt;ch</td>\n",
       "    </tr>\n",
       "    <tr>\n",
       "      <th>1</th>\n",
       "      <td>http://rdata2graph.sap.com/hilti_erp/chuck#464...</td>\n",
       "      <td>http://rdata2graph.sap.com/hilti_erp/chuck#464...</td>\n",
       "    </tr>\n",
       "    <tr>\n",
       "      <th>2</th>\n",
       "      <td>http://rdata2graph.sap.com/hilti_erp/chuck#464...</td>\n",
       "      <td>chu</td>\n",
       "    </tr>\n",
       "    <tr>\n",
       "      <th>3</th>\n",
       "      <td>http://rdata2graph.sap.com/hilti_erp/chuck#464...</td>\n",
       "      <td>http://rdata2graph.sap.com/hilti_erp/chuck#464...</td>\n",
       "    </tr>\n",
       "    <tr>\n",
       "      <th>4</th>\n",
       "      <td>http://rdata2graph.sap.com/hilti_erp/chuck#464...</td>\n",
       "      <td>huc</td>\n",
       "    </tr>\n",
       "  </tbody>\n",
       "</table>\n",
       "</div>"
      ],
      "text/plain": [
       "                                                   0  \\\n",
       "0  http://rdata2graph.sap.com/hilti_erp/chuck#464...   \n",
       "1  http://rdata2graph.sap.com/hilti_erp/chuck#464...   \n",
       "2  http://rdata2graph.sap.com/hilti_erp/chuck#464...   \n",
       "3  http://rdata2graph.sap.com/hilti_erp/chuck#464...   \n",
       "4  http://rdata2graph.sap.com/hilti_erp/chuck#464...   \n",
       "\n",
       "                                                   1  \n",
       "0                                                <ch  \n",
       "1  http://rdata2graph.sap.com/hilti_erp/chuck#464...  \n",
       "2                                                chu  \n",
       "3  http://rdata2graph.sap.com/hilti_erp/chuck#464...  \n",
       "4                                                huc  "
      ]
     },
     "execution_count": 4,
     "metadata": {},
     "output_type": "execute_result"
    }
   ],
   "source": [
    "data.head()"
   ]
  },
  {
   "cell_type": "code",
   "execution_count": null,
   "metadata": {},
   "outputs": [],
   "source": []
  },
  {
   "cell_type": "code",
   "execution_count": null,
   "metadata": {},
   "outputs": [],
   "source": []
  },
  {
   "cell_type": "code",
   "execution_count": 5,
   "metadata": {},
   "outputs": [
    {
     "data": {
      "text/html": [
       "<div>\n",
       "<style scoped>\n",
       "    .dataframe tbody tr th:only-of-type {\n",
       "        vertical-align: middle;\n",
       "    }\n",
       "\n",
       "    .dataframe tbody tr th {\n",
       "        vertical-align: top;\n",
       "    }\n",
       "\n",
       "    .dataframe thead th {\n",
       "        text-align: right;\n",
       "    }\n",
       "</style>\n",
       "<table border=\"1\" class=\"dataframe\">\n",
       "  <thead>\n",
       "    <tr style=\"text-align: right;\">\n",
       "      <th></th>\n",
       "      <th>0</th>\n",
       "      <th>1</th>\n",
       "    </tr>\n",
       "  </thead>\n",
       "  <tbody>\n",
       "    <tr>\n",
       "      <th>0</th>\n",
       "      <td>http://rdata2graph.sap.com/hilti_erp/chuck#464...</td>\n",
       "      <td>&lt;ch</td>\n",
       "    </tr>\n",
       "    <tr>\n",
       "      <th>1</th>\n",
       "      <td>http://rdata2graph.sap.com/hilti_erp/chuck#464...</td>\n",
       "      <td>http://rdata2graph.sap.com/hilti_erp/chuck#464...</td>\n",
       "    </tr>\n",
       "    <tr>\n",
       "      <th>2</th>\n",
       "      <td>http://rdata2graph.sap.com/hilti_erp/chuck#464...</td>\n",
       "      <td>chu</td>\n",
       "    </tr>\n",
       "    <tr>\n",
       "      <th>3</th>\n",
       "      <td>http://rdata2graph.sap.com/hilti_erp/chuck#464...</td>\n",
       "      <td>http://rdata2graph.sap.com/hilti_erp/chuck#464...</td>\n",
       "    </tr>\n",
       "    <tr>\n",
       "      <th>4</th>\n",
       "      <td>http://rdata2graph.sap.com/hilti_erp/chuck#464...</td>\n",
       "      <td>huc</td>\n",
       "    </tr>\n",
       "  </tbody>\n",
       "</table>\n",
       "</div>"
      ],
      "text/plain": [
       "                                                   0  \\\n",
       "0  http://rdata2graph.sap.com/hilti_erp/chuck#464...   \n",
       "1  http://rdata2graph.sap.com/hilti_erp/chuck#464...   \n",
       "2  http://rdata2graph.sap.com/hilti_erp/chuck#464...   \n",
       "3  http://rdata2graph.sap.com/hilti_erp/chuck#464...   \n",
       "4  http://rdata2graph.sap.com/hilti_erp/chuck#464...   \n",
       "\n",
       "                                                   1  \n",
       "0                                                <ch  \n",
       "1  http://rdata2graph.sap.com/hilti_erp/chuck#464...  \n",
       "2                                                chu  \n",
       "3  http://rdata2graph.sap.com/hilti_erp/chuck#464...  \n",
       "4                                                huc  "
      ]
     },
     "execution_count": 5,
     "metadata": {},
     "output_type": "execute_result"
    }
   ],
   "source": [
    "df[:5]"
   ]
  },
  {
   "cell_type": "code",
   "execution_count": 6,
   "metadata": {},
   "outputs": [
    {
     "data": {
      "image/png": "[encoded data removed]",
      "text/plain": [
       "<Figure size 432x288 with 1 Axes>"
      ]
     },
     "metadata": {
      "needs_background": "light"
     },
     "output_type": "display_data"
    }
   ],
   "source": [
    "# for labeling in plotting\n",
    "def autolabel(rects):\n",
    "    for rect in rects:\n",
    "        height = rect.get_height()\n",
    "        ax.text(rect.get_x() + rect.get_width()/2., 1.02*height,\n",
    "                '%d' % int(height),\n",
    "                ha='center', va='bottom')\n",
    "\n",
    "topchar=df.loc[df[1]!='<>'][1].value_counts()[:7]\n",
    "labels=np.array(topchar.keys())\n",
    "values=np.array(topchar)\n",
    "ind=np.arange(len(labels))\n",
    "\n",
    "fig,ax=plt.subplots()\n",
    "rects=ax.bar(ind,values,color='g')\n",
    "ax.set_xticklabels(labels,rotation='vertical')\n",
    "ax.set_xticks(ind)\n",
    "ax.set_ylabel(\"Count\")\n",
    "ax.set_title(\"Top characters with most dialogs\")\n",
    "autolabel(rects)\n",
    "plt.show()"
   ]
  },
  {
   "cell_type": "code",
   "execution_count": null,
   "metadata": {},
   "outputs": [],
   "source": []
  },
  {
   "cell_type": "code",
   "execution_count": null,
   "metadata": {},
   "outputs": [],
   "source": []
  },
  {
   "cell_type": "code",
   "execution_count": 38,
   "metadata": {},
   "outputs": [
    {
     "name": "stdout",
     "output_type": "stream",
     "text": [
      "Word count [('assy', 101), ('te', 84), ('case', 59), ('set', 57), ('kit', 42)]\n"
     ]
    }
   ],
   "source": [
    "import collections\n",
    "# sentences to words and count\n",
    "count= collections.Counter(df[1]).most_common() \n",
    "print (\"Word count\", count[:5])"
   ]
  },
  {
   "cell_type": "code",
   "execution_count": 39,
   "metadata": {},
   "outputs": [],
   "source": [
    "# Build dictionaries\n",
    "unique_words =  [i[0] for i in count]\n",
    "dic = {w: i for i, w in enumerate(unique_words)} #dic, word -> id cats:0 dogs:1 ......\n",
    "voc_size = len(dic)"
   ]
  },
  {
   "cell_type": "code",
   "execution_count": 40,
   "metadata": {},
   "outputs": [
    {
     "data": {
      "text/plain": [
       "14468"
      ]
     },
     "execution_count": 40,
     "metadata": {},
     "output_type": "execute_result"
    }
   ],
   "source": [
    "voc_size"
   ]
  },
  {
   "cell_type": "code",
   "execution_count": 41,
   "metadata": {},
   "outputs": [],
   "source": [
    "words = df[1].tolist()"
   ]
  },
  {
   "cell_type": "code",
   "execution_count": 42,
   "metadata": {},
   "outputs": [
    {
     "name": "stdout",
     "output_type": "stream",
     "text": [
      "Sample data [20, 615, 1461, 615, 1462, 615, 355, 615, 2185, 616] ['bit', 'http://rdata2graph.sap.com/hilti_erp/holder#e4c66968-b39d-4c82-b34d-6f56a20d904d', 'holder', 'http://rdata2graph.sap.com/hilti_erp/holder#e4c66968-b39d-4c82-b34d-6f56a20d904d', 'sbh', 'http://rdata2graph.sap.com/hilti_erp/holder#e4c66968-b39d-4c82-b34d-6f56a20d904d', 'm', 'http://rdata2graph.sap.com/hilti_erp/holder#e4c66968-b39d-4c82-b34d-6f56a20d904d', '75/3', 'http://rdata2graph.sap.com/hilti_erp/lamp_230_v_green#5237e9bc-bfe3-48b8-b57e-40b0573cc302']\n"
     ]
    }
   ],
   "source": [
    "# Make indexed word data\n",
    "data = [dic[word] for word in df[1].tolist()] #count rank for every word in words\n",
    "print('Sample data', data[:10], df[1].tolist()[:10])"
   ]
  },
  {
   "cell_type": "code",
   "execution_count": 43,
   "metadata": {},
   "outputs": [
    {
     "name": "stdout",
     "output_type": "stream",
     "text": [
      "Context pairs rank ids [[[20, 1461], 615], [[615, 615], 1461], [[1461, 1462], 615], [[615, 615], 1462], [[1462, 355], 615]]\n",
      "\n",
      "Context pairs words [[['bit', 'holder'], 'http://rdata2graph.sap.com/hilti_erp/holder#e4c66968-b39d-4c82-b34d-6f56a20d904d'], [['http://rdata2graph.sap.com/hilti_erp/holder#e4c66968-b39d-4c82-b34d-6f56a20d904d', 'http://rdata2graph.sap.com/hilti_erp/holder#e4c66968-b39d-4c82-b34d-6f56a20d904d'], 'holder'], [['holder', 'sbh'], 'http://rdata2graph.sap.com/hilti_erp/holder#e4c66968-b39d-4c82-b34d-6f56a20d904d'], [['http://rdata2graph.sap.com/hilti_erp/holder#e4c66968-b39d-4c82-b34d-6f56a20d904d', 'http://rdata2graph.sap.com/hilti_erp/holder#e4c66968-b39d-4c82-b34d-6f56a20d904d'], 'sbh'], [['sbh', 'm'], 'http://rdata2graph.sap.com/hilti_erp/holder#e4c66968-b39d-4c82-b34d-6f56a20d904d']]\n"
     ]
    }
   ],
   "source": [
    "# Let's make a training data for window size 1 for simplicity\n",
    "\n",
    "cbow_pairs = []\n",
    "for i in range(1, len(data)-1) :\n",
    "    cbow_pairs.append([[data[i-1], data[i+1]], data[i]]);\n",
    "    \n",
    "print('Context pairs rank ids', cbow_pairs[:5])\n",
    "print()\n",
    "\n",
    "cbow_pairs_words = []\n",
    "for i in range(1, len(words)-1) :\n",
    "    cbow_pairs_words.append([[words[i-1], words[i+1]], words[i]]);\n",
    "print('Context pairs words', cbow_pairs_words[:5])"
   ]
  },
  {
   "cell_type": "code",
   "execution_count": 44,
   "metadata": {},
   "outputs": [
    {
     "name": "stdout",
     "output_type": "stream",
     "text": [
      "skip-gram pairs [[615, 20], [615, 1461], [1461, 615], [1461, 615], [615, 1461]]\n",
      "\n",
      "skip-gram pairs words [['http://rdata2graph.sap.com/hilti_erp/holder#e4c66968-b39d-4c82-b34d-6f56a20d904d', 'bit'], ['http://rdata2graph.sap.com/hilti_erp/holder#e4c66968-b39d-4c82-b34d-6f56a20d904d', 'holder'], ['holder', 'http://rdata2graph.sap.com/hilti_erp/holder#e4c66968-b39d-4c82-b34d-6f56a20d904d'], ['holder', 'http://rdata2graph.sap.com/hilti_erp/holder#e4c66968-b39d-4c82-b34d-6f56a20d904d'], ['http://rdata2graph.sap.com/hilti_erp/holder#e4c66968-b39d-4c82-b34d-6f56a20d904d', 'holder']]\n"
     ]
    }
   ],
   "source": [
    "# Let's make skip-gram pairs\n",
    "# (quick, the), (quick, brown), (brown, quick), (brown, fox), ...\n",
    "skip_gram_pairs=[]\n",
    "\n",
    "for c in cbow_pairs:\n",
    "    skip_gram_pairs.append([c[1],c[0][0]])\n",
    "    skip_gram_pairs.append([c[1],c[0][1]])\n",
    "print('skip-gram pairs', skip_gram_pairs[:5])\n",
    "print()\n",
    "skip_gram_pairs_words=[]\n",
    "for c in cbow_pairs_words:\n",
    "    skip_gram_pairs_words.append([c[1],c[0][0]])\n",
    "    skip_gram_pairs_words.append([c[1],c[0][1]])\n",
    "print('skip-gram pairs words', skip_gram_pairs_words[:5])"
   ]
  },
  {
   "cell_type": "code",
   "execution_count": 45,
   "metadata": {},
   "outputs": [
    {
     "name": "stdout",
     "output_type": "stream",
     "text": [
      "Batches (x, y) ([2269, 1049, 6276], [[226], [416], [6277]])\n"
     ]
    }
   ],
   "source": [
    "def get_batch(size):\n",
    "    assert size<len(skip_gram_pairs)\n",
    "    X=[]\n",
    "    Y=[]\n",
    "    rdm = np.random.choice(range(len(skip_gram_pairs)),size,replace=False)\n",
    "    \n",
    "    for r in rdm:\n",
    "        X.append(skip_gram_pairs[r][0])\n",
    "        Y.append([skip_gram_pairs[r][1]])\n",
    "    return X , Y\n",
    "\n",
    "# generate_batch test\n",
    "print ('Batches (x, y)', get_batch(3))"
   ]
  },
  {
   "cell_type": "code",
   "execution_count": 47,
   "metadata": {},
   "outputs": [],
   "source": [
    "#tensor flow code\n",
    "import tensorflow as tf\n",
    "\n",
    "batch_size = 20\n",
    "embedding_size = 2\n",
    "num_sampled = 15    # Number of negative examples to sample.\n",
    "\n",
    "X= tf.placeholder(tf.int32,shape=[batch_size]) #inputs\n",
    "Y= tf.placeholder(tf.int32,shape=[batch_size,1]) #labels\n",
    "\n",
    "with tf.device(\"/cpu:0\"):\n",
    "      # Look up embeddings for inputs.\n",
    "    embeddings = tf.Variable(tf.random_uniform([voc_size,embedding_size],-1.0,1.0))\n",
    "    embed = tf.nn.embedding_lookup(embeddings, X) # lookup table\n",
    "    \n",
    "# Construct the variables for the NCE loss\n",
    "nce_weights = tf.Variable(tf.random_uniform([voc_size, embedding_size],-1.0, 1.0))\n",
    "nce_biases = tf.Variable(tf.zeros([voc_size]))\n",
    "\n",
    "# Compute the average NCE loss for the batch.\n",
    "# This does the magic:\n",
    "#   tf.nn.nce_loss(weights, biases, inputs, labels, num_sampled, num_classes ...)\n",
    "# It automatically draws negative samples when we evaluate the loss.\n",
    "loss = tf.reduce_mean(tf.nn.nce_loss(nce_weights, nce_biases, Y, embed, num_sampled, voc_size))\n",
    "# Use the adam optimizer\n",
    "optimizer = tf.train.AdamOptimizer(1e-1).minimize(loss)"
   ]
  },
  {
   "cell_type": "code",
   "execution_count": 68,
   "metadata": {},
   "outputs": [
    {
     "data": {
      "text/plain": [
       "<tf.Tensor 'Placeholder_4:0' shape=(20,) dtype=int32>"
      ]
     },
     "execution_count": 68,
     "metadata": {},
     "output_type": "execute_result"
    }
   ],
   "source": [
    "import numpy\n",
    "X"
   ]
  },
  {
   "cell_type": "code",
   "execution_count": 65,
   "metadata": {},
   "outputs": [
    {
     "ename": "TypeError",
     "evalue": "TF_SessionRun_wrapper: expected all values in input dict to be ndarray",
     "output_type": "error",
     "traceback": [
      "\u001b[1;31m---------------------------------------------------------------------------\u001b[0m",
      "\u001b[1;31mTypeError\u001b[0m                                 Traceback (most recent call last)",
      "\u001b[1;32m<ipython-input-65-6f795e01e3ca>\u001b[0m in \u001b[0;36m<module>\u001b[1;34m\u001b[0m\n\u001b[0;32m      6\u001b[0m \u001b[1;33m\u001b[0m\u001b[0m\n\u001b[0;32m      7\u001b[0m         \u001b[0mbatch_inputs\u001b[0m\u001b[1;33m,\u001b[0m \u001b[0mbatch_labels\u001b[0m \u001b[1;33m=\u001b[0m \u001b[0mget_batch\u001b[0m\u001b[1;33m(\u001b[0m\u001b[0mbatch_size\u001b[0m\u001b[1;33m)\u001b[0m\u001b[1;33m\u001b[0m\u001b[1;33m\u001b[0m\u001b[0m\n\u001b[1;32m----> 8\u001b[1;33m         \u001b[0m_\u001b[0m\u001b[1;33m,\u001b[0m\u001b[0mloss_val\u001b[0m\u001b[1;33m=\u001b[0m\u001b[0msess\u001b[0m\u001b[1;33m.\u001b[0m\u001b[0mrun\u001b[0m\u001b[1;33m(\u001b[0m\u001b[1;33m[\u001b[0m\u001b[0moptimizer\u001b[0m\u001b[1;33m,\u001b[0m\u001b[0mloss\u001b[0m\u001b[1;33m]\u001b[0m\u001b[1;33m,\u001b[0m\u001b[0mfeed_dict\u001b[0m \u001b[1;33m=\u001b[0m \u001b[1;33m{\u001b[0m\u001b[0mX\u001b[0m \u001b[1;33m:\u001b[0m \u001b[0mnumpy\u001b[0m\u001b[1;33m.\u001b[0m\u001b[0marray\u001b[0m\u001b[1;33m(\u001b[0m\u001b[0mbatch_inputs\u001b[0m\u001b[1;33m)\u001b[0m\u001b[1;33m,\u001b[0m \u001b[0mY\u001b[0m \u001b[1;33m:\u001b[0m \u001b[0mnumpy\u001b[0m\u001b[1;33m.\u001b[0m\u001b[0marray\u001b[0m\u001b[1;33m(\u001b[0m\u001b[0mbatch_labels\u001b[0m\u001b[1;33m)\u001b[0m \u001b[1;33m}\u001b[0m\u001b[1;33m)\u001b[0m\u001b[1;33m\u001b[0m\u001b[1;33m\u001b[0m\u001b[0m\n\u001b[0m\u001b[0;32m      9\u001b[0m \u001b[1;33m\u001b[0m\u001b[0m\n\u001b[0;32m     10\u001b[0m         \u001b[1;32mif\u001b[0m \u001b[0mepoch\u001b[0m \u001b[1;33m%\u001b[0m \u001b[1;36m1000\u001b[0m \u001b[1;33m==\u001b[0m \u001b[1;36m0\u001b[0m\u001b[1;33m:\u001b[0m\u001b[1;33m\u001b[0m\u001b[1;33m\u001b[0m\u001b[0m\n",
      "\u001b[1;32m~\\AppData\\Local\\Continuum\\anaconda3\\envs\\py36\\lib\\site-packages\\tensorflow\\python\\client\\session.py\u001b[0m in \u001b[0;36mrun\u001b[1;34m(self, fetches, feed_dict, options, run_metadata)\u001b[0m\n\u001b[0;32m    927\u001b[0m     \u001b[1;32mtry\u001b[0m\u001b[1;33m:\u001b[0m\u001b[1;33m\u001b[0m\u001b[1;33m\u001b[0m\u001b[0m\n\u001b[0;32m    928\u001b[0m       result = self._run(None, fetches, feed_dict, options_ptr,\n\u001b[1;32m--> 929\u001b[1;33m                          run_metadata_ptr)\n\u001b[0m\u001b[0;32m    930\u001b[0m       \u001b[1;32mif\u001b[0m \u001b[0mrun_metadata\u001b[0m\u001b[1;33m:\u001b[0m\u001b[1;33m\u001b[0m\u001b[1;33m\u001b[0m\u001b[0m\n\u001b[0;32m    931\u001b[0m         \u001b[0mproto_data\u001b[0m \u001b[1;33m=\u001b[0m \u001b[0mtf_session\u001b[0m\u001b[1;33m.\u001b[0m\u001b[0mTF_GetBuffer\u001b[0m\u001b[1;33m(\u001b[0m\u001b[0mrun_metadata_ptr\u001b[0m\u001b[1;33m)\u001b[0m\u001b[1;33m\u001b[0m\u001b[1;33m\u001b[0m\u001b[0m\n",
      "\u001b[1;32m~\\AppData\\Local\\Continuum\\anaconda3\\envs\\py36\\lib\\site-packages\\tensorflow\\python\\client\\session.py\u001b[0m in \u001b[0;36m_run\u001b[1;34m(self, handle, fetches, feed_dict, options, run_metadata)\u001b[0m\n\u001b[0;32m   1150\u001b[0m     \u001b[1;32mif\u001b[0m \u001b[0mfinal_fetches\u001b[0m \u001b[1;32mor\u001b[0m \u001b[0mfinal_targets\u001b[0m \u001b[1;32mor\u001b[0m \u001b[1;33m(\u001b[0m\u001b[0mhandle\u001b[0m \u001b[1;32mand\u001b[0m \u001b[0mfeed_dict_tensor\u001b[0m\u001b[1;33m)\u001b[0m\u001b[1;33m:\u001b[0m\u001b[1;33m\u001b[0m\u001b[1;33m\u001b[0m\u001b[0m\n\u001b[0;32m   1151\u001b[0m       results = self._do_run(handle, final_targets, final_fetches,\n\u001b[1;32m-> 1152\u001b[1;33m                              feed_dict_tensor, options, run_metadata)\n\u001b[0m\u001b[0;32m   1153\u001b[0m     \u001b[1;32melse\u001b[0m\u001b[1;33m:\u001b[0m\u001b[1;33m\u001b[0m\u001b[1;33m\u001b[0m\u001b[0m\n\u001b[0;32m   1154\u001b[0m       \u001b[0mresults\u001b[0m \u001b[1;33m=\u001b[0m \u001b[1;33m[\u001b[0m\u001b[1;33m]\u001b[0m\u001b[1;33m\u001b[0m\u001b[1;33m\u001b[0m\u001b[0m\n",
      "\u001b[1;32m~\\AppData\\Local\\Continuum\\anaconda3\\envs\\py36\\lib\\site-packages\\tensorflow\\python\\client\\session.py\u001b[0m in \u001b[0;36m_do_run\u001b[1;34m(self, handle, target_list, fetch_list, feed_dict, options, run_metadata)\u001b[0m\n\u001b[0;32m   1326\u001b[0m     \u001b[1;32mif\u001b[0m \u001b[0mhandle\u001b[0m \u001b[1;32mis\u001b[0m \u001b[1;32mNone\u001b[0m\u001b[1;33m:\u001b[0m\u001b[1;33m\u001b[0m\u001b[1;33m\u001b[0m\u001b[0m\n\u001b[0;32m   1327\u001b[0m       return self._do_call(_run_fn, feeds, fetches, targets, options,\n\u001b[1;32m-> 1328\u001b[1;33m                            run_metadata)\n\u001b[0m\u001b[0;32m   1329\u001b[0m     \u001b[1;32melse\u001b[0m\u001b[1;33m:\u001b[0m\u001b[1;33m\u001b[0m\u001b[1;33m\u001b[0m\u001b[0m\n\u001b[0;32m   1330\u001b[0m       \u001b[1;32mreturn\u001b[0m \u001b[0mself\u001b[0m\u001b[1;33m.\u001b[0m\u001b[0m_do_call\u001b[0m\u001b[1;33m(\u001b[0m\u001b[0m_prun_fn\u001b[0m\u001b[1;33m,\u001b[0m \u001b[0mhandle\u001b[0m\u001b[1;33m,\u001b[0m \u001b[0mfeeds\u001b[0m\u001b[1;33m,\u001b[0m \u001b[0mfetches\u001b[0m\u001b[1;33m)\u001b[0m\u001b[1;33m\u001b[0m\u001b[1;33m\u001b[0m\u001b[0m\n",
      "\u001b[1;32m~\\AppData\\Local\\Continuum\\anaconda3\\envs\\py36\\lib\\site-packages\\tensorflow\\python\\client\\session.py\u001b[0m in \u001b[0;36m_do_call\u001b[1;34m(self, fn, *args)\u001b[0m\n\u001b[0;32m   1332\u001b[0m   \u001b[1;32mdef\u001b[0m \u001b[0m_do_call\u001b[0m\u001b[1;33m(\u001b[0m\u001b[0mself\u001b[0m\u001b[1;33m,\u001b[0m \u001b[0mfn\u001b[0m\u001b[1;33m,\u001b[0m \u001b[1;33m*\u001b[0m\u001b[0margs\u001b[0m\u001b[1;33m)\u001b[0m\u001b[1;33m:\u001b[0m\u001b[1;33m\u001b[0m\u001b[1;33m\u001b[0m\u001b[0m\n\u001b[0;32m   1333\u001b[0m     \u001b[1;32mtry\u001b[0m\u001b[1;33m:\u001b[0m\u001b[1;33m\u001b[0m\u001b[1;33m\u001b[0m\u001b[0m\n\u001b[1;32m-> 1334\u001b[1;33m       \u001b[1;32mreturn\u001b[0m \u001b[0mfn\u001b[0m\u001b[1;33m(\u001b[0m\u001b[1;33m*\u001b[0m\u001b[0margs\u001b[0m\u001b[1;33m)\u001b[0m\u001b[1;33m\u001b[0m\u001b[1;33m\u001b[0m\u001b[0m\n\u001b[0m\u001b[0;32m   1335\u001b[0m     \u001b[1;32mexcept\u001b[0m \u001b[0merrors\u001b[0m\u001b[1;33m.\u001b[0m\u001b[0mOpError\u001b[0m \u001b[1;32mas\u001b[0m \u001b[0me\u001b[0m\u001b[1;33m:\u001b[0m\u001b[1;33m\u001b[0m\u001b[1;33m\u001b[0m\u001b[0m\n\u001b[0;32m   1336\u001b[0m       \u001b[0mmessage\u001b[0m \u001b[1;33m=\u001b[0m \u001b[0mcompat\u001b[0m\u001b[1;33m.\u001b[0m\u001b[0mas_text\u001b[0m\u001b[1;33m(\u001b[0m\u001b[0me\u001b[0m\u001b[1;33m.\u001b[0m\u001b[0mmessage\u001b[0m\u001b[1;33m)\u001b[0m\u001b[1;33m\u001b[0m\u001b[1;33m\u001b[0m\u001b[0m\n",
      "\u001b[1;32m~\\AppData\\Local\\Continuum\\anaconda3\\envs\\py36\\lib\\site-packages\\tensorflow\\python\\client\\session.py\u001b[0m in \u001b[0;36m_run_fn\u001b[1;34m(feed_dict, fetch_list, target_list, options, run_metadata)\u001b[0m\n\u001b[0;32m   1317\u001b[0m       \u001b[0mself\u001b[0m\u001b[1;33m.\u001b[0m\u001b[0m_extend_graph\u001b[0m\u001b[1;33m(\u001b[0m\u001b[1;33m)\u001b[0m\u001b[1;33m\u001b[0m\u001b[1;33m\u001b[0m\u001b[0m\n\u001b[0;32m   1318\u001b[0m       return self._call_tf_sessionrun(\n\u001b[1;32m-> 1319\u001b[1;33m           options, feed_dict, fetch_list, target_list, run_metadata)\n\u001b[0m\u001b[0;32m   1320\u001b[0m \u001b[1;33m\u001b[0m\u001b[0m\n\u001b[0;32m   1321\u001b[0m     \u001b[1;32mdef\u001b[0m \u001b[0m_prun_fn\u001b[0m\u001b[1;33m(\u001b[0m\u001b[0mhandle\u001b[0m\u001b[1;33m,\u001b[0m \u001b[0mfeed_dict\u001b[0m\u001b[1;33m,\u001b[0m \u001b[0mfetch_list\u001b[0m\u001b[1;33m)\u001b[0m\u001b[1;33m:\u001b[0m\u001b[1;33m\u001b[0m\u001b[1;33m\u001b[0m\u001b[0m\n",
      "\u001b[1;32m~\\AppData\\Local\\Continuum\\anaconda3\\envs\\py36\\lib\\site-packages\\tensorflow\\python\\client\\session.py\u001b[0m in \u001b[0;36m_call_tf_sessionrun\u001b[1;34m(self, options, feed_dict, fetch_list, target_list, run_metadata)\u001b[0m\n\u001b[0;32m   1405\u001b[0m     return tf_session.TF_SessionRun_wrapper(\n\u001b[0;32m   1406\u001b[0m         \u001b[0mself\u001b[0m\u001b[1;33m.\u001b[0m\u001b[0m_session\u001b[0m\u001b[1;33m,\u001b[0m \u001b[0moptions\u001b[0m\u001b[1;33m,\u001b[0m \u001b[0mfeed_dict\u001b[0m\u001b[1;33m,\u001b[0m \u001b[0mfetch_list\u001b[0m\u001b[1;33m,\u001b[0m \u001b[0mtarget_list\u001b[0m\u001b[1;33m,\u001b[0m\u001b[1;33m\u001b[0m\u001b[1;33m\u001b[0m\u001b[0m\n\u001b[1;32m-> 1407\u001b[1;33m         run_metadata)\n\u001b[0m\u001b[0;32m   1408\u001b[0m \u001b[1;33m\u001b[0m\u001b[0m\n\u001b[0;32m   1409\u001b[0m   \u001b[1;32mdef\u001b[0m \u001b[0m_call_tf_sessionprun\u001b[0m\u001b[1;33m(\u001b[0m\u001b[0mself\u001b[0m\u001b[1;33m,\u001b[0m \u001b[0mhandle\u001b[0m\u001b[1;33m,\u001b[0m \u001b[0mfeed_dict\u001b[0m\u001b[1;33m,\u001b[0m \u001b[0mfetch_list\u001b[0m\u001b[1;33m)\u001b[0m\u001b[1;33m:\u001b[0m\u001b[1;33m\u001b[0m\u001b[1;33m\u001b[0m\u001b[0m\n",
      "\u001b[1;31mTypeError\u001b[0m: TF_SessionRun_wrapper: expected all values in input dict to be ndarray"
     ]
    }
   ],
   "source": [
    "epochs=10000\n",
    "with tf.Session() as sess:\n",
    "    sess.run(tf.global_variables_initializer())\n",
    "    \n",
    "    for epoch in range(epochs):\n",
    "        \n",
    "        batch_inputs, batch_labels = get_batch(batch_size)\n",
    "        _,loss_val=sess.run([optimizer,loss],feed_dict = {X : numpy.array(batch_inputs), Y : numpy.array(batch_labels) })\n",
    "        \n",
    "        if epoch % 1000 == 0:\n",
    "            print(\"Loss at \", epoch, loss_val) # Report the loss\n",
    "    \n",
    "    # Final embeddings are ready for you to use. Need to normalize for practical use\n",
    "    trained_embeddings = embeddings.eval()\n",
    "    \n",
    "\n",
    "import matplotlib.pyplot as plt\n",
    "# Show word2vec if dim is 2\n",
    "if trained_embeddings.shape[1] == 2:\n",
    "    labels = unique_words[:50] # Show top 10 words\n",
    "    for i, label in enumerate(labels):\n",
    "        x, y = trained_embeddings[i,:]\n",
    "        plt.scatter(x, y)\n",
    "        plt.annotate(label, xy=(x, y), xytext=(5, 2),\n",
    "            textcoords='offset points', ha='right', va='bottom')\n",
    "    #plt.savefig(\"word2vec.png\")\n",
    "    plt.show()"
   ]
  },
  {
   "cell_type": "code",
   "execution_count": null,
   "metadata": {},
   "outputs": [],
   "source": [
    "import matplotlib.pyplot as plt\n",
    "# Show word2vec if dim is 2\n",
    "if trained_embeddings.shape[1] == 2:\n",
    "    labels = unique_words[30:60] # Show top 10 words\n",
    "    for i, label in enumerate(labels):\n",
    "        x, y = trained_embeddings[i,:]\n",
    "        plt.scatter(x, y)\n",
    "        plt.annotate(label, xy=(x, y), xytext=(5, 2),\n",
    "            textcoords='offset points', ha='right', va='bottom')\n",
    "    #plt.savefig(\"word2vec.png\")\n",
    "    plt.show()"
   ]
  },
  {
   "cell_type": "code",
   "execution_count": null,
   "metadata": {
    "collapsed": true
   },
   "outputs": [],
   "source": []
  }
 ],
 "metadata": {
  "kernelspec": {
   "display_name": "Python 3",
   "language": "python",
   "name": "python3"
  },
  "language_info": {
   "codemirror_mode": {
    "name": "ipython",
    "version": 3
   },
   "file_extension": ".py",
   "mimetype": "text/x-python",
   "name": "python",
   "nbconvert_exporter": "python",
   "pygments_lexer": "ipython3",
   "version": "3.6.8"
  }
 },
 "nbformat": 4,
 "nbformat_minor": 2
}
