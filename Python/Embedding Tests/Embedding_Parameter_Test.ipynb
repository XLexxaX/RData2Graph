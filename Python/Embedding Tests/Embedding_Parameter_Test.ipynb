{
 "cells": [
  {
   "cell_type": "code",
   "execution_count": 1,
   "metadata": {},
   "outputs": [],
   "source": [
    "import os\n",
    "import sys\n",
    "import datetime\n",
    "import re\n",
    "import numpy as np"
   ]
  },
  {
   "cell_type": "code",
   "execution_count": 2,
   "metadata": {},
   "outputs": [],
   "source": [
    "rundir = os.path.abspath(os.path.join('..','..','result_data',\n",
    "                                                   re.sub(r\"[-:\\.\\s]\",\"_\",str(datetime.datetime.now())))) + \"\\\\\""
   ]
  },
  {
   "cell_type": "code",
   "execution_count": 3,
   "metadata": {},
   "outputs": [
    {
     "data": {
      "text/plain": [
       "'C:\\\\Users\\\\D072202\\\\RData2Graph\\\\rdata2graph\\\\result_data\\\\2019_05_26_13_19_01_138070\\\\'"
      ]
     },
     "execution_count": 3,
     "metadata": {},
     "output_type": "execute_result"
    }
   ],
   "source": [
    "rundir"
   ]
  },
  {
   "cell_type": "code",
   "execution_count": 4,
   "metadata": {},
   "outputs": [
    {
     "data": {
      "text/plain": [
       "'C:\\\\Users\\\\D072202\\\\RData2Graph\\\\rdata2graph\\\\result_data\\\\2019_05_26_13_19_01_138070\\\\asd.log'"
      ]
     },
     "execution_count": 4,
     "metadata": {},
     "output_type": "execute_result"
    }
   ],
   "source": [
    "os.path.join(rundir, 'asd.log')"
   ]
  },
  {
   "cell_type": "code",
   "execution_count": 6,
   "metadata": {},
   "outputs": [
    {
     "data": {
      "text/html": [
       "<div>\n",
       "<style scoped>\n",
       "    .dataframe tbody tr th:only-of-type {\n",
       "        vertical-align: middle;\n",
       "    }\n",
       "\n",
       "    .dataframe tbody tr th {\n",
       "        vertical-align: top;\n",
       "    }\n",
       "\n",
       "    .dataframe thead th {\n",
       "        text-align: right;\n",
       "    }\n",
       "</style>\n",
       "<table border=\"1\" class=\"dataframe\">\n",
       "  <thead>\n",
       "    <tr style=\"text-align: right;\">\n",
       "      <th></th>\n",
       "      <th>0</th>\n",
       "      <th>1</th>\n",
       "    </tr>\n",
       "  </thead>\n",
       "  <tbody>\n",
       "    <tr>\n",
       "      <th>0</th>\n",
       "      <td>1</td>\n",
       "      <td>5</td>\n",
       "    </tr>\n",
       "  </tbody>\n",
       "</table>\n",
       "</div>"
      ],
      "text/plain": [
       "   0  1\n",
       "0  1  5"
      ]
     },
     "execution_count": 6,
     "metadata": {},
     "output_type": "execute_result"
    }
   ],
   "source": [
    "import pandas as pd\n",
    "import numpy as np\n",
    "x = pd.DataFrame([[1,5]])\n",
    "x"
   ]
  },
  {
   "cell_type": "code",
   "execution_count": 43,
   "metadata": {},
   "outputs": [
    {
     "data": {
      "text/html": [
       "<div>\n",
       "<style scoped>\n",
       "    .dataframe tbody tr th:only-of-type {\n",
       "        vertical-align: middle;\n",
       "    }\n",
       "\n",
       "    .dataframe tbody tr th {\n",
       "        vertical-align: top;\n",
       "    }\n",
       "\n",
       "    .dataframe thead th {\n",
       "        text-align: right;\n",
       "    }\n",
       "</style>\n",
       "<table border=\"1\" class=\"dataframe\">\n",
       "  <thead>\n",
       "    <tr style=\"text-align: right;\">\n",
       "      <th></th>\n",
       "      <th>0</th>\n",
       "      <th>1</th>\n",
       "      <th>hoho</th>\n",
       "    </tr>\n",
       "  </thead>\n",
       "  <tbody>\n",
       "    <tr>\n",
       "      <th>0</th>\n",
       "      <td>1</td>\n",
       "      <td>5</td>\n",
       "      <td>abc</td>\n",
       "    </tr>\n",
       "    <tr>\n",
       "      <th>1</th>\n",
       "      <td>9</td>\n",
       "      <td>9</td>\n",
       "      <td>abc</td>\n",
       "    </tr>\n",
       "  </tbody>\n",
       "</table>\n",
       "</div>"
      ],
      "text/plain": [
       "   0  1 hoho\n",
       "0  1  5  abc\n",
       "1  9  9  abc"
      ]
     },
     "execution_count": 43,
     "metadata": {},
     "output_type": "execute_result"
    }
   ],
   "source": [
    "x=x.append([[9,9]],ignore_index=True)\n",
    "x.loc[0,'hoho'] = 'abc'\n",
    "x.loc[1,'hoho'] = 'abc'\n",
    "x"
   ]
  },
  {
   "cell_type": "code",
   "execution_count": 106,
   "metadata": {},
   "outputs": [],
   "source": [
    "documents = list()\n",
    "with open('C:/Users/D072202/DeepAnyMatch/DeepAnyMatch-master/data/sap_hilti_data/sap_hilti_full_strings/graph_triples_hilti_erp.nt',encoding='UTF-8', mode='r') as i:\n",
    "    with open('C:/Users/D072202/DeepAnyMatch/DeepAnyMatch-master/data/sap_hilti_data/sap_hilti_full_strings/graph_triples_hilti_erp2.nt',encoding='UTF-8',mode=\"w+\") as o:\n",
    "        for line in i:\n",
    "            if 'maktx' in line.lower():\n",
    "                o.write(line)\n",
    "        o.close()\n",
    "    i.close()"
   ]
  },
  {
   "cell_type": "code",
   "execution_count": 54,
   "metadata": {},
   "outputs": [],
   "source": [
    "import numpy as np\n",
    "import matplotlib.pyplot as plt\n",
    "import pandas as pd\n",
    "from gensim.models import Word2Vec\n",
    "import matplotlib.pyplot as plt\n",
    "from gensim.models.doc2vec import Doc2Vec, TaggedDocument\n"
   ]
  },
  {
   "cell_type": "code",
   "execution_count": 55,
   "metadata": {},
   "outputs": [
    {
     "name": "stdout",
     "output_type": "stream",
     "text": [
      "done\n"
     ]
    }
   ],
   "source": [
    "documents= [['id1','cordless','hammer'],\n",
    "            ['id4','something','else'],\n",
    "            ['id2','cordless','hammer','3D'],\n",
    "            ['id3','cordless','smartphone'],['id1','cordless','hammer'],\n",
    "            ['id4','something','else'],\n",
    "            ['id2','cordless','hammer','3D'],\n",
    "            ['id3','cordless','smartphone'],['id1','cordless','hammer'],\n",
    "            ['id4','something','else'],\n",
    "            ['id2','cordless','hammer','3D'],\n",
    "            ['id3','cordless','smartphone'],['id1','cordless','hammer'],\n",
    "            ['id4','something','else'],\n",
    "            ['id2','cordless','hammer','3D'],\n",
    "            ['id3','cordless','smartphone'],['id1','cordless','hammer'],\n",
    "            ['id4','something','else'],\n",
    "            ['id2','cordless','hammer','3D'],\n",
    "            ['id3','cordless','smartphone'],['id1','cordless','hammer'],\n",
    "            ['id4','something','else'],\n",
    "            ['id2','cordless','hammer','3D'],\n",
    "            ['id3','cordless','smartphone'],['id1','cordless','hammer'],\n",
    "            ['id4','something','else'],\n",
    "            ['id2','cordless','hammer','3D'],\n",
    "            ['id3','cordless','smartphone'],['id1','cordless','hammer'],\n",
    "            ['id4','something','else'],\n",
    "            ['id2','cordless','hammer','3D'],\n",
    "            ['id3','cordless','smartphone'],['id1','cordless','hammer'],\n",
    "            ['id4','something','else'],\n",
    "            ['id2','cordless','hammer','3D'],\n",
    "            ['id3','cordless','smartphone'],['id1','cordless','hammer'],\n",
    "            ['id4','something','else'],\n",
    "            ['id2','cordless','hammer','3D'],\n",
    "            ['id3','cordless','smartphone']]\n",
    "#model = Word2Vec(documents)#, negative=20, sample=1e-3)\n",
    "print(\"done\")"
   ]
  },
  {
   "cell_type": "code",
   "execution_count": null,
   "metadata": {},
   "outputs": [],
   "source": []
  },
  {
   "cell_type": "code",
   "execution_count": 2,
   "metadata": {},
   "outputs": [],
   "source": [
    "#df=pd.read_csv('C:/Users/D072202/DeepAnyMatch/DeepAnyMatch-master/result_data/test_2019_03_26_10_45_38_360067/w2v_formatted_training_material.csv', sep=',',header=None)\n",
    "#documents = df.values.tolist()\n"
   ]
  },
  {
   "cell_type": "code",
   "execution_count": 3,
   "metadata": {},
   "outputs": [
    {
     "data": {
      "text/plain": [
       "[['<http://rdata2graph.sap.com/hilti_web/torx_screw_m6x16__repair_part_#666d6335-10ac-4ac9-8f2a-9292d66f4a8d>',\n",
       "  '<http://rdata2graph.sap.com/hilti_web/property/categories.id>',\n",
       "  '<http://rdata2graph.sap.com/hilti_web/demolition_hammers___breakers#8bdace2e-dd5d-4f71-8482-7a967edd17c1>',\n",
       "  '<http://rdata2graph.sap.com/hilti_web/property/categories.id>',\n",
       "  '<http://rdata2graph.sap.com/hilti_web/power_tools#1837e7e8-1244-49af-81aa-fd76267dc611>',\n",
       "  '<http://rdata2graph.sap.com/hilti_web/property/categories.id>',\n",
       "  '<http://rdata2graph.sap.com/hilti_web/products#8e9b1360-521e-4056-b3b6-2d0e781f176e>',\n",
       "  '<http://rdata2graph.sap.com/hilti_web/property/categories.description>',\n",
       "  '\"see',\n",
       "  'how',\n",
       "  'to',\n",
       "  'increase',\n",
       "  'your',\n",
       "  'productivity',\n",
       "  'and',\n",
       "  'mobility',\n",
       "  'by',\n",
       "  'using',\n",
       "  'cordless',\n",
       "  'tools:',\n",
       "  'hammer',\n",
       "  'drill',\n",
       "  'drivers',\n",
       "  'impacts',\n",
       "  'angle',\n",
       "  'grinders',\n",
       "  'rotary',\n",
       "  'hammers',\n",
       "  'and',\n",
       "  'saws\"\\n'],\n",
       " ['<http://rdata2graph.sap.com/hilti_web/torx_screw_m6x16__repair_part_#666d6335-10ac-4ac9-8f2a-9292d66f4a8d>',\n",
       "  '<http://rdata2graph.sap.com/hilti_web/property/products.description>',\n",
       "  '\"none\"\\n'],\n",
       " ['<http://rdata2graph.sap.com/hilti_web/torx_screw_m6x16__repair_part_#666d6335-10ac-4ac9-8f2a-9292d66f4a8d>',\n",
       "  '<http://rdata2graph.sap.com/hilti_web/property/products.pid>',\n",
       "  '\"26365.0\"\\n'],\n",
       " ['<http://rdata2graph.sap.com/hilti_web/torx_screw_m6x16__repair_part_#666d6335-10ac-4ac9-8f2a-9292d66f4a8d>',\n",
       "  '<http://rdata2graph.sap.com/hilti_web/property/products.name>',\n",
       "  '\"torx',\n",
       "  'screw',\n",
       "  'm6x16',\n",
       "  '(repair',\n",
       "  'part)\"\\n'],\n",
       " ['<http://rdata2graph.sap.com/hilti_web/6_3_10_m10__caliber__25_#caa809bf-9493-4c32-b4f6-315775831720>',\n",
       "  '<http://rdata2graph.sap.com/hilti_web/property/products.name>',\n",
       "  '\"6.3/10',\n",
       "  'm10',\n",
       "  '(caliber',\n",
       "  '.25)\"\\n']]"
      ]
     },
     "execution_count": 3,
     "metadata": {},
     "output_type": "execute_result"
    }
   ],
   "source": [
    "documents = list()\n",
    "with open('C:/Users/D072202/RData2Graph/rdata2graph/data/sap_hilti_data/corpus_hilti_web.txt',encoding='UTF-8') as f:\n",
    "    for line in f:\n",
    "        documents.append(line.split(\" \"))\n",
    "    f.close()\n",
    "with open('C:/Users/D072202/RData2Graph/rdata2graph/data/sap_hilti_data/corpus_hilti_erp.txt',encoding='UTF-8') as f:\n",
    "    for line in f:\n",
    "        documents.append(line.split(\" \"))\n",
    "    f.close()\n",
    "documents[:5]"
   ]
  },
  {
   "cell_type": "code",
   "execution_count": 4,
   "metadata": {
    "scrolled": true
   },
   "outputs": [
    {
     "name": "stdout",
     "output_type": "stream",
     "text": [
      "['<http://rdata2graph.sap.com/hilti_web/property/categories.id>', '<http://rdata2graph.sap.com/hilti_web/torx_screw_m6x16__repair_part_#666d6335-10ac-4ac9-8f2a-9292d66f4a8d>']\n",
      "['<http://rdata2graph.sap.com/hilti_web/demolition_hammers___breakers#8bdace2e-dd5d-4f71-8482-7a967edd17c1>', '<http://rdata2graph.sap.com/hilti_web/torx_screw_m6x16__repair_part_#666d6335-10ac-4ac9-8f2a-9292d66f4a8d>']\n",
      "['<http://rdata2graph.sap.com/hilti_web/property/categories.id>', '<http://rdata2graph.sap.com/hilti_web/torx_screw_m6x16__repair_part_#666d6335-10ac-4ac9-8f2a-9292d66f4a8d>']\n",
      "['<http://rdata2graph.sap.com/hilti_web/power_tools#1837e7e8-1244-49af-81aa-fd76267dc611>', '<http://rdata2graph.sap.com/hilti_web/torx_screw_m6x16__repair_part_#666d6335-10ac-4ac9-8f2a-9292d66f4a8d>']\n",
      "['<http://rdata2graph.sap.com/hilti_web/property/categories.id>', '<http://rdata2graph.sap.com/hilti_web/torx_screw_m6x16__repair_part_#666d6335-10ac-4ac9-8f2a-9292d66f4a8d>']\n",
      "['<http://rdata2graph.sap.com/hilti_web/products#8e9b1360-521e-4056-b3b6-2d0e781f176e>', '<http://rdata2graph.sap.com/hilti_web/torx_screw_m6x16__repair_part_#666d6335-10ac-4ac9-8f2a-9292d66f4a8d>']\n",
      "['<http://rdata2graph.sap.com/hilti_web/property/categories.description>', '<http://rdata2graph.sap.com/hilti_web/torx_screw_m6x16__repair_part_#666d6335-10ac-4ac9-8f2a-9292d66f4a8d>']\n",
      "['see', '<http://rdata2graph.sap.com/hilti_web/torx_screw_m6x16__repair_part_#666d6335-10ac-4ac9-8f2a-9292d66f4a8d>']\n",
      "['how', '<http://rdata2graph.sap.com/hilti_web/torx_screw_m6x16__repair_part_#666d6335-10ac-4ac9-8f2a-9292d66f4a8d>']\n",
      "['to', '<http://rdata2graph.sap.com/hilti_web/torx_screw_m6x16__repair_part_#666d6335-10ac-4ac9-8f2a-9292d66f4a8d>']\n"
     ]
    }
   ],
   "source": [
    "from nltk.stem import PorterStemmer\n",
    "ps = PorterStemmer()\n",
    "import re\n",
    "import numpy as np\n",
    "import pandas as pd\n",
    "import os\n",
    "\n",
    "def stem(sents):\n",
    "    new_sents = list()\n",
    "    for sent in sents:\n",
    "        tmp = list()\n",
    "        for word in sent:\n",
    "            if not 'http://' in word:\n",
    "                word = ps.stem(re.sub('[^A-z0-9<>]','', word))\n",
    "            else:\n",
    "                word = re.sub('[\\r\\n]','',word)\n",
    "            if not word == '' and len(word) > 1:\n",
    "                tmp.append(word)\n",
    "        if len(tmp) > 1:\n",
    "            new_sents.append(tmp)\n",
    "    return new_sents\n",
    "\n",
    "\n",
    "def tuplize(sents):\n",
    "    f = open('_tmp.tmp','w+', encoding=\"UTF-8\")\n",
    "    new_sents = list()\n",
    "    for sentence in sents:\n",
    "        for j in range(len(sentence)):\n",
    "            for k in range(j+1,len(sentence)):\n",
    "                f.write(sentence[k] + ',' + sentence[j] + \"\\n\")\n",
    "    f.close()\n",
    "    documents=list()\n",
    "    df=pd.read_csv('_tmp.tmp', sep=',',header=None, error_bad_lines=False)\n",
    "    documents = df.values.tolist()\n",
    "    os.remove('_tmp.tmp')\n",
    "    return documents\n",
    "    \n",
    "documents = stem(documents)\n",
    "documents = tuplize(documents)\n",
    "documents = documents + [['<>','<>']]\n",
    "\n",
    "for i in range(10):\n",
    "    print(str(documents[i]))"
   ]
  },
  {
   "cell_type": "code",
   "execution_count": 19,
   "metadata": {},
   "outputs": [
    {
     "ename": "IndexError",
     "evalue": "too many indices for array",
     "output_type": "error",
     "traceback": [
      "\u001b[1;31m---------------------------------------------------------------------------\u001b[0m",
      "\u001b[1;31mIndexError\u001b[0m                                Traceback (most recent call last)",
      "\u001b[1;32m<ipython-input-19-980531b28a83>\u001b[0m in \u001b[0;36m<module>\u001b[1;34m\u001b[0m\n\u001b[0;32m      5\u001b[0m \u001b[1;33m\u001b[0m\u001b[0m\n\u001b[0;32m      6\u001b[0m \u001b[0mdocuments\u001b[0m \u001b[1;33m=\u001b[0m \u001b[0md2\u001b[0m\u001b[1;33m\u001b[0m\u001b[1;33m\u001b[0m\u001b[0m\n\u001b[1;32m----> 7\u001b[1;33m \u001b[0mnp\u001b[0m\u001b[1;33m.\u001b[0m\u001b[0marray\u001b[0m\u001b[1;33m(\u001b[0m\u001b[0mdocuments\u001b[0m\u001b[1;33m)\u001b[0m\u001b[1;33m[\u001b[0m\u001b[1;33m:\u001b[0m\u001b[1;36m100\u001b[0m\u001b[1;33m,\u001b[0m\u001b[1;33m:\u001b[0m\u001b[1;33m]\u001b[0m\u001b[1;33m\u001b[0m\u001b[1;33m\u001b[0m\u001b[0m\n\u001b[0m",
      "\u001b[1;31mIndexError\u001b[0m: too many indices for array"
     ]
    }
   ],
   "source": [
    "d2 = list()\n",
    "for d in documents:\n",
    "    if not 'http' in d[0] or not 'http' in d[1]:\n",
    "        d2.append(d)\n",
    "\n",
    "documents = d2\n",
    "np.array(documents)[:100,:]"
   ]
  },
  {
   "cell_type": "code",
   "execution_count": null,
   "metadata": {},
   "outputs": [],
   "source": []
  },
  {
   "cell_type": "code",
   "execution_count": 56,
   "metadata": {},
   "outputs": [],
   "source": [
    "\n",
    "import gensim.models.word2vec as w2v\n",
    "import multiprocessing\n",
    "#ONCE we have vectors\n",
    "#step 3 - build model\n",
    "#3 main tasks that vectors help with\n",
    "#DISTANCE, SIMILARITY, RANKING\n",
    "\n",
    "# Dimensionality of the resulting word vectors.\n",
    "#more dimensions, more computationally expensive to train\n",
    "#but also more accurate\n",
    "#more dimensions = more generalized\n",
    "num_features = 2\n",
    "# Minimum word count threshold.\n",
    "min_word_count = 1\n",
    "\n",
    "# Number of threads to run in parallel.\n",
    "#more workers, faster we train\n",
    "num_workers = multiprocessing.cpu_count()\n",
    "\n",
    "# Context window length.\n",
    "context_size = 1\n",
    "\n",
    "# Downsample setting for frequent words.\n",
    "#0 - 1e-5 is good for this\n",
    "downsampling = 0.05\n",
    "\n",
    "# Seed for the RNG, to make the results reproducible.\n",
    "#random number generator\n",
    "#deterministic, good for debugging\n",
    "seed = 1\n",
    "sentences = documents\n",
    "model = w2v.Word2Vec(\n",
    "    sg=0,\n",
    "    seed=seed,\n",
    "    workers=num_workers,\n",
    "    size=num_features,\n",
    "    min_count=min_word_count,\n",
    "    window=context_size\n",
    ")\n",
    "model.build_vocab(sentences)\n"
   ]
  },
  {
   "cell_type": "code",
   "execution_count": 57,
   "metadata": {},
   "outputs": [
    {
     "data": {
      "text/plain": [
       "(698981, 6500000)"
      ]
     },
     "execution_count": 57,
     "metadata": {},
     "output_type": "execute_result"
    }
   ],
   "source": [
    "k=50000\n",
    "model.train(sentences, total_examples=model.corpus_count, epochs=k)"
   ]
  },
  {
   "cell_type": "code",
   "execution_count": null,
   "metadata": {},
   "outputs": [],
   "source": []
  },
  {
   "cell_type": "code",
   "execution_count": 58,
   "metadata": {},
   "outputs": [],
   "source": [
    "def setify(li):\n",
    "    s = set()\n",
    "    for l1 in li:\n",
    "        for elem in l1:\n",
    "            s.add(elem)\n",
    "    return s"
   ]
  },
  {
   "cell_type": "code",
   "execution_count": 59,
   "metadata": {
    "scrolled": true
   },
   "outputs": [
    {
     "data": {
      "text/plain": [
       "['id2',\n",
       " 'cordless',\n",
       " 'id3',\n",
       " 'something',\n",
       " 'smartphone',\n",
       " 'id4',\n",
       " 'hammer',\n",
       " 'else',\n",
       " '3D',\n",
       " 'id1']"
      ]
     },
     "execution_count": 59,
     "metadata": {},
     "output_type": "execute_result"
    }
   ],
   "source": [
    "\n",
    "ids = setify(documents)# if 'torx_soc' in x or 'hammer' in x]\n",
    "import random\n",
    "#ids = random.sample(ids,15)\n",
    "emb = list()\n",
    "tmp_ids = list()\n",
    "for i in ids:\n",
    "    try:\n",
    "        emb.append(model.wv[i])\n",
    "        tmp_ids.append(i)\n",
    "    except:\n",
    "        pass\n",
    "emb = np.array(emb)\n",
    "ids = tmp_ids\n",
    "ids"
   ]
  },
  {
   "cell_type": "code",
   "execution_count": null,
   "metadata": {},
   "outputs": [],
   "source": []
  },
  {
   "cell_type": "code",
   "execution_count": 60,
   "metadata": {
    "scrolled": true
   },
   "outputs": [
    {
     "data": {
      "image/png": "[encoded data removed]",
      "text/plain": [
       "<Figure size 432x432 with 1 Axes>"
      ]
     },
     "metadata": {
      "needs_background": "light"
     },
     "output_type": "display_data"
    },
    {
     "name": "stdout",
     "output_type": "stream",
     "text": [
      "Done\n"
     ]
    }
   ],
   "source": [
    "import matplotlib.pyplot as plt\n",
    "plt.figure(figsize=(6,6))\n",
    "for i, label in enumerate(ids):\n",
    "        x, y = emb[i,0], emb[i,1]\n",
    "        plt.scatter(x, y)\n",
    "        plt.annotate(label, xy=(x, y), xytext=(5,3),\n",
    "            textcoords='offset points', ha='right', va='bottom')\n",
    "plt.savefig(\"C:/Users/D072202/Desktop/w2v_\"+str(model.alpha)+\"alpha_\"+str(len(documents))+\"ids_\"+str(k)+\"epochs.png\")\n",
    "plt.show()\n",
    "print(\"Done\")"
   ]
  },
  {
   "cell_type": "code",
   "execution_count": null,
   "metadata": {},
   "outputs": [],
   "source": []
  },
  {
   "cell_type": "code",
   "execution_count": 114,
   "metadata": {},
   "outputs": [
    {
     "data": {
      "text/plain": [
       "array([-0.67011774, -1.1712103 ], dtype=float32)"
      ]
     },
     "execution_count": 114,
     "metadata": {},
     "output_type": "execute_result"
    }
   ],
   "source": [
    "model.wv['<>']"
   ]
  },
  {
   "cell_type": "code",
   "execution_count": 115,
   "metadata": {},
   "outputs": [
    {
     "data": {
      "text/plain": [
       "array([-0.67011774, -1.1712103 ], dtype=float32)"
      ]
     },
     "execution_count": 115,
     "metadata": {},
     "output_type": "execute_result"
    }
   ],
   "source": [
    "model.wv['<>']"
   ]
  },
  {
   "cell_type": "code",
   "execution_count": null,
   "metadata": {},
   "outputs": [],
   "source": []
  }
 ],
 "metadata": {
  "kernelspec": {
   "display_name": "Python 3",
   "language": "python",
   "name": "python3"
  },
  "language_info": {
   "codemirror_mode": {
    "name": "ipython",
    "version": 3
   },
   "file_extension": ".py",
   "mimetype": "text/x-python",
   "name": "python",
   "nbconvert_exporter": "python",
   "pygments_lexer": "ipython3",
   "version": "3.6.8"
  }
 },
 "nbformat": 4,
 "nbformat_minor": 2
}
