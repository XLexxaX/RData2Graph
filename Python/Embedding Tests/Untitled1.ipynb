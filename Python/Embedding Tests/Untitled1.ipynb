{
 "cells": [
  {
   "cell_type": "code",
   "execution_count": 4,
   "metadata": {},
   "outputs": [],
   "source": [
    "\n",
    "from nltk.stem import PorterStemmer\n",
    "ps = PorterStemmer()\n",
    "import re"
   ]
  },
  {
   "cell_type": "code",
   "execution_count": 5,
   "metadata": {},
   "outputs": [
    {
     "name": "stdout",
     "output_type": "stream",
     "text": [
      "done\n"
     ]
    }
   ],
   "source": [
    "documents= [['id1','cordless','hammer'],\n",
    "            ['id4','something','else'],\n",
    "            ['id2','cordless','hammer','3D'],\n",
    "            ['id3','cordless','smartphone']]\n",
    "#model = Word2Vec(documents)#, negative=20, sample=1e-3)\n",
    "print(\"done\")"
   ]
  },
  {
   "cell_type": "code",
   "execution_count": 6,
   "metadata": {},
   "outputs": [
    {
     "data": {
      "text/plain": [
       "[['id1', 'cordless', 'hammer'],\n",
       " ['id4', 'someth', 'els'],\n",
       " ['id2', 'cordless', 'hammer', '3d'],\n",
       " ['id3', 'cordless', 'smartphon']]"
      ]
     },
     "execution_count": 6,
     "metadata": {},
     "output_type": "execute_result"
    }
   ],
   "source": [
    "\n",
    "def stem(sents):\n",
    "    for sent in sents:\n",
    "        tmp = list()\n",
    "        for expression in sent:\n",
    "            if not 'http://' in expression:\n",
    "                for word in expression.split(' '):\n",
    "                    expression_new.append(ps.stem(re.sub('[^A-z0-9<>]','', word.lower())))\n",
    "                expression = expression_new\n",
    "            else:\n",
    "                expression = [re.sub('[\\r\\n]', '', expression)]\n",
    "            if not \" \".join(expression) == '' and len(\" \".join(expression))>1:\n",
    "                tmp = tmp + expression\n",
    "        if len(tmp) > 1:\n",
    "            new_sents.append(tmp)\n",
    "    return new_sents\n",
    "stem(documents)"
   ]
  },
  {
   "cell_type": "code",
   "execution_count": null,
   "metadata": {},
   "outputs": [],
   "source": []
  }
 ],
 "metadata": {
  "kernelspec": {
   "display_name": "Python 3",
   "language": "python",
   "name": "python3"
  },
  "language_info": {
   "codemirror_mode": {
    "name": "ipython",
    "version": 3
   },
   "file_extension": ".py",
   "mimetype": "text/x-python",
   "name": "python",
   "nbconvert_exporter": "python",
   "pygments_lexer": "ipython3",
   "version": "3.6.8"
  }
 },
 "nbformat": 4,
 "nbformat_minor": 2
}
