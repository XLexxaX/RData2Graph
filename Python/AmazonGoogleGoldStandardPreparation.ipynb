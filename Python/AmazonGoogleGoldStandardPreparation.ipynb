{
 "cells": [
  {
   "cell_type": "code",
   "execution_count": 12,
   "metadata": {},
   "outputs": [],
   "source": [
    "encoding1 = dict()\n",
    "for line in open(\"C:\\\\Users\\\\D072202\\\\RData2Graph\\\\rdata2graph\\\\data\\\\amazon_google_data\\\\instanceID-to-verticeID_Amazon1.txt\"):\n",
    "    encoding1[\".\".join(line.split(\",\")[0].split(\".\")[2:]).replace(\"\\n\",\"\")] = line.split(\",\")[1].replace(\"\\n\",\"\")\n",
    "encoding2 = dict()\n",
    "for line in open(\"C:\\\\Users\\\\D072202\\\\RData2Graph\\\\rdata2graph\\\\data\\\\amazon_google_data\\\\instanceID-to-verticeID_Google2.txt\"):\n",
    "    encoding2[\".\".join(line.split(\",\")[0].split(\".\")[2:]).replace(\"\\n\",\"\")] = line.split(\",\")[1].replace(\"\\n\",\"\")\n"
   ]
  },
  {
   "cell_type": "code",
   "execution_count": 15,
   "metadata": {},
   "outputs": [
    {
     "name": "stdout",
     "output_type": "stream",
     "text": [
      "Done\n"
     ]
    }
   ],
   "source": [
    "outputgoldfile = open(\"C:\\\\Users\\\\D072202\\\\RData2Graph\\\\rdata2graph\\\\data\\\\amazon_google_data\\\\AmazonGoogleGold.csv\", \"w+\")\n",
    "for line in open(\"C:\\\\Users\\\\D072202\\\\RData2Graph\\\\rdata2graph\\\\data\\\\amazon_google_data\\\\Amzon_GoogleProducts_perfectMapping.csv\"):\n",
    "    try:\n",
    "        outputgoldfile.write(encoding1[line.split(\",\")[0].replace(\"\\\"\",\"\").replace(\"\\n\",\"\")] + \",\" + encoding2[line.split(\",\")[1].replace(\"\\\"\",\"\").replace(\"\\n\",\"\")] + \"\\n\")\n",
    "    except:\n",
    "        pass\n",
    "outputgoldfile.flush()\n",
    "outputgoldfile.close()\n",
    "print(\"Done\")"
   ]
  },
  {
   "cell_type": "code",
   "execution_count": null,
   "metadata": {},
   "outputs": [],
   "source": []
  }
 ],
 "metadata": {
  "kernelspec": {
   "display_name": "Python 3",
   "language": "python",
   "name": "python3"
  },
  "language_info": {
   "codemirror_mode": {
    "name": "ipython",
    "version": 3
   },
   "file_extension": ".py",
   "mimetype": "text/x-python",
   "name": "python",
   "nbconvert_exporter": "python",
   "pygments_lexer": "ipython3",
   "version": "3.7.1"
  }
 },
 "nbformat": 4,
 "nbformat_minor": 2
}
