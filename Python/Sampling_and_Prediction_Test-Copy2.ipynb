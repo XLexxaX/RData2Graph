{
 "cells": [
  {
   "cell_type": "code",
   "execution_count": 2,
   "metadata": {},
   "outputs": [],
   "source": [
    "import pandas as pd\n",
    "import numpy as np"
   ]
  },
  {
   "cell_type": "code",
   "execution_count": 5,
   "metadata": {},
   "outputs": [],
   "source": [
    "train_final = pd.read_csv('C:/Users/D072202/DeepAnyMatch/DeepAnyMatch/result_data/OAEI W2V_1_2019_05_30_12_18_48_140416/oaei_gold_standard3.csv-strcombined.csv', index_col=['Unnamed: 0'])\n",
    "test_final = pd.read_csv('C:/Users/D072202/DeepAnyMatch/DeepAnyMatch/result_data/OAEI W2V_1_2019_05_30_12_18_48_140416/possible_matches.csv-strcombined.csv', index_col=['Unnamed: 0'])"
   ]
  },
  {
   "cell_type": "code",
   "execution_count": 6,
   "metadata": {},
   "outputs": [
    {
     "data": {
      "text/html": [
       "<div>\n",
       "<style scoped>\n",
       "    .dataframe tbody tr th:only-of-type {\n",
       "        vertical-align: middle;\n",
       "    }\n",
       "\n",
       "    .dataframe tbody tr th {\n",
       "        vertical-align: top;\n",
       "    }\n",
       "\n",
       "    .dataframe thead th {\n",
       "        text-align: right;\n",
       "    }\n",
       "</style>\n",
       "<table border=\"1\" class=\"dataframe\">\n",
       "  <thead>\n",
       "    <tr style=\"text-align: right;\">\n",
       "      <th></th>\n",
       "      <th>src_0</th>\n",
       "      <th>src_1</th>\n",
       "      <th>src_2</th>\n",
       "      <th>src_3</th>\n",
       "      <th>src_4</th>\n",
       "      <th>src_5</th>\n",
       "      <th>src_6</th>\n",
       "      <th>src_7</th>\n",
       "      <th>src_8</th>\n",
       "      <th>src_9</th>\n",
       "      <th>...</th>\n",
       "      <th>tgt_19</th>\n",
       "      <th>label</th>\n",
       "      <th>syntactic_diff</th>\n",
       "      <th>plus_diff</th>\n",
       "      <th>src_tgt_angle</th>\n",
       "      <th>src_angle_to_origin</th>\n",
       "      <th>tgt_angle_to_origin</th>\n",
       "      <th>src_veclen</th>\n",
       "      <th>tgt_veclen</th>\n",
       "      <th>src_tgt_veclen</th>\n",
       "    </tr>\n",
       "  </thead>\n",
       "  <tbody>\n",
       "    <tr>\n",
       "      <th>0</th>\n",
       "      <td>-17.064283</td>\n",
       "      <td>-10.055532</td>\n",
       "      <td>0.393994</td>\n",
       "      <td>25.551603</td>\n",
       "      <td>-9.125972</td>\n",
       "      <td>-23.611675</td>\n",
       "      <td>-10.641783</td>\n",
       "      <td>7.163278</td>\n",
       "      <td>11.128324</td>\n",
       "      <td>-4.329561</td>\n",
       "      <td>...</td>\n",
       "      <td>6.350686</td>\n",
       "      <td>0</td>\n",
       "      <td>0.026744</td>\n",
       "      <td>0.875383</td>\n",
       "      <td>0.707449</td>\n",
       "      <td>0.071583</td>\n",
       "      <td>-0.031665</td>\n",
       "      <td>59.614148</td>\n",
       "      <td>59.614148</td>\n",
       "      <td>36.082846</td>\n",
       "    </tr>\n",
       "    <tr>\n",
       "      <th>1</th>\n",
       "      <td>-21.492147</td>\n",
       "      <td>-6.546044</td>\n",
       "      <td>-16.283115</td>\n",
       "      <td>13.047356</td>\n",
       "      <td>-11.840694</td>\n",
       "      <td>-23.133331</td>\n",
       "      <td>4.215028</td>\n",
       "      <td>-7.276629</td>\n",
       "      <td>-3.365286</td>\n",
       "      <td>-8.880898</td>\n",
       "      <td>...</td>\n",
       "      <td>6.933429</td>\n",
       "      <td>0</td>\n",
       "      <td>0.501418</td>\n",
       "      <td>0.523810</td>\n",
       "      <td>0.704835</td>\n",
       "      <td>-0.238665</td>\n",
       "      <td>0.090791</td>\n",
       "      <td>50.622716</td>\n",
       "      <td>50.622716</td>\n",
       "      <td>30.538804</td>\n",
       "    </tr>\n",
       "    <tr>\n",
       "      <th>2</th>\n",
       "      <td>-8.903676</td>\n",
       "      <td>-1.777785</td>\n",
       "      <td>-4.818856</td>\n",
       "      <td>11.285407</td>\n",
       "      <td>-1.299097</td>\n",
       "      <td>-9.526848</td>\n",
       "      <td>-1.868891</td>\n",
       "      <td>-0.841373</td>\n",
       "      <td>-2.353654</td>\n",
       "      <td>0.279226</td>\n",
       "      <td>...</td>\n",
       "      <td>12.839601</td>\n",
       "      <td>0</td>\n",
       "      <td>0.276945</td>\n",
       "      <td>0.676357</td>\n",
       "      <td>0.672991</td>\n",
       "      <td>0.151396</td>\n",
       "      <td>-0.058073</td>\n",
       "      <td>28.835454</td>\n",
       "      <td>28.835454</td>\n",
       "      <td>37.069847</td>\n",
       "    </tr>\n",
       "    <tr>\n",
       "      <th>3</th>\n",
       "      <td>-25.316391</td>\n",
       "      <td>-2.162553</td>\n",
       "      <td>-20.510807</td>\n",
       "      <td>50.711380</td>\n",
       "      <td>-2.177092</td>\n",
       "      <td>-35.773155</td>\n",
       "      <td>-7.721570</td>\n",
       "      <td>-2.447480</td>\n",
       "      <td>8.376177</td>\n",
       "      <td>-18.085226</td>\n",
       "      <td>...</td>\n",
       "      <td>4.318070</td>\n",
       "      <td>0</td>\n",
       "      <td>0.030534</td>\n",
       "      <td>0.970950</td>\n",
       "      <td>0.706079</td>\n",
       "      <td>0.023989</td>\n",
       "      <td>0.033150</td>\n",
       "      <td>87.749712</td>\n",
       "      <td>87.749712</td>\n",
       "      <td>65.231357</td>\n",
       "    </tr>\n",
       "    <tr>\n",
       "      <th>4</th>\n",
       "      <td>-61.838703</td>\n",
       "      <td>-13.254427</td>\n",
       "      <td>-46.659519</td>\n",
       "      <td>73.454514</td>\n",
       "      <td>-19.035461</td>\n",
       "      <td>-67.522636</td>\n",
       "      <td>-15.043404</td>\n",
       "      <td>-1.157056</td>\n",
       "      <td>8.153454</td>\n",
       "      <td>-30.081654</td>\n",
       "      <td>...</td>\n",
       "      <td>17.939838</td>\n",
       "      <td>0</td>\n",
       "      <td>0.338943</td>\n",
       "      <td>0.793651</td>\n",
       "      <td>0.719636</td>\n",
       "      <td>-0.034721</td>\n",
       "      <td>0.208039</td>\n",
       "      <td>170.303092</td>\n",
       "      <td>170.303092</td>\n",
       "      <td>108.370147</td>\n",
       "    </tr>\n",
       "  </tbody>\n",
       "</table>\n",
       "<p>5 rows × 49 columns</p>\n",
       "</div>"
      ],
      "text/plain": [
       "       src_0      src_1      src_2      src_3      src_4      src_5  \\\n",
       "0 -17.064283 -10.055532   0.393994  25.551603  -9.125972 -23.611675   \n",
       "1 -21.492147  -6.546044 -16.283115  13.047356 -11.840694 -23.133331   \n",
       "2  -8.903676  -1.777785  -4.818856  11.285407  -1.299097  -9.526848   \n",
       "3 -25.316391  -2.162553 -20.510807  50.711380  -2.177092 -35.773155   \n",
       "4 -61.838703 -13.254427 -46.659519  73.454514 -19.035461 -67.522636   \n",
       "\n",
       "       src_6     src_7      src_8      src_9  ...     tgt_19  label  \\\n",
       "0 -10.641783  7.163278  11.128324  -4.329561  ...   6.350686      0   \n",
       "1   4.215028 -7.276629  -3.365286  -8.880898  ...   6.933429      0   \n",
       "2  -1.868891 -0.841373  -2.353654   0.279226  ...  12.839601      0   \n",
       "3  -7.721570 -2.447480   8.376177 -18.085226  ...   4.318070      0   \n",
       "4 -15.043404 -1.157056   8.153454 -30.081654  ...  17.939838      0   \n",
       "\n",
       "   syntactic_diff  plus_diff  src_tgt_angle  src_angle_to_origin  \\\n",
       "0        0.026744   0.875383       0.707449             0.071583   \n",
       "1        0.501418   0.523810       0.704835            -0.238665   \n",
       "2        0.276945   0.676357       0.672991             0.151396   \n",
       "3        0.030534   0.970950       0.706079             0.023989   \n",
       "4        0.338943   0.793651       0.719636            -0.034721   \n",
       "\n",
       "   tgt_angle_to_origin  src_veclen  tgt_veclen  src_tgt_veclen  \n",
       "0            -0.031665   59.614148   59.614148       36.082846  \n",
       "1             0.090791   50.622716   50.622716       30.538804  \n",
       "2            -0.058073   28.835454   28.835454       37.069847  \n",
       "3             0.033150   87.749712   87.749712       65.231357  \n",
       "4             0.208039  170.303092  170.303092      108.370147  \n",
       "\n",
       "[5 rows x 49 columns]"
      ]
     },
     "execution_count": 6,
     "metadata": {},
     "output_type": "execute_result"
    }
   ],
   "source": [
    "train_final.head()"
   ]
  },
  {
   "cell_type": "code",
   "execution_count": null,
   "metadata": {
    "scrolled": true
   },
   "outputs": [],
   "source": []
  },
  {
   "cell_type": "code",
   "execution_count": 7,
   "metadata": {},
   "outputs": [
    {
     "data": {
      "text/html": [
       "<div>\n",
       "<style scoped>\n",
       "    .dataframe tbody tr th:only-of-type {\n",
       "        vertical-align: middle;\n",
       "    }\n",
       "\n",
       "    .dataframe tbody tr th {\n",
       "        vertical-align: top;\n",
       "    }\n",
       "\n",
       "    .dataframe thead th {\n",
       "        text-align: right;\n",
       "    }\n",
       "</style>\n",
       "<table border=\"1\" class=\"dataframe\">\n",
       "  <thead>\n",
       "    <tr style=\"text-align: right;\">\n",
       "      <th></th>\n",
       "      <th>src_0</th>\n",
       "      <th>src_1</th>\n",
       "      <th>src_2</th>\n",
       "      <th>src_3</th>\n",
       "      <th>src_4</th>\n",
       "      <th>src_5</th>\n",
       "      <th>src_6</th>\n",
       "      <th>src_7</th>\n",
       "      <th>src_8</th>\n",
       "      <th>src_9</th>\n",
       "      <th>...</th>\n",
       "      <th>tgt_19</th>\n",
       "      <th>label</th>\n",
       "      <th>syntactic_diff</th>\n",
       "      <th>plus_diff</th>\n",
       "      <th>src_tgt_angle</th>\n",
       "      <th>src_angle_to_origin</th>\n",
       "      <th>tgt_angle_to_origin</th>\n",
       "      <th>src_veclen</th>\n",
       "      <th>tgt_veclen</th>\n",
       "      <th>src_tgt_veclen</th>\n",
       "    </tr>\n",
       "  </thead>\n",
       "  <tbody>\n",
       "    <tr>\n",
       "      <th>0</th>\n",
       "      <td>-17.672264</td>\n",
       "      <td>-2.321059</td>\n",
       "      <td>-10.313601</td>\n",
       "      <td>23.924620</td>\n",
       "      <td>-10.107539</td>\n",
       "      <td>-24.220657</td>\n",
       "      <td>-3.778371</td>\n",
       "      <td>2.022627</td>\n",
       "      <td>-5.327540</td>\n",
       "      <td>-2.105007</td>\n",
       "      <td>...</td>\n",
       "      <td>5.424208</td>\n",
       "      <td>0.0</td>\n",
       "      <td>0.000000</td>\n",
       "      <td>0.000000</td>\n",
       "      <td>0.702668</td>\n",
       "      <td>0.064826</td>\n",
       "      <td>0.144350</td>\n",
       "      <td>61.919459</td>\n",
       "      <td>61.919459</td>\n",
       "      <td>38.749513</td>\n",
       "    </tr>\n",
       "    <tr>\n",
       "      <th>1</th>\n",
       "      <td>-28.671673</td>\n",
       "      <td>2.266419</td>\n",
       "      <td>-21.327917</td>\n",
       "      <td>47.528999</td>\n",
       "      <td>-7.350877</td>\n",
       "      <td>-47.258728</td>\n",
       "      <td>-0.585618</td>\n",
       "      <td>1.518446</td>\n",
       "      <td>-11.963524</td>\n",
       "      <td>9.815888</td>\n",
       "      <td>...</td>\n",
       "      <td>1.779547</td>\n",
       "      <td>0.0</td>\n",
       "      <td>0.000000</td>\n",
       "      <td>0.000000</td>\n",
       "      <td>0.681411</td>\n",
       "      <td>0.229226</td>\n",
       "      <td>-0.065447</td>\n",
       "      <td>121.530913</td>\n",
       "      <td>121.530913</td>\n",
       "      <td>96.930273</td>\n",
       "    </tr>\n",
       "    <tr>\n",
       "      <th>2</th>\n",
       "      <td>-9.154440</td>\n",
       "      <td>-1.892008</td>\n",
       "      <td>-1.602460</td>\n",
       "      <td>18.292416</td>\n",
       "      <td>-6.537909</td>\n",
       "      <td>-20.146320</td>\n",
       "      <td>-7.018548</td>\n",
       "      <td>-0.323896</td>\n",
       "      <td>2.538702</td>\n",
       "      <td>1.453791</td>\n",
       "      <td>...</td>\n",
       "      <td>0.903993</td>\n",
       "      <td>0.0</td>\n",
       "      <td>0.258832</td>\n",
       "      <td>0.724123</td>\n",
       "      <td>0.681260</td>\n",
       "      <td>0.173810</td>\n",
       "      <td>-0.094636</td>\n",
       "      <td>50.458095</td>\n",
       "      <td>50.458095</td>\n",
       "      <td>45.064042</td>\n",
       "    </tr>\n",
       "    <tr>\n",
       "      <th>3</th>\n",
       "      <td>-105.939461</td>\n",
       "      <td>-37.708668</td>\n",
       "      <td>-101.274590</td>\n",
       "      <td>123.223320</td>\n",
       "      <td>-36.446198</td>\n",
       "      <td>-122.962936</td>\n",
       "      <td>-29.627914</td>\n",
       "      <td>21.263309</td>\n",
       "      <td>21.885609</td>\n",
       "      <td>-55.581734</td>\n",
       "      <td>...</td>\n",
       "      <td>1.140382</td>\n",
       "      <td>0.0</td>\n",
       "      <td>0.000000</td>\n",
       "      <td>0.000000</td>\n",
       "      <td>0.665954</td>\n",
       "      <td>-0.036838</td>\n",
       "      <td>0.125621</td>\n",
       "      <td>307.268134</td>\n",
       "      <td>307.268134</td>\n",
       "      <td>292.921912</td>\n",
       "    </tr>\n",
       "    <tr>\n",
       "      <th>4</th>\n",
       "      <td>-6.683091</td>\n",
       "      <td>-2.434324</td>\n",
       "      <td>-3.105592</td>\n",
       "      <td>8.438269</td>\n",
       "      <td>-4.042809</td>\n",
       "      <td>-8.083515</td>\n",
       "      <td>-0.362558</td>\n",
       "      <td>-0.268136</td>\n",
       "      <td>0.716146</td>\n",
       "      <td>-1.310355</td>\n",
       "      <td>...</td>\n",
       "      <td>11.153954</td>\n",
       "      <td>0.0</td>\n",
       "      <td>0.193853</td>\n",
       "      <td>0.671010</td>\n",
       "      <td>0.713391</td>\n",
       "      <td>0.048086</td>\n",
       "      <td>0.201775</td>\n",
       "      <td>19.052707</td>\n",
       "      <td>19.052707</td>\n",
       "      <td>35.182968</td>\n",
       "    </tr>\n",
       "  </tbody>\n",
       "</table>\n",
       "<p>5 rows × 49 columns</p>\n",
       "</div>"
      ],
      "text/plain": [
       "        src_0      src_1       src_2       src_3      src_4       src_5  \\\n",
       "0  -17.672264  -2.321059  -10.313601   23.924620 -10.107539  -24.220657   \n",
       "1  -28.671673   2.266419  -21.327917   47.528999  -7.350877  -47.258728   \n",
       "2   -9.154440  -1.892008   -1.602460   18.292416  -6.537909  -20.146320   \n",
       "3 -105.939461 -37.708668 -101.274590  123.223320 -36.446198 -122.962936   \n",
       "4   -6.683091  -2.434324   -3.105592    8.438269  -4.042809   -8.083515   \n",
       "\n",
       "       src_6      src_7      src_8      src_9  ...     tgt_19  label  \\\n",
       "0  -3.778371   2.022627  -5.327540  -2.105007  ...   5.424208    0.0   \n",
       "1  -0.585618   1.518446 -11.963524   9.815888  ...   1.779547    0.0   \n",
       "2  -7.018548  -0.323896   2.538702   1.453791  ...   0.903993    0.0   \n",
       "3 -29.627914  21.263309  21.885609 -55.581734  ...   1.140382    0.0   \n",
       "4  -0.362558  -0.268136   0.716146  -1.310355  ...  11.153954    0.0   \n",
       "\n",
       "   syntactic_diff  plus_diff  src_tgt_angle  src_angle_to_origin  \\\n",
       "0        0.000000   0.000000       0.702668             0.064826   \n",
       "1        0.000000   0.000000       0.681411             0.229226   \n",
       "2        0.258832   0.724123       0.681260             0.173810   \n",
       "3        0.000000   0.000000       0.665954            -0.036838   \n",
       "4        0.193853   0.671010       0.713391             0.048086   \n",
       "\n",
       "   tgt_angle_to_origin  src_veclen  tgt_veclen  src_tgt_veclen  \n",
       "0             0.144350   61.919459   61.919459       38.749513  \n",
       "1            -0.065447  121.530913  121.530913       96.930273  \n",
       "2            -0.094636   50.458095   50.458095       45.064042  \n",
       "3             0.125621  307.268134  307.268134      292.921912  \n",
       "4             0.201775   19.052707   19.052707       35.182968  \n",
       "\n",
       "[5 rows x 49 columns]"
      ]
     },
     "execution_count": 7,
     "metadata": {},
     "output_type": "execute_result"
    }
   ],
   "source": [
    "test_final.head()"
   ]
  },
  {
   "cell_type": "code",
   "execution_count": 8,
   "metadata": {},
   "outputs": [],
   "source": [
    "train_final = train_final.loc[(train_final.plus_diff > 0.8)].append(train_final.loc[train_final.label==1])"
   ]
  },
  {
   "cell_type": "code",
   "execution_count": null,
   "metadata": {},
   "outputs": [],
   "source": []
  },
  {
   "cell_type": "code",
   "execution_count": 9,
   "metadata": {},
   "outputs": [
    {
     "ename": "NameError",
     "evalue": "name 'train' is not defined",
     "output_type": "error",
     "traceback": [
      "\u001b[1;31m---------------------------------------------------------------------------\u001b[0m",
      "\u001b[1;31mNameError\u001b[0m                                 Traceback (most recent call last)",
      "\u001b[1;32m<ipython-input-9-452534a05f7f>\u001b[0m in \u001b[0;36m<module>\u001b[1;34m\u001b[0m\n\u001b[1;32m----> 1\u001b[1;33m \u001b[0mlen\u001b[0m\u001b[1;33m(\u001b[0m\u001b[0mtrain\u001b[0m\u001b[1;33m.\u001b[0m\u001b[0mloc\u001b[0m\u001b[1;33m[\u001b[0m\u001b[0mtrain\u001b[0m\u001b[1;33m.\u001b[0m\u001b[0mlabel\u001b[0m\u001b[1;33m==\u001b[0m\u001b[1;36m1\u001b[0m\u001b[1;33m]\u001b[0m\u001b[1;33m)\u001b[0m\u001b[1;33m\u001b[0m\u001b[1;33m\u001b[0m\u001b[0m\n\u001b[0m",
      "\u001b[1;31mNameError\u001b[0m: name 'train' is not defined"
     ]
    }
   ],
   "source": [
    "len(train.loc[train.label==1])"
   ]
  },
  {
   "cell_type": "markdown",
   "metadata": {},
   "source": [
    "#### Alternative 1: Sample the training data manually."
   ]
  },
  {
   "cell_type": "code",
   "execution_count": 16,
   "metadata": {},
   "outputs": [],
   "source": [
    "i = 0\n",
    "train = None\n",
    "while i<1:\n",
    "    i=i+1\n",
    "    a = train_final.loc[train_final['label']==0].sample(n=20000, replace=True)\n",
    "    if train is None:\n",
    "        train = a\n",
    "    else:\n",
    "        train = train.append(a, ignore_index=True)\n",
    "\n",
    "b = train_final.loc[train_final['label']==1].sample(n=5000, replace=True)\n",
    "train = train.append(b, ignore_index=True)"
   ]
  },
  {
   "cell_type": "code",
   "execution_count": 19,
   "metadata": {},
   "outputs": [
    {
     "data": {
      "text/plain": [
       "100614"
      ]
     },
     "execution_count": 19,
     "metadata": {},
     "output_type": "execute_result"
    }
   ],
   "source": [
    "len(train)"
   ]
  },
  {
   "cell_type": "code",
   "execution_count": null,
   "metadata": {},
   "outputs": [],
   "source": []
  },
  {
   "cell_type": "markdown",
   "metadata": {},
   "source": [
    "#### Alternative 2: Use all available data for training."
   ]
  },
  {
   "cell_type": "code",
   "execution_count": 10,
   "metadata": {},
   "outputs": [],
   "source": [
    "train_final = train_final#[['src_tgt_angle','label','src_tgt_veclen','src_angle_to_origin','tgt_angle_to_origin']]\n",
    "test_final = test_final#[['src_tgt_angle','label','src_tgt_veclen','src_angle_to_origin','tgt_angle_to_origin']]\n",
    "train = train_final"
   ]
  },
  {
   "cell_type": "markdown",
   "metadata": {},
   "source": [
    "## Prepare train/test/prediction data"
   ]
  },
  {
   "cell_type": "code",
   "execution_count": 17,
   "metadata": {},
   "outputs": [],
   "source": [
    "x_train = train.loc[:, train.columns != 'label']\n",
    "y_train = train['label']\n",
    "\n",
    "x_test1 = test_final.loc[:, test_final.columns != 'label']\n",
    "y_test1 = test_final['label']\n"
   ]
  },
  {
   "cell_type": "code",
   "execution_count": null,
   "metadata": {},
   "outputs": [],
   "source": []
  },
  {
   "cell_type": "markdown",
   "metadata": {},
   "source": [
    "## Prediction"
   ]
  },
  {
   "cell_type": "code",
   "execution_count": 18,
   "metadata": {},
   "outputs": [],
   "source": [
    "from sklearn.linear_model import LogisticRegression\n",
    "from sklearn.metrics import classification_report, confusion_matrix\n",
    "from sklearn.ensemble import RandomForestClassifier\n",
    "from pandas_ml import ConfusionMatrix"
   ]
  },
  {
   "cell_type": "code",
   "execution_count": 19,
   "metadata": {},
   "outputs": [],
   "source": [
    "model = RandomForestClassifier(n_estimators=10, max_depth=5, random_state=0) #LogisticRegression(solver='lbfgs')\n",
    "model = model.fit(x_train[['src_tgt_angle','src_tgt_veclen']], y_train)\n",
    "syntactic_model = LogisticRegression(solver='lbfgs')#RandomForestClassifier(n_estimators=100, max_depth=10, random_state=0)\n",
    "syntactic_model = syntactic_model.fit(pd.DataFrame(x_train[['syntactic_diff','plus_diff']]), y_train)"
   ]
  },
  {
   "cell_type": "code",
   "execution_count": 20,
   "metadata": {},
   "outputs": [
    {
     "name": "stdout",
     "output_type": "stream",
     "text": [
      "Results on simple test:\n",
      "              precision    recall  f1-score   support\n",
      "\n",
      "       false       0.89      1.00      0.94      2148\n",
      "        true       0.00      0.00      0.00       257\n",
      "\n",
      "   micro avg       0.89      0.89      0.89      2405\n",
      "   macro avg       0.45      0.50      0.47      2405\n",
      "weighted avg       0.80      0.89      0.84      2405\n",
      "\n",
      "Predicted  False  True  __all__\n",
      "Actual                         \n",
      "False       2147     1     2148\n",
      "True         257     0      257\n",
      "__all__     2404     1     2405\n",
      "\n",
      "\n",
      "--------------------------------------------------------------\n",
      "\n",
      "Syntactic matching results on simple test:\n",
      "              precision    recall  f1-score   support\n",
      "\n",
      "       false       0.97      0.43      0.59      2148\n",
      "        true       0.16      0.89      0.27       257\n",
      "\n",
      "   micro avg       0.48      0.48      0.48      2405\n",
      "   macro avg       0.56      0.66      0.43      2405\n",
      "weighted avg       0.88      0.48      0.56      2405\n",
      "\n",
      "Predicted  False  True  __all__\n",
      "Actual                         \n",
      "False        921  1227     2148\n",
      "True          27   230      257\n",
      "__all__      948  1457     2405\n"
     ]
    }
   ],
   "source": [
    "prediction = model.predict(x_test1[['src_tgt_angle','src_tgt_veclen']])\n",
    "result = classification_report(np.array(y_test1), prediction, target_names=['false','true'])\n",
    "print(\"Results on simple test:\")\n",
    "print(result)\n",
    "print(ConfusionMatrix( np.array(y_test1), prediction))\n",
    "print(\"\\n\\n--------------------------------------------------------------\\n\")\n",
    "\n",
    "prediction = syntactic_model.predict(pd.DataFrame(x_test1[['syntactic_diff','plus_diff']]))\n",
    "result = classification_report(np.array(y_test1), prediction, target_names=['false','true'])\n",
    "print(\"Syntactic matching results on simple test:\")\n",
    "print(result)\n",
    "print(ConfusionMatrix(np.array(y_test1), prediction))"
   ]
  },
  {
   "cell_type": "code",
   "execution_count": 11,
   "metadata": {},
   "outputs": [
    {
     "ename": "NameError",
     "evalue": "name 'test' is not defined",
     "output_type": "error",
     "traceback": [
      "\u001b[1;31m---------------------------------------------------------------------------\u001b[0m",
      "\u001b[1;31mNameError\u001b[0m                                 Traceback (most recent call last)",
      "\u001b[1;32m<ipython-input-11-9f9fe34d3e10>\u001b[0m in \u001b[0;36m<module>\u001b[1;34m\u001b[0m\n\u001b[1;32m----> 1\u001b[1;33m \u001b[0mtest_plus\u001b[0m \u001b[1;33m=\u001b[0m \u001b[0mtest\u001b[0m\u001b[1;33m.\u001b[0m\u001b[0mloc\u001b[0m\u001b[1;33m[\u001b[0m\u001b[1;33m(\u001b[0m\u001b[0mtest\u001b[0m\u001b[1;33m.\u001b[0m\u001b[0msyntactic_diff\u001b[0m\u001b[1;33m>\u001b[0m\u001b[1;36m0.69\u001b[0m\u001b[1;33m)\u001b[0m \u001b[1;33m&\u001b[0m \u001b[1;33m(\u001b[0m\u001b[0mtest\u001b[0m\u001b[1;33m.\u001b[0m\u001b[0mlabel\u001b[0m\u001b[1;33m==\u001b[0m\u001b[1;36m1\u001b[0m\u001b[1;33m)\u001b[0m\u001b[1;33m]\u001b[0m\u001b[1;33m\u001b[0m\u001b[1;33m\u001b[0m\u001b[0m\n\u001b[0m\u001b[0;32m      2\u001b[0m \u001b[0mtest_plus\u001b[0m \u001b[1;33m=\u001b[0m \u001b[0mtest\u001b[0m\u001b[1;33m.\u001b[0m\u001b[0mappend\u001b[0m\u001b[1;33m(\u001b[0m\u001b[0mtest\u001b[0m\u001b[1;33m.\u001b[0m\u001b[0mloc\u001b[0m\u001b[1;33m[\u001b[0m\u001b[1;33m(\u001b[0m\u001b[0mtest\u001b[0m\u001b[1;33m.\u001b[0m\u001b[0msyntactic_diff\u001b[0m\u001b[1;33m<\u001b[0m\u001b[1;36m0.69\u001b[0m\u001b[1;33m)\u001b[0m \u001b[1;33m&\u001b[0m \u001b[1;33m(\u001b[0m\u001b[0mtest\u001b[0m\u001b[1;33m.\u001b[0m\u001b[0mlabel\u001b[0m\u001b[1;33m==\u001b[0m\u001b[1;36m0\u001b[0m\u001b[1;33m)\u001b[0m\u001b[1;33m]\u001b[0m\u001b[1;33m,\u001b[0m \u001b[0mignore_index\u001b[0m\u001b[1;33m=\u001b[0m\u001b[1;32mTrue\u001b[0m\u001b[1;33m)\u001b[0m\u001b[1;33m\u001b[0m\u001b[1;33m\u001b[0m\u001b[0m\n\u001b[0;32m      3\u001b[0m \u001b[0mx_test_plus\u001b[0m \u001b[1;33m=\u001b[0m \u001b[0mtest_plus\u001b[0m\u001b[1;33m.\u001b[0m\u001b[0mloc\u001b[0m\u001b[1;33m[\u001b[0m\u001b[1;33m:\u001b[0m\u001b[1;33m,\u001b[0m \u001b[0mtest_plus\u001b[0m\u001b[1;33m.\u001b[0m\u001b[0mcolumns\u001b[0m \u001b[1;33m!=\u001b[0m \u001b[1;34m'label'\u001b[0m\u001b[1;33m]\u001b[0m\u001b[1;33m\u001b[0m\u001b[1;33m\u001b[0m\u001b[0m\n\u001b[0;32m      4\u001b[0m \u001b[0my_test_plus\u001b[0m \u001b[1;33m=\u001b[0m \u001b[0mtest_plus\u001b[0m\u001b[1;33m[\u001b[0m\u001b[1;34m'label'\u001b[0m\u001b[1;33m]\u001b[0m\u001b[1;33m\u001b[0m\u001b[1;33m\u001b[0m\u001b[0m\n\u001b[0;32m      5\u001b[0m \u001b[0mprediction_plus\u001b[0m \u001b[1;33m=\u001b[0m \u001b[0mmodel\u001b[0m\u001b[1;33m.\u001b[0m\u001b[0mpredict\u001b[0m\u001b[1;33m(\u001b[0m\u001b[0mx_test_plus\u001b[0m\u001b[1;33m)\u001b[0m\u001b[1;33m\u001b[0m\u001b[1;33m\u001b[0m\u001b[0m\n",
      "\u001b[1;31mNameError\u001b[0m: name 'test' is not defined"
     ]
    }
   ],
   "source": [
    "test_plus = test.loc[(test.syntactic_diff>0.69) & (test.label==1)]\n",
    "test_plus = test.append(test.loc[(test.syntactic_diff<0.69) & (test.label==0)], ignore_index=True)\n",
    "x_test_plus = test_plus.loc[:, test_plus.columns != 'label']\n",
    "y_test_plus = test_plus['label']\n",
    "prediction_plus = model.predict(x_test_plus)\n",
    "result_plus = classification_report(prediction_plus, np.array(y_test_plus), target_names=['false','true'])\n",
    "print(\"Results+ on simple test:\")\n",
    "print(result_plus)\n",
    "print(ConfusionMatrix(prediction_plus, np.array(y_test_plus)))\n",
    "print(\"\\n\\n--------------------------------------------------------------\\n\")\n",
    "\n",
    "prediction_plus = syntactic_model.predict(pd.DataFrame(x_test_plus['syntactic_diff']))\n",
    "result_plus = classification_report(prediction_plus, np.array(y_test_plus), target_names=['false','true'])\n",
    "print(\"Syntactic matching results+ on simple test:\")\n",
    "print(result_plus)\n",
    "print(ConfusionMatrix(prediction_plus, np.array(y_test_plus)))"
   ]
  },
  {
   "cell_type": "code",
   "execution_count": null,
   "metadata": {},
   "outputs": [],
   "source": []
  },
  {
   "cell_type": "code",
   "execution_count": null,
   "metadata": {},
   "outputs": [],
   "source": []
  },
  {
   "cell_type": "code",
   "execution_count": 16,
   "metadata": {},
   "outputs": [
    {
     "data": {
      "text/plain": [
       "array([[-6.75626284]])"
      ]
     },
     "execution_count": 16,
     "metadata": {},
     "output_type": "execute_result"
    }
   ],
   "source": [
    "syntactic_model.coef_"
   ]
  },
  {
   "cell_type": "code",
   "execution_count": 17,
   "metadata": {},
   "outputs": [
    {
     "data": {
      "text/plain": [
       "array([2.97726496])"
      ]
     },
     "execution_count": 17,
     "metadata": {},
     "output_type": "execute_result"
    }
   ],
   "source": [
    "syntactic_model.intercept_"
   ]
  },
  {
   "cell_type": "code",
   "execution_count": null,
   "metadata": {},
   "outputs": [],
   "source": []
  },
  {
   "cell_type": "code",
   "execution_count": null,
   "metadata": {},
   "outputs": [],
   "source": []
  }
 ],
 "metadata": {
  "kernelspec": {
   "display_name": "Python 3",
   "language": "python",
   "name": "python3"
  },
  "language_info": {
   "codemirror_mode": {
    "name": "ipython",
    "version": 3
   },
   "file_extension": ".py",
   "mimetype": "text/x-python",
   "name": "python",
   "nbconvert_exporter": "python",
   "pygments_lexer": "ipython3",
   "version": "3.6.8"
  }
 },
 "nbformat": 4,
 "nbformat_minor": 2
}
