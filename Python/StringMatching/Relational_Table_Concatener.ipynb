{
 "cells": [
  {
   "cell_type": "code",
   "execution_count": 6,
   "metadata": {},
   "outputs": [
    {
     "data": {
      "text/html": [
       "<div>\n",
       "<style scoped>\n",
       "    .dataframe tbody tr th:only-of-type {\n",
       "        vertical-align: middle;\n",
       "    }\n",
       "\n",
       "    .dataframe tbody tr th {\n",
       "        vertical-align: top;\n",
       "    }\n",
       "\n",
       "    .dataframe thead th {\n",
       "        text-align: right;\n",
       "    }\n",
       "</style>\n",
       "<table border=\"1\" class=\"dataframe\">\n",
       "  <thead>\n",
       "    <tr style=\"text-align: right;\">\n",
       "      <th></th>\n",
       "      <th>V137.id;MBRSH;</th>\n",
       "      <th>T023.id;MATKL;</th>\n",
       "      <th>T179.id;PRDHA;</th>\n",
       "      <th>MARA_FERT.MAKTX;;</th>\n",
       "      <th>MARA_FERT.id;id;x</th>\n",
       "    </tr>\n",
       "  </thead>\n",
       "  <tbody>\n",
       "    <tr>\n",
       "      <th>0</th>\n",
       "      <td>M</td>\n",
       "      <td>000000000</td>\n",
       "      <td>GEDD2ZZ9999</td>\n",
       "      <td>Diamond core DCF 60/350</td>\n",
       "      <td>94</td>\n",
       "    </tr>\n",
       "    <tr>\n",
       "      <th>1</th>\n",
       "      <td>M</td>\n",
       "      <td>000000000</td>\n",
       "      <td>GFXV1BD0101</td>\n",
       "      <td>Powder-actuated tool DX 450 HLA</td>\n",
       "      <td>683</td>\n",
       "    </tr>\n",
       "    <tr>\n",
       "      <th>2</th>\n",
       "      <td>M</td>\n",
       "      <td>$N0501309</td>\n",
       "      <td>GFXV4AA0101</td>\n",
       "      <td>Fastener guide 45/F2</td>\n",
       "      <td>790</td>\n",
       "    </tr>\n",
       "    <tr>\n",
       "      <th>3</th>\n",
       "      <td>M</td>\n",
       "      <td>$T9994722</td>\n",
       "      <td>GEEY3AZ9999</td>\n",
       "      <td>Insert shaft TE-FY-SAS 8-16</td>\n",
       "      <td>1940</td>\n",
       "    </tr>\n",
       "    <tr>\n",
       "      <th>4</th>\n",
       "      <td>M</td>\n",
       "      <td>$N0501316</td>\n",
       "      <td>GFXV4AA0101</td>\n",
       "      <td>Baseplate 2/S21</td>\n",
       "      <td>2371</td>\n",
       "    </tr>\n",
       "  </tbody>\n",
       "</table>\n",
       "</div>"
      ],
      "text/plain": [
       "  V137.id;MBRSH; T023.id;MATKL; T179.id;PRDHA;  \\\n",
       "0              M      000000000    GEDD2ZZ9999   \n",
       "1              M      000000000    GFXV1BD0101   \n",
       "2              M      $N0501309    GFXV4AA0101   \n",
       "3              M      $T9994722    GEEY3AZ9999   \n",
       "4              M      $N0501316    GFXV4AA0101   \n",
       "\n",
       "                 MARA_FERT.MAKTX;;  MARA_FERT.id;id;x  \n",
       "0          Diamond core DCF 60/350                 94  \n",
       "1  Powder-actuated tool DX 450 HLA                683  \n",
       "2             Fastener guide 45/F2                790  \n",
       "3      Insert shaft TE-FY-SAS 8-16               1940  \n",
       "4                  Baseplate 2/S21               2371  "
      ]
     },
     "execution_count": 6,
     "metadata": {},
     "output_type": "execute_result"
    }
   ],
   "source": [
    "import pandas as pd\n",
    "name_column1 = \"MARA_FERT.MAKTX;;\"\n",
    "name_column2 = 'Products.name;;'\n",
    "id_column1 = \"MARA_FERT.id;id;x\"\n",
    "id_column2 = \"Products.id;id;x\"\n",
    "df1 = pd.read_csv('C:/Users/D072202/RData2Graph/rdata2graph/data/sap_hilti_data/MARA_FERT', encoding=\"ISO-8859-1\")\n",
    "df2 = pd.read_csv('C:/Users/D072202/RData2Graph/rdata2graph/data/sap_hilti_data/Products', encoding=\"ISO-8859-1\")\n",
    "df1.head()"
   ]
  },
  {
   "cell_type": "code",
   "execution_count": 7,
   "metadata": {},
   "outputs": [
    {
     "data": {
      "text/plain": [
       "['V137.id;MBRSH;', 'T023.id;MATKL;', 'T179.id;PRDHA;', 'MARA_FERT.MAKTX;;']"
      ]
     },
     "execution_count": 7,
     "metadata": {},
     "output_type": "execute_result"
    }
   ],
   "source": [
    "columns_to_merge = [col for col in df1.columns if col not in [id_column1] ]\n",
    "columns_to_merge"
   ]
  },
  {
   "cell_type": "code",
   "execution_count": 8,
   "metadata": {},
   "outputs": [
    {
     "data": {
      "text/html": [
       "<div>\n",
       "<style scoped>\n",
       "    .dataframe tbody tr th:only-of-type {\n",
       "        vertical-align: middle;\n",
       "    }\n",
       "\n",
       "    .dataframe tbody tr th {\n",
       "        vertical-align: top;\n",
       "    }\n",
       "\n",
       "    .dataframe thead th {\n",
       "        text-align: right;\n",
       "    }\n",
       "</style>\n",
       "<table border=\"1\" class=\"dataframe\">\n",
       "  <thead>\n",
       "    <tr style=\"text-align: right;\">\n",
       "      <th></th>\n",
       "      <th>MARA_FERT.id;id;x</th>\n",
       "      <th>MARA_FERT.MAKTX;;</th>\n",
       "    </tr>\n",
       "  </thead>\n",
       "  <tbody>\n",
       "    <tr>\n",
       "      <th>0</th>\n",
       "      <td>94</td>\n",
       "      <td>M000000000GEDD2ZZ9999Diamond core DCF 60/350</td>\n",
       "    </tr>\n",
       "    <tr>\n",
       "      <th>1</th>\n",
       "      <td>683</td>\n",
       "      <td>M000000000GFXV1BD0101Powder-actuated tool DX 4...</td>\n",
       "    </tr>\n",
       "    <tr>\n",
       "      <th>2</th>\n",
       "      <td>790</td>\n",
       "      <td>M$N0501309GFXV4AA0101Fastener guide 45/F2</td>\n",
       "    </tr>\n",
       "    <tr>\n",
       "      <th>3</th>\n",
       "      <td>1940</td>\n",
       "      <td>M$T9994722GEEY3AZ9999Insert shaft TE-FY-SAS 8-16</td>\n",
       "    </tr>\n",
       "    <tr>\n",
       "      <th>4</th>\n",
       "      <td>2371</td>\n",
       "      <td>M$N0501316GFXV4AA0101Baseplate 2/S21</td>\n",
       "    </tr>\n",
       "  </tbody>\n",
       "</table>\n",
       "</div>"
      ],
      "text/plain": [
       "   MARA_FERT.id;id;x                                  MARA_FERT.MAKTX;;\n",
       "0                 94       M000000000GEDD2ZZ9999Diamond core DCF 60/350\n",
       "1                683  M000000000GFXV1BD0101Powder-actuated tool DX 4...\n",
       "2                790          M$N0501309GFXV4AA0101Fastener guide 45/F2\n",
       "3               1940   M$T9994722GEEY3AZ9999Insert shaft TE-FY-SAS 8-16\n",
       "4               2371               M$N0501316GFXV4AA0101Baseplate 2/S21"
      ]
     },
     "execution_count": 8,
     "metadata": {},
     "output_type": "execute_result"
    }
   ],
   "source": [
    "x = df1[columns_to_merge[0]].astype(str)\n",
    "for i in range(1,len(columns_to_merge)):\n",
    "    x = x + df1[columns_to_merge[i]].astype(str)\n",
    "x = pd.concat([df1[[id_column1]], x], axis=1, ignore_index=True)\n",
    "x.columns = [id_column1, name_column1]\n",
    "x.to_csv(path_or_buf='C:/Users/D072202/RData2Graph/rdata2graph/data/sap_hilti_data/MARA_FERT_flattened',sep=',')\n",
    "x.head()"
   ]
  },
  {
   "cell_type": "code",
   "execution_count": 9,
   "metadata": {},
   "outputs": [
    {
     "data": {
      "text/plain": [
       "['Products.pid;;',\n",
       " 'Categories.id;cid;',\n",
       " 'Products.name;;',\n",
       " 'Products.description;;']"
      ]
     },
     "execution_count": 9,
     "metadata": {},
     "output_type": "execute_result"
    }
   ],
   "source": [
    "columns_to_merge = [col for col in df2.columns if col not in [id_column2] ]\n",
    "columns_to_merge"
   ]
  },
  {
   "cell_type": "code",
   "execution_count": 10,
   "metadata": {},
   "outputs": [
    {
     "data": {
      "text/html": [
       "<div>\n",
       "<style scoped>\n",
       "    .dataframe tbody tr th:only-of-type {\n",
       "        vertical-align: middle;\n",
       "    }\n",
       "\n",
       "    .dataframe tbody tr th {\n",
       "        vertical-align: top;\n",
       "    }\n",
       "\n",
       "    .dataframe thead th {\n",
       "        text-align: right;\n",
       "    }\n",
       "</style>\n",
       "<table border=\"1\" class=\"dataframe\">\n",
       "  <thead>\n",
       "    <tr style=\"text-align: right;\">\n",
       "      <th></th>\n",
       "      <th>Products.id;id;x</th>\n",
       "      <th>Products.name;;</th>\n",
       "    </tr>\n",
       "  </thead>\n",
       "  <tbody>\n",
       "    <tr>\n",
       "      <th>0</th>\n",
       "      <td>1</td>\n",
       "      <td>3490213.023AG500-A22 (5/8\")22V cordless angle ...</td>\n",
       "    </tr>\n",
       "    <tr>\n",
       "      <th>1</th>\n",
       "      <td>2</td>\n",
       "      <td>3554719.023AG 600-A36Powerful 36V cordless ang...</td>\n",
       "    </tr>\n",
       "    <tr>\n",
       "      <th>2</th>\n",
       "      <td>3</td>\n",
       "      <td>nan326T W diesW dies for service entrance conn...</td>\n",
       "    </tr>\n",
       "    <tr>\n",
       "      <th>3</th>\n",
       "      <td>4</td>\n",
       "      <td>nan22PR 30-HVSG A12Indoor rotating laser for l...</td>\n",
       "    </tr>\n",
       "    <tr>\n",
       "      <th>4</th>\n",
       "      <td>5</td>\n",
       "      <td>nan326T U dies aluminumU dies for aluminum con...</td>\n",
       "    </tr>\n",
       "  </tbody>\n",
       "</table>\n",
       "</div>"
      ],
      "text/plain": [
       "   Products.id;id;x                                    Products.name;;\n",
       "0                 1  3490213.023AG500-A22 (5/8\")22V cordless angle ...\n",
       "1                 2  3554719.023AG 600-A36Powerful 36V cordless ang...\n",
       "2                 3  nan326T W diesW dies for service entrance conn...\n",
       "3                 4  nan22PR 30-HVSG A12Indoor rotating laser for l...\n",
       "4                 5  nan326T U dies aluminumU dies for aluminum con..."
      ]
     },
     "execution_count": 10,
     "metadata": {},
     "output_type": "execute_result"
    }
   ],
   "source": [
    "x = df2[columns_to_merge[0]].astype(str)\n",
    "for i in range(1,len(columns_to_merge)):\n",
    "    x = x + df2[columns_to_merge[i]].astype(str)\n",
    "x = pd.concat([df2[[id_column2]], x], axis=1, ignore_index=True)\n",
    "x.columns = [id_column2, name_column2]\n",
    "x.to_csv(path_or_buf='C:/Users/D072202/RData2Graph/rdata2graph/data/sap_hilti_data/Products_flattened',sep=',')\n",
    "x.head()"
   ]
  },
  {
   "cell_type": "code",
   "execution_count": null,
   "metadata": {},
   "outputs": [],
   "source": []
  },
  {
   "cell_type": "code",
   "execution_count": null,
   "metadata": {},
   "outputs": [],
   "source": []
  }
 ],
 "metadata": {
  "kernelspec": {
   "display_name": "Python 3",
   "language": "python",
   "name": "python3"
  },
  "language_info": {
   "codemirror_mode": {
    "name": "ipython",
    "version": 3
   },
   "file_extension": ".py",
   "mimetype": "text/x-python",
   "name": "python",
   "nbconvert_exporter": "python",
   "pygments_lexer": "ipython3",
   "version": "3.6.8"
  }
 },
 "nbformat": 4,
 "nbformat_minor": 2
}
